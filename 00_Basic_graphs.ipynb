{
 "cells": [
  {
   "cell_type": "code",
   "execution_count": 14,
   "metadata": {
    "colab": {},
    "colab_type": "code",
    "id": "UUeD4pRewV70"
   },
   "outputs": [],
   "source": [
    "import pandas as pd\n",
    "import numpy as np\n",
    "from bokeh.plotting import figure\n",
    "from bokeh.io import output_notebook, show\n",
    "from IPython.display import display"
   ]
  },
  {
   "cell_type": "code",
   "execution_count": 15,
   "metadata": {
    "colab": {},
    "colab_type": "code",
    "id": "-7ZMLVF5xBsa"
   },
   "outputs": [],
   "source": [
    "x = np.arange(10)\n",
    "y = np.arange(10,20)"
   ]
  },
  {
   "cell_type": "code",
   "execution_count": 16,
   "metadata": {
    "colab": {},
    "colab_type": "code",
    "id": "ITtUOyqnxSsQ"
   },
   "outputs": [
    {
     "data": {
      "text/html": [
       "\n",
       "    <div class=\"bk-root\">\n",
       "        <a href=\"https://bokeh.pydata.org\" target=\"_blank\" class=\"bk-logo bk-logo-small bk-logo-notebook\"></a>\n",
       "        <span id=\"1660\">Loading BokehJS ...</span>\n",
       "    </div>"
      ]
     },
     "metadata": {},
     "output_type": "display_data"
    },
    {
     "data": {
      "application/javascript": [
       "\n",
       "(function(root) {\n",
       "  function now() {\n",
       "    return new Date();\n",
       "  }\n",
       "\n",
       "  var force = true;\n",
       "\n",
       "  if (typeof root._bokeh_onload_callbacks === \"undefined\" || force === true) {\n",
       "    root._bokeh_onload_callbacks = [];\n",
       "    root._bokeh_is_loading = undefined;\n",
       "  }\n",
       "\n",
       "  var JS_MIME_TYPE = 'application/javascript';\n",
       "  var HTML_MIME_TYPE = 'text/html';\n",
       "  var EXEC_MIME_TYPE = 'application/vnd.bokehjs_exec.v0+json';\n",
       "  var CLASS_NAME = 'output_bokeh rendered_html';\n",
       "\n",
       "  /**\n",
       "   * Render data to the DOM node\n",
       "   */\n",
       "  function render(props, node) {\n",
       "    var script = document.createElement(\"script\");\n",
       "    node.appendChild(script);\n",
       "  }\n",
       "\n",
       "  /**\n",
       "   * Handle when an output is cleared or removed\n",
       "   */\n",
       "  function handleClearOutput(event, handle) {\n",
       "    var cell = handle.cell;\n",
       "\n",
       "    var id = cell.output_area._bokeh_element_id;\n",
       "    var server_id = cell.output_area._bokeh_server_id;\n",
       "    // Clean up Bokeh references\n",
       "    if (id != null && id in Bokeh.index) {\n",
       "      Bokeh.index[id].model.document.clear();\n",
       "      delete Bokeh.index[id];\n",
       "    }\n",
       "\n",
       "    if (server_id !== undefined) {\n",
       "      // Clean up Bokeh references\n",
       "      var cmd = \"from bokeh.io.state import curstate; print(curstate().uuid_to_server['\" + server_id + \"'].get_sessions()[0].document.roots[0]._id)\";\n",
       "      cell.notebook.kernel.execute(cmd, {\n",
       "        iopub: {\n",
       "          output: function(msg) {\n",
       "            var id = msg.content.text.trim();\n",
       "            if (id in Bokeh.index) {\n",
       "              Bokeh.index[id].model.document.clear();\n",
       "              delete Bokeh.index[id];\n",
       "            }\n",
       "          }\n",
       "        }\n",
       "      });\n",
       "      // Destroy server and session\n",
       "      var cmd = \"import bokeh.io.notebook as ion; ion.destroy_server('\" + server_id + \"')\";\n",
       "      cell.notebook.kernel.execute(cmd);\n",
       "    }\n",
       "  }\n",
       "\n",
       "  /**\n",
       "   * Handle when a new output is added\n",
       "   */\n",
       "  function handleAddOutput(event, handle) {\n",
       "    var output_area = handle.output_area;\n",
       "    var output = handle.output;\n",
       "\n",
       "    // limit handleAddOutput to display_data with EXEC_MIME_TYPE content only\n",
       "    if ((output.output_type != \"display_data\") || (!output.data.hasOwnProperty(EXEC_MIME_TYPE))) {\n",
       "      return\n",
       "    }\n",
       "\n",
       "    var toinsert = output_area.element.find(\".\" + CLASS_NAME.split(' ')[0]);\n",
       "\n",
       "    if (output.metadata[EXEC_MIME_TYPE][\"id\"] !== undefined) {\n",
       "      toinsert[toinsert.length - 1].firstChild.textContent = output.data[JS_MIME_TYPE];\n",
       "      // store reference to embed id on output_area\n",
       "      output_area._bokeh_element_id = output.metadata[EXEC_MIME_TYPE][\"id\"];\n",
       "    }\n",
       "    if (output.metadata[EXEC_MIME_TYPE][\"server_id\"] !== undefined) {\n",
       "      var bk_div = document.createElement(\"div\");\n",
       "      bk_div.innerHTML = output.data[HTML_MIME_TYPE];\n",
       "      var script_attrs = bk_div.children[0].attributes;\n",
       "      for (var i = 0; i < script_attrs.length; i++) {\n",
       "        toinsert[toinsert.length - 1].firstChild.setAttribute(script_attrs[i].name, script_attrs[i].value);\n",
       "      }\n",
       "      // store reference to server id on output_area\n",
       "      output_area._bokeh_server_id = output.metadata[EXEC_MIME_TYPE][\"server_id\"];\n",
       "    }\n",
       "  }\n",
       "\n",
       "  function register_renderer(events, OutputArea) {\n",
       "\n",
       "    function append_mime(data, metadata, element) {\n",
       "      // create a DOM node to render to\n",
       "      var toinsert = this.create_output_subarea(\n",
       "        metadata,\n",
       "        CLASS_NAME,\n",
       "        EXEC_MIME_TYPE\n",
       "      );\n",
       "      this.keyboard_manager.register_events(toinsert);\n",
       "      // Render to node\n",
       "      var props = {data: data, metadata: metadata[EXEC_MIME_TYPE]};\n",
       "      render(props, toinsert[toinsert.length - 1]);\n",
       "      element.append(toinsert);\n",
       "      return toinsert\n",
       "    }\n",
       "\n",
       "    /* Handle when an output is cleared or removed */\n",
       "    events.on('clear_output.CodeCell', handleClearOutput);\n",
       "    events.on('delete.Cell', handleClearOutput);\n",
       "\n",
       "    /* Handle when a new output is added */\n",
       "    events.on('output_added.OutputArea', handleAddOutput);\n",
       "\n",
       "    /**\n",
       "     * Register the mime type and append_mime function with output_area\n",
       "     */\n",
       "    OutputArea.prototype.register_mime_type(EXEC_MIME_TYPE, append_mime, {\n",
       "      /* Is output safe? */\n",
       "      safe: true,\n",
       "      /* Index of renderer in `output_area.display_order` */\n",
       "      index: 0\n",
       "    });\n",
       "  }\n",
       "\n",
       "  // register the mime type if in Jupyter Notebook environment and previously unregistered\n",
       "  if (root.Jupyter !== undefined) {\n",
       "    var events = require('base/js/events');\n",
       "    var OutputArea = require('notebook/js/outputarea').OutputArea;\n",
       "\n",
       "    if (OutputArea.prototype.mime_types().indexOf(EXEC_MIME_TYPE) == -1) {\n",
       "      register_renderer(events, OutputArea);\n",
       "    }\n",
       "  }\n",
       "\n",
       "  \n",
       "  if (typeof (root._bokeh_timeout) === \"undefined\" || force === true) {\n",
       "    root._bokeh_timeout = Date.now() + 5000;\n",
       "    root._bokeh_failed_load = false;\n",
       "  }\n",
       "\n",
       "  var NB_LOAD_WARNING = {'data': {'text/html':\n",
       "     \"<div style='background-color: #fdd'>\\n\"+\n",
       "     \"<p>\\n\"+\n",
       "     \"BokehJS does not appear to have successfully loaded. If loading BokehJS from CDN, this \\n\"+\n",
       "     \"may be due to a slow or bad network connection. Possible fixes:\\n\"+\n",
       "     \"</p>\\n\"+\n",
       "     \"<ul>\\n\"+\n",
       "     \"<li>re-rerun `output_notebook()` to attempt to load from CDN again, or</li>\\n\"+\n",
       "     \"<li>use INLINE resources instead, as so:</li>\\n\"+\n",
       "     \"</ul>\\n\"+\n",
       "     \"<code>\\n\"+\n",
       "     \"from bokeh.resources import INLINE\\n\"+\n",
       "     \"output_notebook(resources=INLINE)\\n\"+\n",
       "     \"</code>\\n\"+\n",
       "     \"</div>\"}};\n",
       "\n",
       "  function display_loaded() {\n",
       "    var el = document.getElementById(\"1660\");\n",
       "    if (el != null) {\n",
       "      el.textContent = \"BokehJS is loading...\";\n",
       "    }\n",
       "    if (root.Bokeh !== undefined) {\n",
       "      if (el != null) {\n",
       "        el.textContent = \"BokehJS \" + root.Bokeh.version + \" successfully loaded.\";\n",
       "      }\n",
       "    } else if (Date.now() < root._bokeh_timeout) {\n",
       "      setTimeout(display_loaded, 100)\n",
       "    }\n",
       "  }\n",
       "\n",
       "\n",
       "  function run_callbacks() {\n",
       "    try {\n",
       "      root._bokeh_onload_callbacks.forEach(function(callback) {\n",
       "        if (callback != null)\n",
       "          callback();\n",
       "      });\n",
       "    } finally {\n",
       "      delete root._bokeh_onload_callbacks\n",
       "    }\n",
       "    console.debug(\"Bokeh: all callbacks have finished\");\n",
       "  }\n",
       "\n",
       "  function load_libs(css_urls, js_urls, callback) {\n",
       "    if (css_urls == null) css_urls = [];\n",
       "    if (js_urls == null) js_urls = [];\n",
       "\n",
       "    root._bokeh_onload_callbacks.push(callback);\n",
       "    if (root._bokeh_is_loading > 0) {\n",
       "      console.debug(\"Bokeh: BokehJS is being loaded, scheduling callback at\", now());\n",
       "      return null;\n",
       "    }\n",
       "    if (js_urls == null || js_urls.length === 0) {\n",
       "      run_callbacks();\n",
       "      return null;\n",
       "    }\n",
       "    console.debug(\"Bokeh: BokehJS not loaded, scheduling load and callback at\", now());\n",
       "    root._bokeh_is_loading = css_urls.length + js_urls.length;\n",
       "\n",
       "    function on_load() {\n",
       "      root._bokeh_is_loading--;\n",
       "      if (root._bokeh_is_loading === 0) {\n",
       "        console.debug(\"Bokeh: all BokehJS libraries/stylesheets loaded\");\n",
       "        run_callbacks()\n",
       "      }\n",
       "    }\n",
       "\n",
       "    function on_error() {\n",
       "      console.error(\"failed to load \" + url);\n",
       "    }\n",
       "\n",
       "    for (var i = 0; i < css_urls.length; i++) {\n",
       "      var url = css_urls[i];\n",
       "      const element = document.createElement(\"link\");\n",
       "      element.onload = on_load;\n",
       "      element.onerror = on_error;\n",
       "      element.rel = \"stylesheet\";\n",
       "      element.type = \"text/css\";\n",
       "      element.href = url;\n",
       "      console.debug(\"Bokeh: injecting link tag for BokehJS stylesheet: \", url);\n",
       "      document.body.appendChild(element);\n",
       "    }\n",
       "\n",
       "    for (var i = 0; i < js_urls.length; i++) {\n",
       "      var url = js_urls[i];\n",
       "      var element = document.createElement('script');\n",
       "      element.onload = on_load;\n",
       "      element.onerror = on_error;\n",
       "      element.async = false;\n",
       "      element.src = url;\n",
       "      console.debug(\"Bokeh: injecting script tag for BokehJS library: \", url);\n",
       "      document.head.appendChild(element);\n",
       "    }\n",
       "  };var element = document.getElementById(\"1660\");\n",
       "  if (element == null) {\n",
       "    console.error(\"Bokeh: ERROR: autoload.js configured with elementid '1660' but no matching script tag was found. \")\n",
       "    return false;\n",
       "  }\n",
       "\n",
       "  function inject_raw_css(css) {\n",
       "    const element = document.createElement(\"style\");\n",
       "    element.appendChild(document.createTextNode(css));\n",
       "    document.body.appendChild(element);\n",
       "  }\n",
       "\n",
       "  var js_urls = [\"https://cdn.pydata.org/bokeh/release/bokeh-1.2.0.min.js\", \"https://cdn.pydata.org/bokeh/release/bokeh-widgets-1.2.0.min.js\", \"https://cdn.pydata.org/bokeh/release/bokeh-tables-1.2.0.min.js\", \"https://cdn.pydata.org/bokeh/release/bokeh-gl-1.2.0.min.js\"];\n",
       "  var css_urls = [\"https://cdn.pydata.org/bokeh/release/bokeh-1.2.0.min.css\", \"https://cdn.pydata.org/bokeh/release/bokeh-widgets-1.2.0.min.css\", \"https://cdn.pydata.org/bokeh/release/bokeh-tables-1.2.0.min.css\"];\n",
       "\n",
       "  var inline_js = [\n",
       "    function(Bokeh) {\n",
       "      Bokeh.set_log_level(\"info\");\n",
       "    },\n",
       "    \n",
       "    function(Bokeh) {\n",
       "      \n",
       "    },\n",
       "    function(Bokeh) {} // ensure no trailing comma for IE\n",
       "  ];\n",
       "\n",
       "  function run_inline_js() {\n",
       "    \n",
       "    if ((root.Bokeh !== undefined) || (force === true)) {\n",
       "      for (var i = 0; i < inline_js.length; i++) {\n",
       "        inline_js[i].call(root, root.Bokeh);\n",
       "      }if (force === true) {\n",
       "        display_loaded();\n",
       "      }} else if (Date.now() < root._bokeh_timeout) {\n",
       "      setTimeout(run_inline_js, 100);\n",
       "    } else if (!root._bokeh_failed_load) {\n",
       "      console.log(\"Bokeh: BokehJS failed to load within specified timeout.\");\n",
       "      root._bokeh_failed_load = true;\n",
       "    } else if (force !== true) {\n",
       "      var cell = $(document.getElementById(\"1660\")).parents('.cell').data().cell;\n",
       "      cell.output_area.append_execute_result(NB_LOAD_WARNING)\n",
       "    }\n",
       "\n",
       "  }\n",
       "\n",
       "  if (root._bokeh_is_loading === 0) {\n",
       "    console.debug(\"Bokeh: BokehJS loaded, going straight to plotting\");\n",
       "    run_inline_js();\n",
       "  } else {\n",
       "    load_libs(css_urls, js_urls, function() {\n",
       "      console.debug(\"Bokeh: BokehJS plotting callback run at\", now());\n",
       "      run_inline_js();\n",
       "    });\n",
       "  }\n",
       "}(window));"
      ],
      "application/vnd.bokehjs_load.v0+json": "\n(function(root) {\n  function now() {\n    return new Date();\n  }\n\n  var force = true;\n\n  if (typeof root._bokeh_onload_callbacks === \"undefined\" || force === true) {\n    root._bokeh_onload_callbacks = [];\n    root._bokeh_is_loading = undefined;\n  }\n\n  \n\n  \n  if (typeof (root._bokeh_timeout) === \"undefined\" || force === true) {\n    root._bokeh_timeout = Date.now() + 5000;\n    root._bokeh_failed_load = false;\n  }\n\n  var NB_LOAD_WARNING = {'data': {'text/html':\n     \"<div style='background-color: #fdd'>\\n\"+\n     \"<p>\\n\"+\n     \"BokehJS does not appear to have successfully loaded. If loading BokehJS from CDN, this \\n\"+\n     \"may be due to a slow or bad network connection. Possible fixes:\\n\"+\n     \"</p>\\n\"+\n     \"<ul>\\n\"+\n     \"<li>re-rerun `output_notebook()` to attempt to load from CDN again, or</li>\\n\"+\n     \"<li>use INLINE resources instead, as so:</li>\\n\"+\n     \"</ul>\\n\"+\n     \"<code>\\n\"+\n     \"from bokeh.resources import INLINE\\n\"+\n     \"output_notebook(resources=INLINE)\\n\"+\n     \"</code>\\n\"+\n     \"</div>\"}};\n\n  function display_loaded() {\n    var el = document.getElementById(\"1660\");\n    if (el != null) {\n      el.textContent = \"BokehJS is loading...\";\n    }\n    if (root.Bokeh !== undefined) {\n      if (el != null) {\n        el.textContent = \"BokehJS \" + root.Bokeh.version + \" successfully loaded.\";\n      }\n    } else if (Date.now() < root._bokeh_timeout) {\n      setTimeout(display_loaded, 100)\n    }\n  }\n\n\n  function run_callbacks() {\n    try {\n      root._bokeh_onload_callbacks.forEach(function(callback) {\n        if (callback != null)\n          callback();\n      });\n    } finally {\n      delete root._bokeh_onload_callbacks\n    }\n    console.debug(\"Bokeh: all callbacks have finished\");\n  }\n\n  function load_libs(css_urls, js_urls, callback) {\n    if (css_urls == null) css_urls = [];\n    if (js_urls == null) js_urls = [];\n\n    root._bokeh_onload_callbacks.push(callback);\n    if (root._bokeh_is_loading > 0) {\n      console.debug(\"Bokeh: BokehJS is being loaded, scheduling callback at\", now());\n      return null;\n    }\n    if (js_urls == null || js_urls.length === 0) {\n      run_callbacks();\n      return null;\n    }\n    console.debug(\"Bokeh: BokehJS not loaded, scheduling load and callback at\", now());\n    root._bokeh_is_loading = css_urls.length + js_urls.length;\n\n    function on_load() {\n      root._bokeh_is_loading--;\n      if (root._bokeh_is_loading === 0) {\n        console.debug(\"Bokeh: all BokehJS libraries/stylesheets loaded\");\n        run_callbacks()\n      }\n    }\n\n    function on_error() {\n      console.error(\"failed to load \" + url);\n    }\n\n    for (var i = 0; i < css_urls.length; i++) {\n      var url = css_urls[i];\n      const element = document.createElement(\"link\");\n      element.onload = on_load;\n      element.onerror = on_error;\n      element.rel = \"stylesheet\";\n      element.type = \"text/css\";\n      element.href = url;\n      console.debug(\"Bokeh: injecting link tag for BokehJS stylesheet: \", url);\n      document.body.appendChild(element);\n    }\n\n    for (var i = 0; i < js_urls.length; i++) {\n      var url = js_urls[i];\n      var element = document.createElement('script');\n      element.onload = on_load;\n      element.onerror = on_error;\n      element.async = false;\n      element.src = url;\n      console.debug(\"Bokeh: injecting script tag for BokehJS library: \", url);\n      document.head.appendChild(element);\n    }\n  };var element = document.getElementById(\"1660\");\n  if (element == null) {\n    console.error(\"Bokeh: ERROR: autoload.js configured with elementid '1660' but no matching script tag was found. \")\n    return false;\n  }\n\n  function inject_raw_css(css) {\n    const element = document.createElement(\"style\");\n    element.appendChild(document.createTextNode(css));\n    document.body.appendChild(element);\n  }\n\n  var js_urls = [\"https://cdn.pydata.org/bokeh/release/bokeh-1.2.0.min.js\", \"https://cdn.pydata.org/bokeh/release/bokeh-widgets-1.2.0.min.js\", \"https://cdn.pydata.org/bokeh/release/bokeh-tables-1.2.0.min.js\", \"https://cdn.pydata.org/bokeh/release/bokeh-gl-1.2.0.min.js\"];\n  var css_urls = [\"https://cdn.pydata.org/bokeh/release/bokeh-1.2.0.min.css\", \"https://cdn.pydata.org/bokeh/release/bokeh-widgets-1.2.0.min.css\", \"https://cdn.pydata.org/bokeh/release/bokeh-tables-1.2.0.min.css\"];\n\n  var inline_js = [\n    function(Bokeh) {\n      Bokeh.set_log_level(\"info\");\n    },\n    \n    function(Bokeh) {\n      \n    },\n    function(Bokeh) {} // ensure no trailing comma for IE\n  ];\n\n  function run_inline_js() {\n    \n    if ((root.Bokeh !== undefined) || (force === true)) {\n      for (var i = 0; i < inline_js.length; i++) {\n        inline_js[i].call(root, root.Bokeh);\n      }if (force === true) {\n        display_loaded();\n      }} else if (Date.now() < root._bokeh_timeout) {\n      setTimeout(run_inline_js, 100);\n    } else if (!root._bokeh_failed_load) {\n      console.log(\"Bokeh: BokehJS failed to load within specified timeout.\");\n      root._bokeh_failed_load = true;\n    } else if (force !== true) {\n      var cell = $(document.getElementById(\"1660\")).parents('.cell').data().cell;\n      cell.output_area.append_execute_result(NB_LOAD_WARNING)\n    }\n\n  }\n\n  if (root._bokeh_is_loading === 0) {\n    console.debug(\"Bokeh: BokehJS loaded, going straight to plotting\");\n    run_inline_js();\n  } else {\n    load_libs(css_urls, js_urls, function() {\n      console.debug(\"Bokeh: BokehJS plotting callback run at\", now());\n      run_inline_js();\n    });\n  }\n}(window));"
     },
     "metadata": {},
     "output_type": "display_data"
    }
   ],
   "source": [
    "output_notebook()"
   ]
  },
  {
   "cell_type": "code",
   "execution_count": 17,
   "metadata": {
    "colab": {},
    "colab_type": "code",
    "id": "DzF9YdxJxZK5"
   },
   "outputs": [],
   "source": [
    "f = figure()"
   ]
  },
  {
   "cell_type": "code",
   "execution_count": 18,
   "metadata": {
    "colab": {
     "base_uri": "https://localhost:8080/",
     "height": 617
    },
    "colab_type": "code",
    "id": "u_GMbk5axcb-",
    "outputId": "0b76c4ac-ee40-4274-c84e-61fb7b187576"
   },
   "outputs": [
    {
     "data": {
      "text/html": [
       "\n",
       "\n",
       "\n",
       "\n",
       "\n",
       "\n",
       "  <div class=\"bk-root\" id=\"5eb09bf0-dd3f-4139-b660-0129f38109f7\" data-root-id=\"1661\"></div>\n"
      ]
     },
     "metadata": {},
     "output_type": "display_data"
    },
    {
     "data": {
      "application/javascript": [
       "(function(root) {\n",
       "  function embed_document(root) {\n",
       "    \n",
       "  var docs_json = {\"112c297a-b974-413f-9681-7e76aea58cce\":{\"roots\":{\"references\":[{\"attributes\":{\"below\":[{\"id\":\"1670\",\"type\":\"LinearAxis\"}],\"center\":[{\"id\":\"1674\",\"type\":\"Grid\"},{\"id\":\"1679\",\"type\":\"Grid\"}],\"left\":[{\"id\":\"1675\",\"type\":\"LinearAxis\"}],\"renderers\":[{\"id\":\"1696\",\"type\":\"GlyphRenderer\"}],\"title\":{\"id\":\"1739\",\"type\":\"Title\"},\"toolbar\":{\"id\":\"1686\",\"type\":\"Toolbar\"},\"x_range\":{\"id\":\"1662\",\"type\":\"DataRange1d\"},\"x_scale\":{\"id\":\"1666\",\"type\":\"LinearScale\"},\"y_range\":{\"id\":\"1664\",\"type\":\"DataRange1d\"},\"y_scale\":{\"id\":\"1668\",\"type\":\"LinearScale\"}},\"id\":\"1661\",\"subtype\":\"Figure\",\"type\":\"Plot\"},{\"attributes\":{\"text\":\"\"},\"id\":\"1739\",\"type\":\"Title\"},{\"attributes\":{\"source\":{\"id\":\"1693\",\"type\":\"ColumnDataSource\"}},\"id\":\"1697\",\"type\":\"CDSView\"},{\"attributes\":{},\"id\":\"1742\",\"type\":\"BasicTickFormatter\"},{\"attributes\":{},\"id\":\"1685\",\"type\":\"HelpTool\"},{\"attributes\":{},\"id\":\"1744\",\"type\":\"Selection\"},{\"attributes\":{},\"id\":\"1683\",\"type\":\"SaveTool\"},{\"attributes\":{},\"id\":\"1745\",\"type\":\"UnionRenderers\"},{\"attributes\":{\"callback\":null},\"id\":\"1664\",\"type\":\"DataRange1d\"},{\"attributes\":{},\"id\":\"1684\",\"type\":\"ResetTool\"},{\"attributes\":{\"bottom_units\":\"screen\",\"fill_alpha\":{\"value\":0.5},\"fill_color\":{\"value\":\"lightgrey\"},\"left_units\":\"screen\",\"level\":\"overlay\",\"line_alpha\":{\"value\":1.0},\"line_color\":{\"value\":\"black\"},\"line_dash\":[4,4],\"line_width\":{\"value\":2},\"render_mode\":\"css\",\"right_units\":\"screen\",\"top_units\":\"screen\"},\"id\":\"1746\",\"type\":\"BoxAnnotation\"},{\"attributes\":{\"overlay\":{\"id\":\"1746\",\"type\":\"BoxAnnotation\"}},\"id\":\"1682\",\"type\":\"BoxZoomTool\"},{\"attributes\":{\"formatter\":{\"id\":\"1742\",\"type\":\"BasicTickFormatter\"},\"ticker\":{\"id\":\"1671\",\"type\":\"BasicTicker\"}},\"id\":\"1670\",\"type\":\"LinearAxis\"},{\"attributes\":{},\"id\":\"1681\",\"type\":\"WheelZoomTool\"},{\"attributes\":{},\"id\":\"1680\",\"type\":\"PanTool\"},{\"attributes\":{\"callback\":null,\"data\":{\"x\":{\"__ndarray__\":\"AAAAAAEAAAACAAAAAwAAAAQAAAAFAAAABgAAAAcAAAAIAAAACQAAAA==\",\"dtype\":\"int32\",\"shape\":[10]},\"y\":{\"__ndarray__\":\"CgAAAAsAAAAMAAAADQAAAA4AAAAPAAAAEAAAABEAAAASAAAAEwAAAA==\",\"dtype\":\"int32\",\"shape\":[10]}},\"selected\":{\"id\":\"1744\",\"type\":\"Selection\"},\"selection_policy\":{\"id\":\"1745\",\"type\":\"UnionRenderers\"}},\"id\":\"1693\",\"type\":\"ColumnDataSource\"},{\"attributes\":{\"dimension\":1,\"ticker\":{\"id\":\"1676\",\"type\":\"BasicTicker\"}},\"id\":\"1679\",\"type\":\"Grid\"},{\"attributes\":{},\"id\":\"1671\",\"type\":\"BasicTicker\"},{\"attributes\":{\"ticker\":{\"id\":\"1671\",\"type\":\"BasicTicker\"}},\"id\":\"1674\",\"type\":\"Grid\"},{\"attributes\":{\"formatter\":{\"id\":\"1740\",\"type\":\"BasicTickFormatter\"},\"ticker\":{\"id\":\"1676\",\"type\":\"BasicTicker\"}},\"id\":\"1675\",\"type\":\"LinearAxis\"},{\"attributes\":{},\"id\":\"1668\",\"type\":\"LinearScale\"},{\"attributes\":{\"callback\":null},\"id\":\"1662\",\"type\":\"DataRange1d\"},{\"attributes\":{\"active_drag\":\"auto\",\"active_inspect\":\"auto\",\"active_multi\":null,\"active_scroll\":\"auto\",\"active_tap\":\"auto\",\"tools\":[{\"id\":\"1680\",\"type\":\"PanTool\"},{\"id\":\"1681\",\"type\":\"WheelZoomTool\"},{\"id\":\"1682\",\"type\":\"BoxZoomTool\"},{\"id\":\"1683\",\"type\":\"SaveTool\"},{\"id\":\"1684\",\"type\":\"ResetTool\"},{\"id\":\"1685\",\"type\":\"HelpTool\"}]},\"id\":\"1686\",\"type\":\"Toolbar\"},{\"attributes\":{},\"id\":\"1666\",\"type\":\"LinearScale\"},{\"attributes\":{\"line_alpha\":0.1,\"line_color\":\"#1f77b4\",\"x\":{\"field\":\"x\"},\"y\":{\"field\":\"y\"}},\"id\":\"1695\",\"type\":\"Line\"},{\"attributes\":{},\"id\":\"1676\",\"type\":\"BasicTicker\"},{\"attributes\":{\"line_color\":\"#1f77b4\",\"x\":{\"field\":\"x\"},\"y\":{\"field\":\"y\"}},\"id\":\"1694\",\"type\":\"Line\"},{\"attributes\":{\"data_source\":{\"id\":\"1693\",\"type\":\"ColumnDataSource\"},\"glyph\":{\"id\":\"1694\",\"type\":\"Line\"},\"hover_glyph\":null,\"muted_glyph\":null,\"nonselection_glyph\":{\"id\":\"1695\",\"type\":\"Line\"},\"selection_glyph\":null,\"view\":{\"id\":\"1697\",\"type\":\"CDSView\"}},\"id\":\"1696\",\"type\":\"GlyphRenderer\"},{\"attributes\":{},\"id\":\"1740\",\"type\":\"BasicTickFormatter\"}],\"root_ids\":[\"1661\"]},\"title\":\"Bokeh Application\",\"version\":\"1.2.0\"}};\n",
       "  var render_items = [{\"docid\":\"112c297a-b974-413f-9681-7e76aea58cce\",\"roots\":{\"1661\":\"5eb09bf0-dd3f-4139-b660-0129f38109f7\"}}];\n",
       "  root.Bokeh.embed.embed_items_notebook(docs_json, render_items);\n",
       "\n",
       "  }\n",
       "  if (root.Bokeh !== undefined) {\n",
       "    embed_document(root);\n",
       "  } else {\n",
       "    var attempts = 0;\n",
       "    var timer = setInterval(function(root) {\n",
       "      if (root.Bokeh !== undefined) {\n",
       "        embed_document(root);\n",
       "        clearInterval(timer);\n",
       "      }\n",
       "      attempts++;\n",
       "      if (attempts > 100) {\n",
       "        console.log(\"Bokeh: ERROR: Unable to run BokehJS code because BokehJS library is missing\");\n",
       "        clearInterval(timer);\n",
       "      }\n",
       "    }, 10, root)\n",
       "  }\n",
       "})(window);"
      ],
      "application/vnd.bokehjs_exec.v0+json": ""
     },
     "metadata": {
      "application/vnd.bokehjs_exec.v0+json": {
       "id": "1661"
      }
     },
     "output_type": "display_data"
    }
   ],
   "source": [
    "f.line(x,y)\n",
    "show(f)"
   ]
  },
  {
   "cell_type": "code",
   "execution_count": 19,
   "metadata": {
    "colab": {
     "base_uri": "https://localhost:8080/",
     "height": 617
    },
    "colab_type": "code",
    "id": "W3LvSe2BxgYF",
    "outputId": "162b05f2-1b97-45ee-f1ef-2f3611e1f26e"
   },
   "outputs": [
    {
     "data": {
      "text/html": [
       "\n",
       "\n",
       "\n",
       "\n",
       "\n",
       "\n",
       "  <div class=\"bk-root\" id=\"4a7f8683-049f-49bf-8939-f5cda83f192a\" data-root-id=\"1801\"></div>\n"
      ]
     },
     "metadata": {},
     "output_type": "display_data"
    },
    {
     "data": {
      "application/javascript": [
       "(function(root) {\n",
       "  function embed_document(root) {\n",
       "    \n",
       "  var docs_json = {\"d4500fbf-a08c-47f2-a9cd-c6e162a52c27\":{\"roots\":{\"references\":[{\"attributes\":{\"below\":[{\"id\":\"1810\",\"type\":\"LinearAxis\"}],\"center\":[{\"id\":\"1814\",\"type\":\"Grid\"},{\"id\":\"1819\",\"type\":\"Grid\"}],\"left\":[{\"id\":\"1815\",\"type\":\"LinearAxis\"}],\"renderers\":[{\"id\":\"1836\",\"type\":\"GlyphRenderer\"}],\"title\":{\"id\":\"1888\",\"type\":\"Title\"},\"toolbar\":{\"id\":\"1826\",\"type\":\"Toolbar\"},\"x_range\":{\"id\":\"1802\",\"type\":\"DataRange1d\"},\"x_scale\":{\"id\":\"1806\",\"type\":\"LinearScale\"},\"y_range\":{\"id\":\"1804\",\"type\":\"DataRange1d\"},\"y_scale\":{\"id\":\"1808\",\"type\":\"LinearScale\"}},\"id\":\"1801\",\"subtype\":\"Figure\",\"type\":\"Plot\"},{\"attributes\":{\"active_drag\":\"auto\",\"active_inspect\":\"auto\",\"active_multi\":null,\"active_scroll\":\"auto\",\"active_tap\":\"auto\",\"tools\":[{\"id\":\"1820\",\"type\":\"PanTool\"},{\"id\":\"1821\",\"type\":\"WheelZoomTool\"},{\"id\":\"1822\",\"type\":\"BoxZoomTool\"},{\"id\":\"1823\",\"type\":\"SaveTool\"},{\"id\":\"1824\",\"type\":\"ResetTool\"},{\"id\":\"1825\",\"type\":\"HelpTool\"}]},\"id\":\"1826\",\"type\":\"Toolbar\"},{\"attributes\":{},\"id\":\"1824\",\"type\":\"ResetTool\"},{\"attributes\":{\"text\":\"\"},\"id\":\"1888\",\"type\":\"Title\"},{\"attributes\":{},\"id\":\"1889\",\"type\":\"BasicTickFormatter\"},{\"attributes\":{\"data_source\":{\"id\":\"1833\",\"type\":\"ColumnDataSource\"},\"glyph\":{\"id\":\"1834\",\"type\":\"Scatter\"},\"hover_glyph\":null,\"muted_glyph\":null,\"nonselection_glyph\":{\"id\":\"1835\",\"type\":\"Scatter\"},\"selection_glyph\":null,\"view\":{\"id\":\"1837\",\"type\":\"CDSView\"}},\"id\":\"1836\",\"type\":\"GlyphRenderer\"},{\"attributes\":{\"source\":{\"id\":\"1833\",\"type\":\"ColumnDataSource\"}},\"id\":\"1837\",\"type\":\"CDSView\"},{\"attributes\":{\"callback\":null},\"id\":\"1802\",\"type\":\"DataRange1d\"},{\"attributes\":{\"callback\":null,\"data\":{\"x\":{\"__ndarray__\":\"v0uwhMJZAMCUaY2dgJT5vwb8ugYE3+k/fIS+CmT08r+5q8umwBf6P1nI5C9gI8E/Ho4QcZYr9L+ZT8hA1RTkvw0YQS61Lu+/UuvpQ1GG2b//ETSHRXL+v2D4DmsZ27G/vUJZkA8U078hD2JY6cDbP6lbklCde+6/1OpkbC9A2j9MucqnUijgvzplDFp+6v8/MvT7GOzI3r9JlATNO5H6P2OQl8VhX/u/gAER9e/dv7+gdRu/x6rrP2HjOgASgqG/ryhgA7bwyj//kOWTFrnhv1ozbrCKHeQ/+euyo/OUrD9wiIYHmGSnv4RlBMVzFPK/VYPykodl4b8+tyhTAKLTvz0W/R0CePi/N+lW4GLOsL+EsqLaf6zVP5H5VnyBYak/chTZ8dYQ0b+UjL5VuD31v1kZ7NbQJfW/mxfl1BpP6r8Iz20Pcc32v5PYGMushPW/Y9/4Ar8W0T9emLCGtJbRv0iAoHt+mOm/VEuRNOIK4L9PsbBIZWfxP9bFGVWkx8w/f4C/QlYRxD+nTtLdRQrwv9aL96Em/qM/m79RETSQxz/+K0x4WCPZP+mAl9TAUN2/Y8wLoTjcwD8u20eCr6nYP7QRf9yDqMU/wrLdVeP2y7/NSTvDmGjrP2yF1Q9ad+4/9T/YqLoM+T80mIzNxUX4P8AFXKLT37m/zSOjxglV/D+TEi9qhiLbP/FOBgO/Jec/krzG0TAz1r/K7GSNoCjoP3nr/Fy68sE//3G9yogtgz93Tcagdc3uPwIQV/kCgu0/VSuGDIc49j/hqyLaSXHVv3nbEmlVtu0/6jENPQRH2T+sXDebYTHzP/AdeyjjBs0/NCpiSjkF+T9sYYu87THFP7TWgLCIuMk/tuUSp9pox79BXkiIWlHyPy+qYLYj93w/BH9esrrf6L/3gUOs5+nxPxxB7qzN8N8/hmwCZsUH4T9dK8OgH9UAwFGyTshzkvg/FRbqc4cG6z9zdw+5lovQPw9AqueFbeK/R7xUg+go7T/bZPImgp/gv2Kca6C119+/G5bA8l8r5T9Nu/G7C/Pzv24aKQqRneW/NdqpJl5S+D8=\",\"dtype\":\"float64\",\"shape\":[100]},\"y\":{\"__ndarray__\":\"XpbZ+rm187/l/UhNHbuWv2IAq7ZbisA/UfsYzNTP7T/RErroIhjnvw0y5USSa9i/2yj3Z4299b+uGWTsUnndP0Mbl4RWNuK/kmq/jWw78z8nXKKGHgH3Pzm8JPDPn/I/00o0LIQL5T9lxm3eDerkP7fGP+eAouc/4T8vOglBBMD4H2AtuzTePxpdAizBM/i/LAqAWZJU6L9dchKfI+fTP55PBfVu9vK/eS/mlqVd7T/PkL+euIjZv2d9/W7A3sE/AcP5ikkj9L8nQDZCPr/Sv39eRffonQLAK+c37aXO4z8DegKZFJXWv9ksFPR50PK/r3d9QJjh2z+jssOdpg60P5T9CyeLPdw/cGA6jgxk9b/4sBSFGv35v4I5JLPip/8/FUVMpxRgxL/yDR7YDRHiP9W56dX7isq/izXKEUkZ6j8bgHHS7nOPP/z+bQKTW+E/7dhP3CBT67/jmXp8JJ34PwapsE2YUOc/Go4sKRfdyz9kjodlOVPJP8VoH/aLE/w/8u0rWf4k2b/mhHHdCAbTP6oN62S8zPA/Hgdq5XDE3b9Oh6VjYVHEv7NZHeAxocw/HZ6nP+eX5b/OKTajAFvWvyjaruOKANG/k1UwhOY287/CynpkFVz7P+7/O1ToOfq/KHvxKwwkqb87E36s6tPWPyd7nmrek/G/Gj4+G6Ok9T9zJce2mwrqv2hVNYeGZuC/asi1W0LWnT+tHuunqmTdP4rPcrlhp9Q/8kQrNgd82z9sa56HHPekP/B6G8hvNe0/z9UzaXJX8j8cfgZT4K3rv6yhY+mMJeI/H9oYhj1H8D9oHQNsJ8ACwPG0f93YsvC/S1WIZSYJ9D8krIUNnaLVvxzRRWuksfs/xkMYkEa85j+HbVH84r3gv9fvneNq5PQ/4kOJCiYe5D82PPd/9tOCvw5MAnay3/S/9y28jmc5+z9k8kxLJSDtv5WjQO/6OMW/b+Jf1d739j9DRJwWMdPDP8yO6xrZCvS/INLWziXG1b+wdCnP/PLkP0Apbkq+aN8/s+67tOOq5T8xwlkOLL3kv+OlnZSnduS/qb07lLVC3z8=\",\"dtype\":\"float64\",\"shape\":[100]}},\"selected\":{\"id\":\"1893\",\"type\":\"Selection\"},\"selection_policy\":{\"id\":\"1894\",\"type\":\"UnionRenderers\"}},\"id\":\"1833\",\"type\":\"ColumnDataSource\"},{\"attributes\":{},\"id\":\"1806\",\"type\":\"LinearScale\"},{\"attributes\":{},\"id\":\"1820\",\"type\":\"PanTool\"},{\"attributes\":{},\"id\":\"1893\",\"type\":\"Selection\"},{\"attributes\":{\"overlay\":{\"id\":\"1895\",\"type\":\"BoxAnnotation\"}},\"id\":\"1822\",\"type\":\"BoxZoomTool\"},{\"attributes\":{\"callback\":null},\"id\":\"1804\",\"type\":\"DataRange1d\"},{\"attributes\":{\"bottom_units\":\"screen\",\"fill_alpha\":{\"value\":0.5},\"fill_color\":{\"value\":\"lightgrey\"},\"left_units\":\"screen\",\"level\":\"overlay\",\"line_alpha\":{\"value\":1.0},\"line_color\":{\"value\":\"black\"},\"line_dash\":[4,4],\"line_width\":{\"value\":2},\"render_mode\":\"css\",\"right_units\":\"screen\",\"top_units\":\"screen\"},\"id\":\"1895\",\"type\":\"BoxAnnotation\"},{\"attributes\":{},\"id\":\"1821\",\"type\":\"WheelZoomTool\"},{\"attributes\":{},\"id\":\"1811\",\"type\":\"BasicTicker\"},{\"attributes\":{},\"id\":\"1894\",\"type\":\"UnionRenderers\"},{\"attributes\":{},\"id\":\"1808\",\"type\":\"LinearScale\"},{\"attributes\":{},\"id\":\"1825\",\"type\":\"HelpTool\"},{\"attributes\":{\"formatter\":{\"id\":\"1891\",\"type\":\"BasicTickFormatter\"},\"ticker\":{\"id\":\"1811\",\"type\":\"BasicTicker\"}},\"id\":\"1810\",\"type\":\"LinearAxis\"},{\"attributes\":{},\"id\":\"1891\",\"type\":\"BasicTickFormatter\"},{\"attributes\":{},\"id\":\"1816\",\"type\":\"BasicTicker\"},{\"attributes\":{\"dimension\":1,\"ticker\":{\"id\":\"1816\",\"type\":\"BasicTicker\"}},\"id\":\"1819\",\"type\":\"Grid\"},{\"attributes\":{\"fill_color\":{\"value\":\"#1f77b4\"},\"line_color\":{\"value\":\"#1f77b4\"},\"x\":{\"field\":\"x\"},\"y\":{\"field\":\"y\"}},\"id\":\"1834\",\"type\":\"Scatter\"},{\"attributes\":{\"formatter\":{\"id\":\"1889\",\"type\":\"BasicTickFormatter\"},\"ticker\":{\"id\":\"1816\",\"type\":\"BasicTicker\"}},\"id\":\"1815\",\"type\":\"LinearAxis\"},{\"attributes\":{},\"id\":\"1823\",\"type\":\"SaveTool\"},{\"attributes\":{\"ticker\":{\"id\":\"1811\",\"type\":\"BasicTicker\"}},\"id\":\"1814\",\"type\":\"Grid\"},{\"attributes\":{\"fill_alpha\":{\"value\":0.1},\"fill_color\":{\"value\":\"#1f77b4\"},\"line_alpha\":{\"value\":0.1},\"line_color\":{\"value\":\"#1f77b4\"},\"x\":{\"field\":\"x\"},\"y\":{\"field\":\"y\"}},\"id\":\"1835\",\"type\":\"Scatter\"}],\"root_ids\":[\"1801\"]},\"title\":\"Bokeh Application\",\"version\":\"1.2.0\"}};\n",
       "  var render_items = [{\"docid\":\"d4500fbf-a08c-47f2-a9cd-c6e162a52c27\",\"roots\":{\"1801\":\"4a7f8683-049f-49bf-8939-f5cda83f192a\"}}];\n",
       "  root.Bokeh.embed.embed_items_notebook(docs_json, render_items);\n",
       "\n",
       "  }\n",
       "  if (root.Bokeh !== undefined) {\n",
       "    embed_document(root);\n",
       "  } else {\n",
       "    var attempts = 0;\n",
       "    var timer = setInterval(function(root) {\n",
       "      if (root.Bokeh !== undefined) {\n",
       "        embed_document(root);\n",
       "        clearInterval(timer);\n",
       "      }\n",
       "      attempts++;\n",
       "      if (attempts > 100) {\n",
       "        console.log(\"Bokeh: ERROR: Unable to run BokehJS code because BokehJS library is missing\");\n",
       "        clearInterval(timer);\n",
       "      }\n",
       "    }, 10, root)\n",
       "  }\n",
       "})(window);"
      ],
      "application/vnd.bokehjs_exec.v0+json": ""
     },
     "metadata": {
      "application/vnd.bokehjs_exec.v0+json": {
       "id": "1801"
      }
     },
     "output_type": "display_data"
    }
   ],
   "source": [
    "x = np.random.normal(size = 100)\n",
    "y = np.random.normal(size = 100)\n",
    "\n",
    "f = figure()\n",
    "f.scatter(x,y)\n",
    "show(f)"
   ]
  },
  {
   "cell_type": "code",
   "execution_count": 20,
   "metadata": {
    "colab": {
     "base_uri": "https://localhost:8080/",
     "height": 617
    },
    "colab_type": "code",
    "id": "grRZZ422x5bA",
    "outputId": "0713cc37-861a-4a40-c00a-e715127ea6b0"
   },
   "outputs": [
    {
     "data": {
      "text/html": [
       "\n",
       "\n",
       "\n",
       "\n",
       "\n",
       "\n",
       "  <div class=\"bk-root\" id=\"9ed62b29-4366-4f14-b04a-4717532b5014\" data-root-id=\"1801\"></div>\n"
      ]
     },
     "metadata": {},
     "output_type": "display_data"
    },
    {
     "data": {
      "application/javascript": [
       "(function(root) {\n",
       "  function embed_document(root) {\n",
       "    \n",
       "  var docs_json = {\"41f2c8cb-d0af-4da4-b57f-9245b4dfa037\":{\"roots\":{\"references\":[{\"attributes\":{\"below\":[{\"id\":\"1810\",\"type\":\"LinearAxis\"}],\"center\":[{\"id\":\"1814\",\"type\":\"Grid\"},{\"id\":\"1819\",\"type\":\"Grid\"}],\"left\":[{\"id\":\"1815\",\"type\":\"LinearAxis\"}],\"renderers\":[{\"id\":\"1836\",\"type\":\"GlyphRenderer\"},{\"id\":\"1953\",\"type\":\"GlyphRenderer\"}],\"title\":{\"id\":\"1888\",\"type\":\"Title\"},\"toolbar\":{\"id\":\"1826\",\"type\":\"Toolbar\"},\"x_range\":{\"id\":\"1802\",\"type\":\"DataRange1d\"},\"x_scale\":{\"id\":\"1806\",\"type\":\"LinearScale\"},\"y_range\":{\"id\":\"1804\",\"type\":\"DataRange1d\"},\"y_scale\":{\"id\":\"1808\",\"type\":\"LinearScale\"}},\"id\":\"1801\",\"subtype\":\"Figure\",\"type\":\"Plot\"},{\"attributes\":{\"active_drag\":\"auto\",\"active_inspect\":\"auto\",\"active_multi\":null,\"active_scroll\":\"auto\",\"active_tap\":\"auto\",\"tools\":[{\"id\":\"1820\",\"type\":\"PanTool\"},{\"id\":\"1821\",\"type\":\"WheelZoomTool\"},{\"id\":\"1822\",\"type\":\"BoxZoomTool\"},{\"id\":\"1823\",\"type\":\"SaveTool\"},{\"id\":\"1824\",\"type\":\"ResetTool\"},{\"id\":\"1825\",\"type\":\"HelpTool\"}]},\"id\":\"1826\",\"type\":\"Toolbar\"},{\"attributes\":{},\"id\":\"1824\",\"type\":\"ResetTool\"},{\"attributes\":{\"text\":\"\"},\"id\":\"1888\",\"type\":\"Title\"},{\"attributes\":{},\"id\":\"1889\",\"type\":\"BasicTickFormatter\"},{\"attributes\":{\"data_source\":{\"id\":\"1950\",\"type\":\"ColumnDataSource\"},\"glyph\":{\"id\":\"1951\",\"type\":\"Triangle\"},\"hover_glyph\":null,\"muted_glyph\":null,\"nonselection_glyph\":{\"id\":\"1952\",\"type\":\"Triangle\"},\"selection_glyph\":null,\"view\":{\"id\":\"1954\",\"type\":\"CDSView\"}},\"id\":\"1953\",\"type\":\"GlyphRenderer\"},{\"attributes\":{\"data_source\":{\"id\":\"1833\",\"type\":\"ColumnDataSource\"},\"glyph\":{\"id\":\"1834\",\"type\":\"Scatter\"},\"hover_glyph\":null,\"muted_glyph\":null,\"nonselection_glyph\":{\"id\":\"1835\",\"type\":\"Scatter\"},\"selection_glyph\":null,\"view\":{\"id\":\"1837\",\"type\":\"CDSView\"}},\"id\":\"1836\",\"type\":\"GlyphRenderer\"},{\"attributes\":{\"source\":{\"id\":\"1833\",\"type\":\"ColumnDataSource\"}},\"id\":\"1837\",\"type\":\"CDSView\"},{\"attributes\":{\"fill_color\":{\"value\":\"#1f77b4\"},\"line_color\":{\"value\":\"#1f77b4\"},\"x\":{\"field\":\"x\"},\"y\":{\"field\":\"y\"}},\"id\":\"1951\",\"type\":\"Triangle\"},{\"attributes\":{\"callback\":null},\"id\":\"1802\",\"type\":\"DataRange1d\"},{\"attributes\":{\"callback\":null,\"data\":{\"x\":{\"__ndarray__\":\"v0uwhMJZAMCUaY2dgJT5vwb8ugYE3+k/fIS+CmT08r+5q8umwBf6P1nI5C9gI8E/Ho4QcZYr9L+ZT8hA1RTkvw0YQS61Lu+/UuvpQ1GG2b//ETSHRXL+v2D4DmsZ27G/vUJZkA8U078hD2JY6cDbP6lbklCde+6/1OpkbC9A2j9MucqnUijgvzplDFp+6v8/MvT7GOzI3r9JlATNO5H6P2OQl8VhX/u/gAER9e/dv7+gdRu/x6rrP2HjOgASgqG/ryhgA7bwyj//kOWTFrnhv1ozbrCKHeQ/+euyo/OUrD9wiIYHmGSnv4RlBMVzFPK/VYPykodl4b8+tyhTAKLTvz0W/R0CePi/N+lW4GLOsL+EsqLaf6zVP5H5VnyBYak/chTZ8dYQ0b+UjL5VuD31v1kZ7NbQJfW/mxfl1BpP6r8Iz20Pcc32v5PYGMushPW/Y9/4Ar8W0T9emLCGtJbRv0iAoHt+mOm/VEuRNOIK4L9PsbBIZWfxP9bFGVWkx8w/f4C/QlYRxD+nTtLdRQrwv9aL96Em/qM/m79RETSQxz/+K0x4WCPZP+mAl9TAUN2/Y8wLoTjcwD8u20eCr6nYP7QRf9yDqMU/wrLdVeP2y7/NSTvDmGjrP2yF1Q9ad+4/9T/YqLoM+T80mIzNxUX4P8AFXKLT37m/zSOjxglV/D+TEi9qhiLbP/FOBgO/Jec/krzG0TAz1r/K7GSNoCjoP3nr/Fy68sE//3G9yogtgz93Tcagdc3uPwIQV/kCgu0/VSuGDIc49j/hqyLaSXHVv3nbEmlVtu0/6jENPQRH2T+sXDebYTHzP/AdeyjjBs0/NCpiSjkF+T9sYYu87THFP7TWgLCIuMk/tuUSp9pox79BXkiIWlHyPy+qYLYj93w/BH9esrrf6L/3gUOs5+nxPxxB7qzN8N8/hmwCZsUH4T9dK8OgH9UAwFGyTshzkvg/FRbqc4cG6z9zdw+5lovQPw9AqueFbeK/R7xUg+go7T/bZPImgp/gv2Kca6C119+/G5bA8l8r5T9Nu/G7C/Pzv24aKQqRneW/NdqpJl5S+D8=\",\"dtype\":\"float64\",\"shape\":[100]},\"y\":{\"__ndarray__\":\"XpbZ+rm187/l/UhNHbuWv2IAq7ZbisA/UfsYzNTP7T/RErroIhjnvw0y5USSa9i/2yj3Z4299b+uGWTsUnndP0Mbl4RWNuK/kmq/jWw78z8nXKKGHgH3Pzm8JPDPn/I/00o0LIQL5T9lxm3eDerkP7fGP+eAouc/4T8vOglBBMD4H2AtuzTePxpdAizBM/i/LAqAWZJU6L9dchKfI+fTP55PBfVu9vK/eS/mlqVd7T/PkL+euIjZv2d9/W7A3sE/AcP5ikkj9L8nQDZCPr/Sv39eRffonQLAK+c37aXO4z8DegKZFJXWv9ksFPR50PK/r3d9QJjh2z+jssOdpg60P5T9CyeLPdw/cGA6jgxk9b/4sBSFGv35v4I5JLPip/8/FUVMpxRgxL/yDR7YDRHiP9W56dX7isq/izXKEUkZ6j8bgHHS7nOPP/z+bQKTW+E/7dhP3CBT67/jmXp8JJ34PwapsE2YUOc/Go4sKRfdyz9kjodlOVPJP8VoH/aLE/w/8u0rWf4k2b/mhHHdCAbTP6oN62S8zPA/Hgdq5XDE3b9Oh6VjYVHEv7NZHeAxocw/HZ6nP+eX5b/OKTajAFvWvyjaruOKANG/k1UwhOY287/CynpkFVz7P+7/O1ToOfq/KHvxKwwkqb87E36s6tPWPyd7nmrek/G/Gj4+G6Ok9T9zJce2mwrqv2hVNYeGZuC/asi1W0LWnT+tHuunqmTdP4rPcrlhp9Q/8kQrNgd82z9sa56HHPekP/B6G8hvNe0/z9UzaXJX8j8cfgZT4K3rv6yhY+mMJeI/H9oYhj1H8D9oHQNsJ8ACwPG0f93YsvC/S1WIZSYJ9D8krIUNnaLVvxzRRWuksfs/xkMYkEa85j+HbVH84r3gv9fvneNq5PQ/4kOJCiYe5D82PPd/9tOCvw5MAnay3/S/9y28jmc5+z9k8kxLJSDtv5WjQO/6OMW/b+Jf1d739j9DRJwWMdPDP8yO6xrZCvS/INLWziXG1b+wdCnP/PLkP0Apbkq+aN8/s+67tOOq5T8xwlkOLL3kv+OlnZSnduS/qb07lLVC3z8=\",\"dtype\":\"float64\",\"shape\":[100]}},\"selected\":{\"id\":\"2012\",\"type\":\"Selection\"},\"selection_policy\":{\"id\":\"2013\",\"type\":\"UnionRenderers\"}},\"id\":\"1950\",\"type\":\"ColumnDataSource\"},{\"attributes\":{\"callback\":null,\"data\":{\"x\":{\"__ndarray__\":\"v0uwhMJZAMCUaY2dgJT5vwb8ugYE3+k/fIS+CmT08r+5q8umwBf6P1nI5C9gI8E/Ho4QcZYr9L+ZT8hA1RTkvw0YQS61Lu+/UuvpQ1GG2b//ETSHRXL+v2D4DmsZ27G/vUJZkA8U078hD2JY6cDbP6lbklCde+6/1OpkbC9A2j9MucqnUijgvzplDFp+6v8/MvT7GOzI3r9JlATNO5H6P2OQl8VhX/u/gAER9e/dv7+gdRu/x6rrP2HjOgASgqG/ryhgA7bwyj//kOWTFrnhv1ozbrCKHeQ/+euyo/OUrD9wiIYHmGSnv4RlBMVzFPK/VYPykodl4b8+tyhTAKLTvz0W/R0CePi/N+lW4GLOsL+EsqLaf6zVP5H5VnyBYak/chTZ8dYQ0b+UjL5VuD31v1kZ7NbQJfW/mxfl1BpP6r8Iz20Pcc32v5PYGMushPW/Y9/4Ar8W0T9emLCGtJbRv0iAoHt+mOm/VEuRNOIK4L9PsbBIZWfxP9bFGVWkx8w/f4C/QlYRxD+nTtLdRQrwv9aL96Em/qM/m79RETSQxz/+K0x4WCPZP+mAl9TAUN2/Y8wLoTjcwD8u20eCr6nYP7QRf9yDqMU/wrLdVeP2y7/NSTvDmGjrP2yF1Q9ad+4/9T/YqLoM+T80mIzNxUX4P8AFXKLT37m/zSOjxglV/D+TEi9qhiLbP/FOBgO/Jec/krzG0TAz1r/K7GSNoCjoP3nr/Fy68sE//3G9yogtgz93Tcagdc3uPwIQV/kCgu0/VSuGDIc49j/hqyLaSXHVv3nbEmlVtu0/6jENPQRH2T+sXDebYTHzP/AdeyjjBs0/NCpiSjkF+T9sYYu87THFP7TWgLCIuMk/tuUSp9pox79BXkiIWlHyPy+qYLYj93w/BH9esrrf6L/3gUOs5+nxPxxB7qzN8N8/hmwCZsUH4T9dK8OgH9UAwFGyTshzkvg/FRbqc4cG6z9zdw+5lovQPw9AqueFbeK/R7xUg+go7T/bZPImgp/gv2Kca6C119+/G5bA8l8r5T9Nu/G7C/Pzv24aKQqRneW/NdqpJl5S+D8=\",\"dtype\":\"float64\",\"shape\":[100]},\"y\":{\"__ndarray__\":\"XpbZ+rm187/l/UhNHbuWv2IAq7ZbisA/UfsYzNTP7T/RErroIhjnvw0y5USSa9i/2yj3Z4299b+uGWTsUnndP0Mbl4RWNuK/kmq/jWw78z8nXKKGHgH3Pzm8JPDPn/I/00o0LIQL5T9lxm3eDerkP7fGP+eAouc/4T8vOglBBMD4H2AtuzTePxpdAizBM/i/LAqAWZJU6L9dchKfI+fTP55PBfVu9vK/eS/mlqVd7T/PkL+euIjZv2d9/W7A3sE/AcP5ikkj9L8nQDZCPr/Sv39eRffonQLAK+c37aXO4z8DegKZFJXWv9ksFPR50PK/r3d9QJjh2z+jssOdpg60P5T9CyeLPdw/cGA6jgxk9b/4sBSFGv35v4I5JLPip/8/FUVMpxRgxL/yDR7YDRHiP9W56dX7isq/izXKEUkZ6j8bgHHS7nOPP/z+bQKTW+E/7dhP3CBT67/jmXp8JJ34PwapsE2YUOc/Go4sKRfdyz9kjodlOVPJP8VoH/aLE/w/8u0rWf4k2b/mhHHdCAbTP6oN62S8zPA/Hgdq5XDE3b9Oh6VjYVHEv7NZHeAxocw/HZ6nP+eX5b/OKTajAFvWvyjaruOKANG/k1UwhOY287/CynpkFVz7P+7/O1ToOfq/KHvxKwwkqb87E36s6tPWPyd7nmrek/G/Gj4+G6Ok9T9zJce2mwrqv2hVNYeGZuC/asi1W0LWnT+tHuunqmTdP4rPcrlhp9Q/8kQrNgd82z9sa56HHPekP/B6G8hvNe0/z9UzaXJX8j8cfgZT4K3rv6yhY+mMJeI/H9oYhj1H8D9oHQNsJ8ACwPG0f93YsvC/S1WIZSYJ9D8krIUNnaLVvxzRRWuksfs/xkMYkEa85j+HbVH84r3gv9fvneNq5PQ/4kOJCiYe5D82PPd/9tOCvw5MAnay3/S/9y28jmc5+z9k8kxLJSDtv5WjQO/6OMW/b+Jf1d739j9DRJwWMdPDP8yO6xrZCvS/INLWziXG1b+wdCnP/PLkP0Apbkq+aN8/s+67tOOq5T8xwlkOLL3kv+OlnZSnduS/qb07lLVC3z8=\",\"dtype\":\"float64\",\"shape\":[100]}},\"selected\":{\"id\":\"1893\",\"type\":\"Selection\"},\"selection_policy\":{\"id\":\"1894\",\"type\":\"UnionRenderers\"}},\"id\":\"1833\",\"type\":\"ColumnDataSource\"},{\"attributes\":{},\"id\":\"1806\",\"type\":\"LinearScale\"},{\"attributes\":{},\"id\":\"1820\",\"type\":\"PanTool\"},{\"attributes\":{},\"id\":\"1893\",\"type\":\"Selection\"},{\"attributes\":{\"overlay\":{\"id\":\"1895\",\"type\":\"BoxAnnotation\"}},\"id\":\"1822\",\"type\":\"BoxZoomTool\"},{\"attributes\":{\"callback\":null},\"id\":\"1804\",\"type\":\"DataRange1d\"},{\"attributes\":{\"bottom_units\":\"screen\",\"fill_alpha\":{\"value\":0.5},\"fill_color\":{\"value\":\"lightgrey\"},\"left_units\":\"screen\",\"level\":\"overlay\",\"line_alpha\":{\"value\":1.0},\"line_color\":{\"value\":\"black\"},\"line_dash\":[4,4],\"line_width\":{\"value\":2},\"render_mode\":\"css\",\"right_units\":\"screen\",\"top_units\":\"screen\"},\"id\":\"1895\",\"type\":\"BoxAnnotation\"},{\"attributes\":{},\"id\":\"1821\",\"type\":\"WheelZoomTool\"},{\"attributes\":{},\"id\":\"1811\",\"type\":\"BasicTicker\"},{\"attributes\":{},\"id\":\"1894\",\"type\":\"UnionRenderers\"},{\"attributes\":{},\"id\":\"1808\",\"type\":\"LinearScale\"},{\"attributes\":{},\"id\":\"1825\",\"type\":\"HelpTool\"},{\"attributes\":{\"formatter\":{\"id\":\"1891\",\"type\":\"BasicTickFormatter\"},\"ticker\":{\"id\":\"1811\",\"type\":\"BasicTicker\"}},\"id\":\"1810\",\"type\":\"LinearAxis\"},{\"attributes\":{},\"id\":\"1891\",\"type\":\"BasicTickFormatter\"},{\"attributes\":{},\"id\":\"1816\",\"type\":\"BasicTicker\"},{\"attributes\":{\"dimension\":1,\"ticker\":{\"id\":\"1816\",\"type\":\"BasicTicker\"}},\"id\":\"1819\",\"type\":\"Grid\"},{\"attributes\":{\"fill_color\":{\"value\":\"#1f77b4\"},\"line_color\":{\"value\":\"#1f77b4\"},\"x\":{\"field\":\"x\"},\"y\":{\"field\":\"y\"}},\"id\":\"1834\",\"type\":\"Scatter\"},{\"attributes\":{\"source\":{\"id\":\"1950\",\"type\":\"ColumnDataSource\"}},\"id\":\"1954\",\"type\":\"CDSView\"},{\"attributes\":{},\"id\":\"2013\",\"type\":\"UnionRenderers\"},{\"attributes\":{\"formatter\":{\"id\":\"1889\",\"type\":\"BasicTickFormatter\"},\"ticker\":{\"id\":\"1816\",\"type\":\"BasicTicker\"}},\"id\":\"1815\",\"type\":\"LinearAxis\"},{\"attributes\":{\"fill_alpha\":{\"value\":0.1},\"fill_color\":{\"value\":\"#1f77b4\"},\"line_alpha\":{\"value\":0.1},\"line_color\":{\"value\":\"#1f77b4\"},\"x\":{\"field\":\"x\"},\"y\":{\"field\":\"y\"}},\"id\":\"1952\",\"type\":\"Triangle\"},{\"attributes\":{},\"id\":\"1823\",\"type\":\"SaveTool\"},{\"attributes\":{},\"id\":\"2012\",\"type\":\"Selection\"},{\"attributes\":{\"ticker\":{\"id\":\"1811\",\"type\":\"BasicTicker\"}},\"id\":\"1814\",\"type\":\"Grid\"},{\"attributes\":{\"fill_alpha\":{\"value\":0.1},\"fill_color\":{\"value\":\"#1f77b4\"},\"line_alpha\":{\"value\":0.1},\"line_color\":{\"value\":\"#1f77b4\"},\"x\":{\"field\":\"x\"},\"y\":{\"field\":\"y\"}},\"id\":\"1835\",\"type\":\"Scatter\"}],\"root_ids\":[\"1801\"]},\"title\":\"Bokeh Application\",\"version\":\"1.2.0\"}};\n",
       "  var render_items = [{\"docid\":\"41f2c8cb-d0af-4da4-b57f-9245b4dfa037\",\"roots\":{\"1801\":\"9ed62b29-4366-4f14-b04a-4717532b5014\"}}];\n",
       "  root.Bokeh.embed.embed_items_notebook(docs_json, render_items);\n",
       "\n",
       "  }\n",
       "  if (root.Bokeh !== undefined) {\n",
       "    embed_document(root);\n",
       "  } else {\n",
       "    var attempts = 0;\n",
       "    var timer = setInterval(function(root) {\n",
       "      if (root.Bokeh !== undefined) {\n",
       "        embed_document(root);\n",
       "        clearInterval(timer);\n",
       "      }\n",
       "      attempts++;\n",
       "      if (attempts > 100) {\n",
       "        console.log(\"Bokeh: ERROR: Unable to run BokehJS code because BokehJS library is missing\");\n",
       "        clearInterval(timer);\n",
       "      }\n",
       "    }, 10, root)\n",
       "  }\n",
       "})(window);"
      ],
      "application/vnd.bokehjs_exec.v0+json": ""
     },
     "metadata": {
      "application/vnd.bokehjs_exec.v0+json": {
       "id": "1801"
      }
     },
     "output_type": "display_data"
    }
   ],
   "source": [
    "f.triangle(x,y)\n",
    "show(f)"
   ]
  },
  {
   "cell_type": "code",
   "execution_count": 21,
   "metadata": {
    "colab": {
     "base_uri": "https://localhost:8080/",
     "height": 617
    },
    "colab_type": "code",
    "id": "bdOWSOaHymtA",
    "outputId": "281ccee1-dd35-40b1-c8bb-df4ad4c5e720"
   },
   "outputs": [
    {
     "data": {
      "text/html": [
       "\n",
       "\n",
       "\n",
       "\n",
       "\n",
       "\n",
       "  <div class=\"bk-root\" id=\"e79aa3dc-6dce-437b-a0d9-3915bc9b5987\" data-root-id=\"1801\"></div>\n"
      ]
     },
     "metadata": {},
     "output_type": "display_data"
    },
    {
     "data": {
      "application/javascript": [
       "(function(root) {\n",
       "  function embed_document(root) {\n",
       "    \n",
       "  var docs_json = {\"82c0c781-8310-4897-93b4-24b5c5ecdb2a\":{\"roots\":{\"references\":[{\"attributes\":{\"below\":[{\"id\":\"1810\",\"type\":\"LinearAxis\"}],\"center\":[{\"id\":\"1814\",\"type\":\"Grid\"},{\"id\":\"1819\",\"type\":\"Grid\"}],\"left\":[{\"id\":\"1815\",\"type\":\"LinearAxis\"}],\"renderers\":[{\"id\":\"1836\",\"type\":\"GlyphRenderer\"},{\"id\":\"1953\",\"type\":\"GlyphRenderer\"},{\"id\":\"2084\",\"type\":\"GlyphRenderer\"}],\"title\":{\"id\":\"1888\",\"type\":\"Title\"},\"toolbar\":{\"id\":\"1826\",\"type\":\"Toolbar\"},\"x_range\":{\"id\":\"1802\",\"type\":\"DataRange1d\"},\"x_scale\":{\"id\":\"1806\",\"type\":\"LinearScale\"},\"y_range\":{\"id\":\"1804\",\"type\":\"DataRange1d\"},\"y_scale\":{\"id\":\"1808\",\"type\":\"LinearScale\"}},\"id\":\"1801\",\"subtype\":\"Figure\",\"type\":\"Plot\"},{\"attributes\":{\"active_drag\":\"auto\",\"active_inspect\":\"auto\",\"active_multi\":null,\"active_scroll\":\"auto\",\"active_tap\":\"auto\",\"tools\":[{\"id\":\"1820\",\"type\":\"PanTool\"},{\"id\":\"1821\",\"type\":\"WheelZoomTool\"},{\"id\":\"1822\",\"type\":\"BoxZoomTool\"},{\"id\":\"1823\",\"type\":\"SaveTool\"},{\"id\":\"1824\",\"type\":\"ResetTool\"},{\"id\":\"1825\",\"type\":\"HelpTool\"}]},\"id\":\"1826\",\"type\":\"Toolbar\"},{\"attributes\":{},\"id\":\"1824\",\"type\":\"ResetTool\"},{\"attributes\":{\"text\":\"\"},\"id\":\"1888\",\"type\":\"Title\"},{\"attributes\":{},\"id\":\"1889\",\"type\":\"BasicTickFormatter\"},{\"attributes\":{\"data_source\":{\"id\":\"1950\",\"type\":\"ColumnDataSource\"},\"glyph\":{\"id\":\"1951\",\"type\":\"Triangle\"},\"hover_glyph\":null,\"muted_glyph\":null,\"nonselection_glyph\":{\"id\":\"1952\",\"type\":\"Triangle\"},\"selection_glyph\":null,\"view\":{\"id\":\"1954\",\"type\":\"CDSView\"}},\"id\":\"1953\",\"type\":\"GlyphRenderer\"},{\"attributes\":{},\"id\":\"2145\",\"type\":\"Selection\"},{\"attributes\":{\"data_source\":{\"id\":\"1833\",\"type\":\"ColumnDataSource\"},\"glyph\":{\"id\":\"1834\",\"type\":\"Scatter\"},\"hover_glyph\":null,\"muted_glyph\":null,\"nonselection_glyph\":{\"id\":\"1835\",\"type\":\"Scatter\"},\"selection_glyph\":null,\"view\":{\"id\":\"1837\",\"type\":\"CDSView\"}},\"id\":\"1836\",\"type\":\"GlyphRenderer\"},{\"attributes\":{\"source\":{\"id\":\"2081\",\"type\":\"ColumnDataSource\"}},\"id\":\"2085\",\"type\":\"CDSView\"},{\"attributes\":{\"source\":{\"id\":\"1833\",\"type\":\"ColumnDataSource\"}},\"id\":\"1837\",\"type\":\"CDSView\"},{\"attributes\":{\"fill_color\":{\"value\":\"#1f77b4\"},\"line_color\":{\"value\":\"#1f77b4\"},\"x\":{\"field\":\"x\"},\"y\":{\"field\":\"y\"}},\"id\":\"1951\",\"type\":\"Triangle\"},{\"attributes\":{},\"id\":\"2146\",\"type\":\"UnionRenderers\"},{\"attributes\":{\"callback\":null},\"id\":\"1802\",\"type\":\"DataRange1d\"},{\"attributes\":{\"callback\":null,\"data\":{\"x\":{\"__ndarray__\":\"v0uwhMJZAMCUaY2dgJT5vwb8ugYE3+k/fIS+CmT08r+5q8umwBf6P1nI5C9gI8E/Ho4QcZYr9L+ZT8hA1RTkvw0YQS61Lu+/UuvpQ1GG2b//ETSHRXL+v2D4DmsZ27G/vUJZkA8U078hD2JY6cDbP6lbklCde+6/1OpkbC9A2j9MucqnUijgvzplDFp+6v8/MvT7GOzI3r9JlATNO5H6P2OQl8VhX/u/gAER9e/dv7+gdRu/x6rrP2HjOgASgqG/ryhgA7bwyj//kOWTFrnhv1ozbrCKHeQ/+euyo/OUrD9wiIYHmGSnv4RlBMVzFPK/VYPykodl4b8+tyhTAKLTvz0W/R0CePi/N+lW4GLOsL+EsqLaf6zVP5H5VnyBYak/chTZ8dYQ0b+UjL5VuD31v1kZ7NbQJfW/mxfl1BpP6r8Iz20Pcc32v5PYGMushPW/Y9/4Ar8W0T9emLCGtJbRv0iAoHt+mOm/VEuRNOIK4L9PsbBIZWfxP9bFGVWkx8w/f4C/QlYRxD+nTtLdRQrwv9aL96Em/qM/m79RETSQxz/+K0x4WCPZP+mAl9TAUN2/Y8wLoTjcwD8u20eCr6nYP7QRf9yDqMU/wrLdVeP2y7/NSTvDmGjrP2yF1Q9ad+4/9T/YqLoM+T80mIzNxUX4P8AFXKLT37m/zSOjxglV/D+TEi9qhiLbP/FOBgO/Jec/krzG0TAz1r/K7GSNoCjoP3nr/Fy68sE//3G9yogtgz93Tcagdc3uPwIQV/kCgu0/VSuGDIc49j/hqyLaSXHVv3nbEmlVtu0/6jENPQRH2T+sXDebYTHzP/AdeyjjBs0/NCpiSjkF+T9sYYu87THFP7TWgLCIuMk/tuUSp9pox79BXkiIWlHyPy+qYLYj93w/BH9esrrf6L/3gUOs5+nxPxxB7qzN8N8/hmwCZsUH4T9dK8OgH9UAwFGyTshzkvg/FRbqc4cG6z9zdw+5lovQPw9AqueFbeK/R7xUg+go7T/bZPImgp/gv2Kca6C119+/G5bA8l8r5T9Nu/G7C/Pzv24aKQqRneW/NdqpJl5S+D8=\",\"dtype\":\"float64\",\"shape\":[100]},\"y\":{\"__ndarray__\":\"XpbZ+rm187/l/UhNHbuWv2IAq7ZbisA/UfsYzNTP7T/RErroIhjnvw0y5USSa9i/2yj3Z4299b+uGWTsUnndP0Mbl4RWNuK/kmq/jWw78z8nXKKGHgH3Pzm8JPDPn/I/00o0LIQL5T9lxm3eDerkP7fGP+eAouc/4T8vOglBBMD4H2AtuzTePxpdAizBM/i/LAqAWZJU6L9dchKfI+fTP55PBfVu9vK/eS/mlqVd7T/PkL+euIjZv2d9/W7A3sE/AcP5ikkj9L8nQDZCPr/Sv39eRffonQLAK+c37aXO4z8DegKZFJXWv9ksFPR50PK/r3d9QJjh2z+jssOdpg60P5T9CyeLPdw/cGA6jgxk9b/4sBSFGv35v4I5JLPip/8/FUVMpxRgxL/yDR7YDRHiP9W56dX7isq/izXKEUkZ6j8bgHHS7nOPP/z+bQKTW+E/7dhP3CBT67/jmXp8JJ34PwapsE2YUOc/Go4sKRfdyz9kjodlOVPJP8VoH/aLE/w/8u0rWf4k2b/mhHHdCAbTP6oN62S8zPA/Hgdq5XDE3b9Oh6VjYVHEv7NZHeAxocw/HZ6nP+eX5b/OKTajAFvWvyjaruOKANG/k1UwhOY287/CynpkFVz7P+7/O1ToOfq/KHvxKwwkqb87E36s6tPWPyd7nmrek/G/Gj4+G6Ok9T9zJce2mwrqv2hVNYeGZuC/asi1W0LWnT+tHuunqmTdP4rPcrlhp9Q/8kQrNgd82z9sa56HHPekP/B6G8hvNe0/z9UzaXJX8j8cfgZT4K3rv6yhY+mMJeI/H9oYhj1H8D9oHQNsJ8ACwPG0f93YsvC/S1WIZSYJ9D8krIUNnaLVvxzRRWuksfs/xkMYkEa85j+HbVH84r3gv9fvneNq5PQ/4kOJCiYe5D82PPd/9tOCvw5MAnay3/S/9y28jmc5+z9k8kxLJSDtv5WjQO/6OMW/b+Jf1d739j9DRJwWMdPDP8yO6xrZCvS/INLWziXG1b+wdCnP/PLkP0Apbkq+aN8/s+67tOOq5T8xwlkOLL3kv+OlnZSnduS/qb07lLVC3z8=\",\"dtype\":\"float64\",\"shape\":[100]}},\"selected\":{\"id\":\"2012\",\"type\":\"Selection\"},\"selection_policy\":{\"id\":\"2013\",\"type\":\"UnionRenderers\"}},\"id\":\"1950\",\"type\":\"ColumnDataSource\"},{\"attributes\":{\"callback\":null,\"data\":{\"x\":{\"__ndarray__\":\"v0uwhMJZAMCUaY2dgJT5vwb8ugYE3+k/fIS+CmT08r+5q8umwBf6P1nI5C9gI8E/Ho4QcZYr9L+ZT8hA1RTkvw0YQS61Lu+/UuvpQ1GG2b//ETSHRXL+v2D4DmsZ27G/vUJZkA8U078hD2JY6cDbP6lbklCde+6/1OpkbC9A2j9MucqnUijgvzplDFp+6v8/MvT7GOzI3r9JlATNO5H6P2OQl8VhX/u/gAER9e/dv7+gdRu/x6rrP2HjOgASgqG/ryhgA7bwyj//kOWTFrnhv1ozbrCKHeQ/+euyo/OUrD9wiIYHmGSnv4RlBMVzFPK/VYPykodl4b8+tyhTAKLTvz0W/R0CePi/N+lW4GLOsL+EsqLaf6zVP5H5VnyBYak/chTZ8dYQ0b+UjL5VuD31v1kZ7NbQJfW/mxfl1BpP6r8Iz20Pcc32v5PYGMushPW/Y9/4Ar8W0T9emLCGtJbRv0iAoHt+mOm/VEuRNOIK4L9PsbBIZWfxP9bFGVWkx8w/f4C/QlYRxD+nTtLdRQrwv9aL96Em/qM/m79RETSQxz/+K0x4WCPZP+mAl9TAUN2/Y8wLoTjcwD8u20eCr6nYP7QRf9yDqMU/wrLdVeP2y7/NSTvDmGjrP2yF1Q9ad+4/9T/YqLoM+T80mIzNxUX4P8AFXKLT37m/zSOjxglV/D+TEi9qhiLbP/FOBgO/Jec/krzG0TAz1r/K7GSNoCjoP3nr/Fy68sE//3G9yogtgz93Tcagdc3uPwIQV/kCgu0/VSuGDIc49j/hqyLaSXHVv3nbEmlVtu0/6jENPQRH2T+sXDebYTHzP/AdeyjjBs0/NCpiSjkF+T9sYYu87THFP7TWgLCIuMk/tuUSp9pox79BXkiIWlHyPy+qYLYj93w/BH9esrrf6L/3gUOs5+nxPxxB7qzN8N8/hmwCZsUH4T9dK8OgH9UAwFGyTshzkvg/FRbqc4cG6z9zdw+5lovQPw9AqueFbeK/R7xUg+go7T/bZPImgp/gv2Kca6C119+/G5bA8l8r5T9Nu/G7C/Pzv24aKQqRneW/NdqpJl5S+D8=\",\"dtype\":\"float64\",\"shape\":[100]},\"y\":{\"__ndarray__\":\"XpbZ+rm187/l/UhNHbuWv2IAq7ZbisA/UfsYzNTP7T/RErroIhjnvw0y5USSa9i/2yj3Z4299b+uGWTsUnndP0Mbl4RWNuK/kmq/jWw78z8nXKKGHgH3Pzm8JPDPn/I/00o0LIQL5T9lxm3eDerkP7fGP+eAouc/4T8vOglBBMD4H2AtuzTePxpdAizBM/i/LAqAWZJU6L9dchKfI+fTP55PBfVu9vK/eS/mlqVd7T/PkL+euIjZv2d9/W7A3sE/AcP5ikkj9L8nQDZCPr/Sv39eRffonQLAK+c37aXO4z8DegKZFJXWv9ksFPR50PK/r3d9QJjh2z+jssOdpg60P5T9CyeLPdw/cGA6jgxk9b/4sBSFGv35v4I5JLPip/8/FUVMpxRgxL/yDR7YDRHiP9W56dX7isq/izXKEUkZ6j8bgHHS7nOPP/z+bQKTW+E/7dhP3CBT67/jmXp8JJ34PwapsE2YUOc/Go4sKRfdyz9kjodlOVPJP8VoH/aLE/w/8u0rWf4k2b/mhHHdCAbTP6oN62S8zPA/Hgdq5XDE3b9Oh6VjYVHEv7NZHeAxocw/HZ6nP+eX5b/OKTajAFvWvyjaruOKANG/k1UwhOY287/CynpkFVz7P+7/O1ToOfq/KHvxKwwkqb87E36s6tPWPyd7nmrek/G/Gj4+G6Ok9T9zJce2mwrqv2hVNYeGZuC/asi1W0LWnT+tHuunqmTdP4rPcrlhp9Q/8kQrNgd82z9sa56HHPekP/B6G8hvNe0/z9UzaXJX8j8cfgZT4K3rv6yhY+mMJeI/H9oYhj1H8D9oHQNsJ8ACwPG0f93YsvC/S1WIZSYJ9D8krIUNnaLVvxzRRWuksfs/xkMYkEa85j+HbVH84r3gv9fvneNq5PQ/4kOJCiYe5D82PPd/9tOCvw5MAnay3/S/9y28jmc5+z9k8kxLJSDtv5WjQO/6OMW/b+Jf1d739j9DRJwWMdPDP8yO6xrZCvS/INLWziXG1b+wdCnP/PLkP0Apbkq+aN8/s+67tOOq5T8xwlkOLL3kv+OlnZSnduS/qb07lLVC3z8=\",\"dtype\":\"float64\",\"shape\":[100]}},\"selected\":{\"id\":\"1893\",\"type\":\"Selection\"},\"selection_policy\":{\"id\":\"1894\",\"type\":\"UnionRenderers\"}},\"id\":\"1833\",\"type\":\"ColumnDataSource\"},{\"attributes\":{},\"id\":\"1806\",\"type\":\"LinearScale\"},{\"attributes\":{},\"id\":\"1820\",\"type\":\"PanTool\"},{\"attributes\":{},\"id\":\"1893\",\"type\":\"Selection\"},{\"attributes\":{\"overlay\":{\"id\":\"1895\",\"type\":\"BoxAnnotation\"}},\"id\":\"1822\",\"type\":\"BoxZoomTool\"},{\"attributes\":{\"callback\":null},\"id\":\"1804\",\"type\":\"DataRange1d\"},{\"attributes\":{\"bottom_units\":\"screen\",\"fill_alpha\":{\"value\":0.5},\"fill_color\":{\"value\":\"lightgrey\"},\"left_units\":\"screen\",\"level\":\"overlay\",\"line_alpha\":{\"value\":1.0},\"line_color\":{\"value\":\"black\"},\"line_dash\":[4,4],\"line_width\":{\"value\":2},\"render_mode\":\"css\",\"right_units\":\"screen\",\"top_units\":\"screen\"},\"id\":\"1895\",\"type\":\"BoxAnnotation\"},{\"attributes\":{},\"id\":\"1821\",\"type\":\"WheelZoomTool\"},{\"attributes\":{},\"id\":\"1811\",\"type\":\"BasicTicker\"},{\"attributes\":{},\"id\":\"1894\",\"type\":\"UnionRenderers\"},{\"attributes\":{},\"id\":\"1808\",\"type\":\"LinearScale\"},{\"attributes\":{},\"id\":\"1825\",\"type\":\"HelpTool\"},{\"attributes\":{\"formatter\":{\"id\":\"1891\",\"type\":\"BasicTickFormatter\"},\"ticker\":{\"id\":\"1811\",\"type\":\"BasicTicker\"}},\"id\":\"1810\",\"type\":\"LinearAxis\"},{\"attributes\":{},\"id\":\"1891\",\"type\":\"BasicTickFormatter\"},{\"attributes\":{},\"id\":\"1816\",\"type\":\"BasicTicker\"},{\"attributes\":{\"dimension\":1,\"ticker\":{\"id\":\"1816\",\"type\":\"BasicTicker\"}},\"id\":\"1819\",\"type\":\"Grid\"},{\"attributes\":{\"fill_color\":{\"value\":\"#1f77b4\"},\"line_color\":{\"value\":\"#1f77b4\"},\"x\":{\"field\":\"x\"},\"y\":{\"field\":\"y\"}},\"id\":\"1834\",\"type\":\"Scatter\"},{\"attributes\":{\"source\":{\"id\":\"1950\",\"type\":\"ColumnDataSource\"}},\"id\":\"1954\",\"type\":\"CDSView\"},{\"attributes\":{},\"id\":\"2013\",\"type\":\"UnionRenderers\"},{\"attributes\":{\"formatter\":{\"id\":\"1889\",\"type\":\"BasicTickFormatter\"},\"ticker\":{\"id\":\"1816\",\"type\":\"BasicTicker\"}},\"id\":\"1815\",\"type\":\"LinearAxis\"},{\"attributes\":{\"callback\":null,\"data\":{\"x\":{\"__ndarray__\":\"v0uwhMJZAMCUaY2dgJT5vwb8ugYE3+k/fIS+CmT08r+5q8umwBf6P1nI5C9gI8E/Ho4QcZYr9L+ZT8hA1RTkvw0YQS61Lu+/UuvpQ1GG2b//ETSHRXL+v2D4DmsZ27G/vUJZkA8U078hD2JY6cDbP6lbklCde+6/1OpkbC9A2j9MucqnUijgvzplDFp+6v8/MvT7GOzI3r9JlATNO5H6P2OQl8VhX/u/gAER9e/dv7+gdRu/x6rrP2HjOgASgqG/ryhgA7bwyj//kOWTFrnhv1ozbrCKHeQ/+euyo/OUrD9wiIYHmGSnv4RlBMVzFPK/VYPykodl4b8+tyhTAKLTvz0W/R0CePi/N+lW4GLOsL+EsqLaf6zVP5H5VnyBYak/chTZ8dYQ0b+UjL5VuD31v1kZ7NbQJfW/mxfl1BpP6r8Iz20Pcc32v5PYGMushPW/Y9/4Ar8W0T9emLCGtJbRv0iAoHt+mOm/VEuRNOIK4L9PsbBIZWfxP9bFGVWkx8w/f4C/QlYRxD+nTtLdRQrwv9aL96Em/qM/m79RETSQxz/+K0x4WCPZP+mAl9TAUN2/Y8wLoTjcwD8u20eCr6nYP7QRf9yDqMU/wrLdVeP2y7/NSTvDmGjrP2yF1Q9ad+4/9T/YqLoM+T80mIzNxUX4P8AFXKLT37m/zSOjxglV/D+TEi9qhiLbP/FOBgO/Jec/krzG0TAz1r/K7GSNoCjoP3nr/Fy68sE//3G9yogtgz93Tcagdc3uPwIQV/kCgu0/VSuGDIc49j/hqyLaSXHVv3nbEmlVtu0/6jENPQRH2T+sXDebYTHzP/AdeyjjBs0/NCpiSjkF+T9sYYu87THFP7TWgLCIuMk/tuUSp9pox79BXkiIWlHyPy+qYLYj93w/BH9esrrf6L/3gUOs5+nxPxxB7qzN8N8/hmwCZsUH4T9dK8OgH9UAwFGyTshzkvg/FRbqc4cG6z9zdw+5lovQPw9AqueFbeK/R7xUg+go7T/bZPImgp/gv2Kca6C119+/G5bA8l8r5T9Nu/G7C/Pzv24aKQqRneW/NdqpJl5S+D8=\",\"dtype\":\"float64\",\"shape\":[100]},\"y\":{\"__ndarray__\":\"XpbZ+rm187/l/UhNHbuWv2IAq7ZbisA/UfsYzNTP7T/RErroIhjnvw0y5USSa9i/2yj3Z4299b+uGWTsUnndP0Mbl4RWNuK/kmq/jWw78z8nXKKGHgH3Pzm8JPDPn/I/00o0LIQL5T9lxm3eDerkP7fGP+eAouc/4T8vOglBBMD4H2AtuzTePxpdAizBM/i/LAqAWZJU6L9dchKfI+fTP55PBfVu9vK/eS/mlqVd7T/PkL+euIjZv2d9/W7A3sE/AcP5ikkj9L8nQDZCPr/Sv39eRffonQLAK+c37aXO4z8DegKZFJXWv9ksFPR50PK/r3d9QJjh2z+jssOdpg60P5T9CyeLPdw/cGA6jgxk9b/4sBSFGv35v4I5JLPip/8/FUVMpxRgxL/yDR7YDRHiP9W56dX7isq/izXKEUkZ6j8bgHHS7nOPP/z+bQKTW+E/7dhP3CBT67/jmXp8JJ34PwapsE2YUOc/Go4sKRfdyz9kjodlOVPJP8VoH/aLE/w/8u0rWf4k2b/mhHHdCAbTP6oN62S8zPA/Hgdq5XDE3b9Oh6VjYVHEv7NZHeAxocw/HZ6nP+eX5b/OKTajAFvWvyjaruOKANG/k1UwhOY287/CynpkFVz7P+7/O1ToOfq/KHvxKwwkqb87E36s6tPWPyd7nmrek/G/Gj4+G6Ok9T9zJce2mwrqv2hVNYeGZuC/asi1W0LWnT+tHuunqmTdP4rPcrlhp9Q/8kQrNgd82z9sa56HHPekP/B6G8hvNe0/z9UzaXJX8j8cfgZT4K3rv6yhY+mMJeI/H9oYhj1H8D9oHQNsJ8ACwPG0f93YsvC/S1WIZSYJ9D8krIUNnaLVvxzRRWuksfs/xkMYkEa85j+HbVH84r3gv9fvneNq5PQ/4kOJCiYe5D82PPd/9tOCvw5MAnay3/S/9y28jmc5+z9k8kxLJSDtv5WjQO/6OMW/b+Jf1d739j9DRJwWMdPDP8yO6xrZCvS/INLWziXG1b+wdCnP/PLkP0Apbkq+aN8/s+67tOOq5T8xwlkOLL3kv+OlnZSnduS/qb07lLVC3z8=\",\"dtype\":\"float64\",\"shape\":[100]}},\"selected\":{\"id\":\"2145\",\"type\":\"Selection\"},\"selection_policy\":{\"id\":\"2146\",\"type\":\"UnionRenderers\"}},\"id\":\"2081\",\"type\":\"ColumnDataSource\"},{\"attributes\":{\"fill_alpha\":{\"value\":0.1},\"fill_color\":{\"value\":\"#1f77b4\"},\"line_alpha\":{\"value\":0.1},\"line_color\":{\"value\":\"#1f77b4\"},\"x\":{\"field\":\"x\"},\"y\":{\"field\":\"y\"}},\"id\":\"1952\",\"type\":\"Triangle\"},{\"attributes\":{\"fill_color\":{\"value\":\"#1f77b4\"},\"line_color\":{\"value\":\"#1f77b4\"},\"x\":{\"field\":\"x\"},\"y\":{\"field\":\"y\"}},\"id\":\"2082\",\"type\":\"Circle\"},{\"attributes\":{},\"id\":\"1823\",\"type\":\"SaveTool\"},{\"attributes\":{},\"id\":\"2012\",\"type\":\"Selection\"},{\"attributes\":{\"ticker\":{\"id\":\"1811\",\"type\":\"BasicTicker\"}},\"id\":\"1814\",\"type\":\"Grid\"},{\"attributes\":{\"data_source\":{\"id\":\"2081\",\"type\":\"ColumnDataSource\"},\"glyph\":{\"id\":\"2082\",\"type\":\"Circle\"},\"hover_glyph\":null,\"muted_glyph\":null,\"nonselection_glyph\":{\"id\":\"2083\",\"type\":\"Circle\"},\"selection_glyph\":null,\"view\":{\"id\":\"2085\",\"type\":\"CDSView\"}},\"id\":\"2084\",\"type\":\"GlyphRenderer\"},{\"attributes\":{\"fill_alpha\":{\"value\":0.1},\"fill_color\":{\"value\":\"#1f77b4\"},\"line_alpha\":{\"value\":0.1},\"line_color\":{\"value\":\"#1f77b4\"},\"x\":{\"field\":\"x\"},\"y\":{\"field\":\"y\"}},\"id\":\"1835\",\"type\":\"Scatter\"},{\"attributes\":{\"fill_alpha\":{\"value\":0.1},\"fill_color\":{\"value\":\"#1f77b4\"},\"line_alpha\":{\"value\":0.1},\"line_color\":{\"value\":\"#1f77b4\"},\"x\":{\"field\":\"x\"},\"y\":{\"field\":\"y\"}},\"id\":\"2083\",\"type\":\"Circle\"}],\"root_ids\":[\"1801\"]},\"title\":\"Bokeh Application\",\"version\":\"1.2.0\"}};\n",
       "  var render_items = [{\"docid\":\"82c0c781-8310-4897-93b4-24b5c5ecdb2a\",\"roots\":{\"1801\":\"e79aa3dc-6dce-437b-a0d9-3915bc9b5987\"}}];\n",
       "  root.Bokeh.embed.embed_items_notebook(docs_json, render_items);\n",
       "\n",
       "  }\n",
       "  if (root.Bokeh !== undefined) {\n",
       "    embed_document(root);\n",
       "  } else {\n",
       "    var attempts = 0;\n",
       "    var timer = setInterval(function(root) {\n",
       "      if (root.Bokeh !== undefined) {\n",
       "        embed_document(root);\n",
       "        clearInterval(timer);\n",
       "      }\n",
       "      attempts++;\n",
       "      if (attempts > 100) {\n",
       "        console.log(\"Bokeh: ERROR: Unable to run BokehJS code because BokehJS library is missing\");\n",
       "        clearInterval(timer);\n",
       "      }\n",
       "    }, 10, root)\n",
       "  }\n",
       "})(window);"
      ],
      "application/vnd.bokehjs_exec.v0+json": ""
     },
     "metadata": {
      "application/vnd.bokehjs_exec.v0+json": {
       "id": "1801"
      }
     },
     "output_type": "display_data"
    }
   ],
   "source": [
    "f.circle(x,y)\n",
    "show(f)"
   ]
  },
  {
   "cell_type": "markdown",
   "metadata": {
    "colab_type": "text",
    "id": "Qgh9p8eDzaHn"
   },
   "source": [
    "Creating a Bokeh chart from a dataframe."
   ]
  },
  {
   "cell_type": "code",
   "execution_count": 22,
   "metadata": {
    "colab": {
     "base_uri": "https://localhost:8080/",
     "height": 206
    },
    "colab_type": "code",
    "id": "0tczemwjyqs-",
    "outputId": "bd0cc302-1184-48a4-bf5e-285eedb5acd7"
   },
   "outputs": [
    {
     "data": {
      "text/html": [
       "<div>\n",
       "<style scoped>\n",
       "    .dataframe tbody tr th:only-of-type {\n",
       "        vertical-align: middle;\n",
       "    }\n",
       "\n",
       "    .dataframe tbody tr th {\n",
       "        vertical-align: top;\n",
       "    }\n",
       "\n",
       "    .dataframe thead th {\n",
       "        text-align: right;\n",
       "    }\n",
       "</style>\n",
       "<table border=\"1\" class=\"dataframe\">\n",
       "  <thead>\n",
       "    <tr style=\"text-align: right;\">\n",
       "      <th></th>\n",
       "      <th>x</th>\n",
       "      <th>y</th>\n",
       "    </tr>\n",
       "  </thead>\n",
       "  <tbody>\n",
       "    <tr>\n",
       "      <th>0</th>\n",
       "      <td>-2.043828</td>\n",
       "      <td>-1.231867</td>\n",
       "    </tr>\n",
       "    <tr>\n",
       "      <th>1</th>\n",
       "      <td>-1.598755</td>\n",
       "      <td>-0.022198</td>\n",
       "    </tr>\n",
       "    <tr>\n",
       "      <th>2</th>\n",
       "      <td>0.808474</td>\n",
       "      <td>0.129222</td>\n",
       "    </tr>\n",
       "    <tr>\n",
       "      <th>3</th>\n",
       "      <td>-1.184666</td>\n",
       "      <td>0.931620</td>\n",
       "    </tr>\n",
       "    <tr>\n",
       "      <th>4</th>\n",
       "      <td>1.630799</td>\n",
       "      <td>-0.721696</td>\n",
       "    </tr>\n",
       "  </tbody>\n",
       "</table>\n",
       "</div>"
      ],
      "text/plain": [
       "          x         y\n",
       "0 -2.043828 -1.231867\n",
       "1 -1.598755 -0.022198\n",
       "2  0.808474  0.129222\n",
       "3 -1.184666  0.931620\n",
       "4  1.630799 -0.721696"
      ]
     },
     "execution_count": 22,
     "metadata": {},
     "output_type": "execute_result"
    }
   ],
   "source": [
    "# Creating a chart from the Pandas DataFrame\n",
    "\n",
    "df = pd.DataFrame({'x': x,\n",
    "                   'y': y})\n",
    "df.head()"
   ]
  },
  {
   "cell_type": "code",
   "execution_count": 23,
   "metadata": {
    "colab": {
     "base_uri": "https://localhost:8080/",
     "height": 617
    },
    "colab_type": "code",
    "id": "7WX2xCMgzHJW",
    "outputId": "0a67e184-9061-4191-ff96-fb96259a5350"
   },
   "outputs": [
    {
     "data": {
      "text/html": [
       "\n",
       "\n",
       "\n",
       "\n",
       "\n",
       "\n",
       "  <div class=\"bk-root\" id=\"549b4c39-d353-4497-8e2d-539cfdc46500\" data-root-id=\"2226\"></div>\n"
      ]
     },
     "metadata": {},
     "output_type": "display_data"
    },
    {
     "data": {
      "application/javascript": [
       "(function(root) {\n",
       "  function embed_document(root) {\n",
       "    \n",
       "  var docs_json = {\"d527e8c7-1e78-4b83-90c8-d6ad6f4f2b87\":{\"roots\":{\"references\":[{\"attributes\":{\"below\":[{\"id\":\"2235\",\"type\":\"LinearAxis\"}],\"center\":[{\"id\":\"2239\",\"type\":\"Grid\"},{\"id\":\"2244\",\"type\":\"Grid\"}],\"left\":[{\"id\":\"2240\",\"type\":\"LinearAxis\"}],\"renderers\":[{\"id\":\"2261\",\"type\":\"GlyphRenderer\"}],\"title\":{\"id\":\"2326\",\"type\":\"Title\"},\"toolbar\":{\"id\":\"2251\",\"type\":\"Toolbar\"},\"x_range\":{\"id\":\"2227\",\"type\":\"DataRange1d\"},\"x_scale\":{\"id\":\"2231\",\"type\":\"LinearScale\"},\"y_range\":{\"id\":\"2229\",\"type\":\"DataRange1d\"},\"y_scale\":{\"id\":\"2233\",\"type\":\"LinearScale\"}},\"id\":\"2226\",\"subtype\":\"Figure\",\"type\":\"Plot\"},{\"attributes\":{},\"id\":\"2236\",\"type\":\"BasicTicker\"},{\"attributes\":{\"dimension\":1,\"ticker\":{\"id\":\"2241\",\"type\":\"BasicTicker\"}},\"id\":\"2244\",\"type\":\"Grid\"},{\"attributes\":{\"fill_color\":{\"value\":\"#1f77b4\"},\"line_color\":{\"value\":\"#1f77b4\"},\"x\":{\"field\":\"x\"},\"y\":{\"field\":\"y\"}},\"id\":\"2259\",\"type\":\"Circle\"},{\"attributes\":{\"callback\":null,\"data\":{\"x\":{\"__ndarray__\":\"v0uwhMJZAMCUaY2dgJT5vwb8ugYE3+k/fIS+CmT08r+5q8umwBf6P1nI5C9gI8E/Ho4QcZYr9L+ZT8hA1RTkvw0YQS61Lu+/UuvpQ1GG2b//ETSHRXL+v2D4DmsZ27G/vUJZkA8U078hD2JY6cDbP6lbklCde+6/1OpkbC9A2j9MucqnUijgvzplDFp+6v8/MvT7GOzI3r9JlATNO5H6P2OQl8VhX/u/gAER9e/dv7+gdRu/x6rrP2HjOgASgqG/ryhgA7bwyj//kOWTFrnhv1ozbrCKHeQ/+euyo/OUrD9wiIYHmGSnv4RlBMVzFPK/VYPykodl4b8+tyhTAKLTvz0W/R0CePi/N+lW4GLOsL+EsqLaf6zVP5H5VnyBYak/chTZ8dYQ0b+UjL5VuD31v1kZ7NbQJfW/mxfl1BpP6r8Iz20Pcc32v5PYGMushPW/Y9/4Ar8W0T9emLCGtJbRv0iAoHt+mOm/VEuRNOIK4L9PsbBIZWfxP9bFGVWkx8w/f4C/QlYRxD+nTtLdRQrwv9aL96Em/qM/m79RETSQxz/+K0x4WCPZP+mAl9TAUN2/Y8wLoTjcwD8u20eCr6nYP7QRf9yDqMU/wrLdVeP2y7/NSTvDmGjrP2yF1Q9ad+4/9T/YqLoM+T80mIzNxUX4P8AFXKLT37m/zSOjxglV/D+TEi9qhiLbP/FOBgO/Jec/krzG0TAz1r/K7GSNoCjoP3nr/Fy68sE//3G9yogtgz93Tcagdc3uPwIQV/kCgu0/VSuGDIc49j/hqyLaSXHVv3nbEmlVtu0/6jENPQRH2T+sXDebYTHzP/AdeyjjBs0/NCpiSjkF+T9sYYu87THFP7TWgLCIuMk/tuUSp9pox79BXkiIWlHyPy+qYLYj93w/BH9esrrf6L/3gUOs5+nxPxxB7qzN8N8/hmwCZsUH4T9dK8OgH9UAwFGyTshzkvg/FRbqc4cG6z9zdw+5lovQPw9AqueFbeK/R7xUg+go7T/bZPImgp/gv2Kca6C119+/G5bA8l8r5T9Nu/G7C/Pzv24aKQqRneW/NdqpJl5S+D8=\",\"dtype\":\"float64\",\"shape\":[100]},\"y\":{\"__ndarray__\":\"XpbZ+rm187/l/UhNHbuWv2IAq7ZbisA/UfsYzNTP7T/RErroIhjnvw0y5USSa9i/2yj3Z4299b+uGWTsUnndP0Mbl4RWNuK/kmq/jWw78z8nXKKGHgH3Pzm8JPDPn/I/00o0LIQL5T9lxm3eDerkP7fGP+eAouc/4T8vOglBBMD4H2AtuzTePxpdAizBM/i/LAqAWZJU6L9dchKfI+fTP55PBfVu9vK/eS/mlqVd7T/PkL+euIjZv2d9/W7A3sE/AcP5ikkj9L8nQDZCPr/Sv39eRffonQLAK+c37aXO4z8DegKZFJXWv9ksFPR50PK/r3d9QJjh2z+jssOdpg60P5T9CyeLPdw/cGA6jgxk9b/4sBSFGv35v4I5JLPip/8/FUVMpxRgxL/yDR7YDRHiP9W56dX7isq/izXKEUkZ6j8bgHHS7nOPP/z+bQKTW+E/7dhP3CBT67/jmXp8JJ34PwapsE2YUOc/Go4sKRfdyz9kjodlOVPJP8VoH/aLE/w/8u0rWf4k2b/mhHHdCAbTP6oN62S8zPA/Hgdq5XDE3b9Oh6VjYVHEv7NZHeAxocw/HZ6nP+eX5b/OKTajAFvWvyjaruOKANG/k1UwhOY287/CynpkFVz7P+7/O1ToOfq/KHvxKwwkqb87E36s6tPWPyd7nmrek/G/Gj4+G6Ok9T9zJce2mwrqv2hVNYeGZuC/asi1W0LWnT+tHuunqmTdP4rPcrlhp9Q/8kQrNgd82z9sa56HHPekP/B6G8hvNe0/z9UzaXJX8j8cfgZT4K3rv6yhY+mMJeI/H9oYhj1H8D9oHQNsJ8ACwPG0f93YsvC/S1WIZSYJ9D8krIUNnaLVvxzRRWuksfs/xkMYkEa85j+HbVH84r3gv9fvneNq5PQ/4kOJCiYe5D82PPd/9tOCvw5MAnay3/S/9y28jmc5+z9k8kxLJSDtv5WjQO/6OMW/b+Jf1d739j9DRJwWMdPDP8yO6xrZCvS/INLWziXG1b+wdCnP/PLkP0Apbkq+aN8/s+67tOOq5T8xwlkOLL3kv+OlnZSnduS/qb07lLVC3z8=\",\"dtype\":\"float64\",\"shape\":[100]}},\"selected\":{\"id\":\"2331\",\"type\":\"Selection\"},\"selection_policy\":{\"id\":\"2332\",\"type\":\"UnionRenderers\"}},\"id\":\"2258\",\"type\":\"ColumnDataSource\"},{\"attributes\":{\"active_drag\":\"auto\",\"active_inspect\":\"auto\",\"active_multi\":null,\"active_scroll\":\"auto\",\"active_tap\":\"auto\",\"tools\":[{\"id\":\"2245\",\"type\":\"PanTool\"},{\"id\":\"2246\",\"type\":\"WheelZoomTool\"},{\"id\":\"2247\",\"type\":\"BoxZoomTool\"},{\"id\":\"2248\",\"type\":\"SaveTool\"},{\"id\":\"2249\",\"type\":\"ResetTool\"},{\"id\":\"2250\",\"type\":\"HelpTool\"}]},\"id\":\"2251\",\"type\":\"Toolbar\"},{\"attributes\":{},\"id\":\"2245\",\"type\":\"PanTool\"},{\"attributes\":{},\"id\":\"2331\",\"type\":\"Selection\"},{\"attributes\":{},\"id\":\"2246\",\"type\":\"WheelZoomTool\"},{\"attributes\":{},\"id\":\"2241\",\"type\":\"BasicTicker\"},{\"attributes\":{},\"id\":\"2231\",\"type\":\"LinearScale\"},{\"attributes\":{\"overlay\":{\"id\":\"2333\",\"type\":\"BoxAnnotation\"}},\"id\":\"2247\",\"type\":\"BoxZoomTool\"},{\"attributes\":{\"formatter\":{\"id\":\"2329\",\"type\":\"BasicTickFormatter\"},\"ticker\":{\"id\":\"2236\",\"type\":\"BasicTicker\"}},\"id\":\"2235\",\"type\":\"LinearAxis\"},{\"attributes\":{},\"id\":\"2248\",\"type\":\"SaveTool\"},{\"attributes\":{},\"id\":\"2249\",\"type\":\"ResetTool\"},{\"attributes\":{\"callback\":null},\"id\":\"2227\",\"type\":\"DataRange1d\"},{\"attributes\":{},\"id\":\"2250\",\"type\":\"HelpTool\"},{\"attributes\":{\"fill_alpha\":{\"value\":0.1},\"fill_color\":{\"value\":\"#1f77b4\"},\"line_alpha\":{\"value\":0.1},\"line_color\":{\"value\":\"#1f77b4\"},\"x\":{\"field\":\"x\"},\"y\":{\"field\":\"y\"}},\"id\":\"2260\",\"type\":\"Circle\"},{\"attributes\":{},\"id\":\"2332\",\"type\":\"UnionRenderers\"},{\"attributes\":{\"data_source\":{\"id\":\"2258\",\"type\":\"ColumnDataSource\"},\"glyph\":{\"id\":\"2259\",\"type\":\"Circle\"},\"hover_glyph\":null,\"muted_glyph\":null,\"nonselection_glyph\":{\"id\":\"2260\",\"type\":\"Circle\"},\"selection_glyph\":null,\"view\":{\"id\":\"2262\",\"type\":\"CDSView\"}},\"id\":\"2261\",\"type\":\"GlyphRenderer\"},{\"attributes\":{\"formatter\":{\"id\":\"2327\",\"type\":\"BasicTickFormatter\"},\"ticker\":{\"id\":\"2241\",\"type\":\"BasicTicker\"}},\"id\":\"2240\",\"type\":\"LinearAxis\"},{\"attributes\":{\"source\":{\"id\":\"2258\",\"type\":\"ColumnDataSource\"}},\"id\":\"2262\",\"type\":\"CDSView\"},{\"attributes\":{\"text\":\"\"},\"id\":\"2326\",\"type\":\"Title\"},{\"attributes\":{\"callback\":null},\"id\":\"2229\",\"type\":\"DataRange1d\"},{\"attributes\":{\"ticker\":{\"id\":\"2236\",\"type\":\"BasicTicker\"}},\"id\":\"2239\",\"type\":\"Grid\"},{\"attributes\":{},\"id\":\"2327\",\"type\":\"BasicTickFormatter\"},{\"attributes\":{},\"id\":\"2329\",\"type\":\"BasicTickFormatter\"},{\"attributes\":{\"bottom_units\":\"screen\",\"fill_alpha\":{\"value\":0.5},\"fill_color\":{\"value\":\"lightgrey\"},\"left_units\":\"screen\",\"level\":\"overlay\",\"line_alpha\":{\"value\":1.0},\"line_color\":{\"value\":\"black\"},\"line_dash\":[4,4],\"line_width\":{\"value\":2},\"render_mode\":\"css\",\"right_units\":\"screen\",\"top_units\":\"screen\"},\"id\":\"2333\",\"type\":\"BoxAnnotation\"},{\"attributes\":{},\"id\":\"2233\",\"type\":\"LinearScale\"}],\"root_ids\":[\"2226\"]},\"title\":\"Bokeh Application\",\"version\":\"1.2.0\"}};\n",
       "  var render_items = [{\"docid\":\"d527e8c7-1e78-4b83-90c8-d6ad6f4f2b87\",\"roots\":{\"2226\":\"549b4c39-d353-4497-8e2d-539cfdc46500\"}}];\n",
       "  root.Bokeh.embed.embed_items_notebook(docs_json, render_items);\n",
       "\n",
       "  }\n",
       "  if (root.Bokeh !== undefined) {\n",
       "    embed_document(root);\n",
       "  } else {\n",
       "    var attempts = 0;\n",
       "    var timer = setInterval(function(root) {\n",
       "      if (root.Bokeh !== undefined) {\n",
       "        embed_document(root);\n",
       "        clearInterval(timer);\n",
       "      }\n",
       "      attempts++;\n",
       "      if (attempts > 100) {\n",
       "        console.log(\"Bokeh: ERROR: Unable to run BokehJS code because BokehJS library is missing\");\n",
       "        clearInterval(timer);\n",
       "      }\n",
       "    }, 10, root)\n",
       "  }\n",
       "})(window);"
      ],
      "application/vnd.bokehjs_exec.v0+json": ""
     },
     "metadata": {
      "application/vnd.bokehjs_exec.v0+json": {
       "id": "2226"
      }
     },
     "output_type": "display_data"
    }
   ],
   "source": [
    "f = figure()\n",
    "f.circle(df['x'], df['y'])\n",
    "show(f)"
   ]
  },
  {
   "cell_type": "markdown",
   "metadata": {
    "colab_type": "text",
    "id": "mSyTzqVFzYCH"
   },
   "source": [
    "Creating more charts using the pandas dataframe. In this chart we will download the data from a website. This data show the percentage of women who have received bachelors degree in engineering."
   ]
  },
  {
   "cell_type": "code",
   "execution_count": 24,
   "metadata": {
    "colab": {},
    "colab_type": "code",
    "id": "N66-QRNwz96G"
   },
   "outputs": [],
   "source": [
    "df = pd.read_csv('http://pythonhow.com/data/bachelors.csv')"
   ]
  },
  {
   "cell_type": "code",
   "execution_count": 25,
   "metadata": {
    "colab": {
     "base_uri": "https://localhost:8080/",
     "height": 241
    },
    "colab_type": "code",
    "id": "-BBatWS90Dkx",
    "outputId": "df37d6b8-c46b-4cea-fc0e-294fd52f06e3"
   },
   "outputs": [
    {
     "data": {
      "text/html": [
       "<div>\n",
       "<style scoped>\n",
       "    .dataframe tbody tr th:only-of-type {\n",
       "        vertical-align: middle;\n",
       "    }\n",
       "\n",
       "    .dataframe tbody tr th {\n",
       "        vertical-align: top;\n",
       "    }\n",
       "\n",
       "    .dataframe thead th {\n",
       "        text-align: right;\n",
       "    }\n",
       "</style>\n",
       "<table border=\"1\" class=\"dataframe\">\n",
       "  <thead>\n",
       "    <tr style=\"text-align: right;\">\n",
       "      <th></th>\n",
       "      <th>Year</th>\n",
       "      <th>Agriculture</th>\n",
       "      <th>Architecture</th>\n",
       "      <th>Art and Performance</th>\n",
       "      <th>Biology</th>\n",
       "      <th>Business</th>\n",
       "      <th>Communications and Journalism</th>\n",
       "      <th>Computer Science</th>\n",
       "      <th>Education</th>\n",
       "      <th>Engineering</th>\n",
       "      <th>English</th>\n",
       "      <th>Foreign Languages</th>\n",
       "      <th>Health Professions</th>\n",
       "      <th>Math and Statistics</th>\n",
       "      <th>Physical Sciences</th>\n",
       "      <th>Psychology</th>\n",
       "      <th>Public Administration</th>\n",
       "      <th>Social Sciences and History</th>\n",
       "    </tr>\n",
       "  </thead>\n",
       "  <tbody>\n",
       "    <tr>\n",
       "      <th>0</th>\n",
       "      <td>1970</td>\n",
       "      <td>4.229798</td>\n",
       "      <td>11.921005</td>\n",
       "      <td>59.7</td>\n",
       "      <td>29.088363</td>\n",
       "      <td>9.064439</td>\n",
       "      <td>35.3</td>\n",
       "      <td>13.6</td>\n",
       "      <td>74.535328</td>\n",
       "      <td>0.8</td>\n",
       "      <td>65.570923</td>\n",
       "      <td>73.8</td>\n",
       "      <td>77.1</td>\n",
       "      <td>38.0</td>\n",
       "      <td>13.8</td>\n",
       "      <td>44.4</td>\n",
       "      <td>68.4</td>\n",
       "      <td>36.8</td>\n",
       "    </tr>\n",
       "    <tr>\n",
       "      <th>1</th>\n",
       "      <td>1971</td>\n",
       "      <td>5.452797</td>\n",
       "      <td>12.003106</td>\n",
       "      <td>59.9</td>\n",
       "      <td>29.394403</td>\n",
       "      <td>9.503187</td>\n",
       "      <td>35.5</td>\n",
       "      <td>13.6</td>\n",
       "      <td>74.149204</td>\n",
       "      <td>1.0</td>\n",
       "      <td>64.556485</td>\n",
       "      <td>73.9</td>\n",
       "      <td>75.5</td>\n",
       "      <td>39.0</td>\n",
       "      <td>14.9</td>\n",
       "      <td>46.2</td>\n",
       "      <td>65.5</td>\n",
       "      <td>36.2</td>\n",
       "    </tr>\n",
       "    <tr>\n",
       "      <th>2</th>\n",
       "      <td>1972</td>\n",
       "      <td>7.420710</td>\n",
       "      <td>13.214594</td>\n",
       "      <td>60.4</td>\n",
       "      <td>29.810221</td>\n",
       "      <td>10.558962</td>\n",
       "      <td>36.6</td>\n",
       "      <td>14.9</td>\n",
       "      <td>73.554520</td>\n",
       "      <td>1.2</td>\n",
       "      <td>63.664263</td>\n",
       "      <td>74.6</td>\n",
       "      <td>76.9</td>\n",
       "      <td>40.2</td>\n",
       "      <td>14.8</td>\n",
       "      <td>47.6</td>\n",
       "      <td>62.6</td>\n",
       "      <td>36.1</td>\n",
       "    </tr>\n",
       "    <tr>\n",
       "      <th>3</th>\n",
       "      <td>1973</td>\n",
       "      <td>9.653602</td>\n",
       "      <td>14.791613</td>\n",
       "      <td>60.2</td>\n",
       "      <td>31.147915</td>\n",
       "      <td>12.804602</td>\n",
       "      <td>38.4</td>\n",
       "      <td>16.4</td>\n",
       "      <td>73.501814</td>\n",
       "      <td>1.6</td>\n",
       "      <td>62.941502</td>\n",
       "      <td>74.9</td>\n",
       "      <td>77.4</td>\n",
       "      <td>40.9</td>\n",
       "      <td>16.5</td>\n",
       "      <td>50.4</td>\n",
       "      <td>64.3</td>\n",
       "      <td>36.4</td>\n",
       "    </tr>\n",
       "    <tr>\n",
       "      <th>4</th>\n",
       "      <td>1974</td>\n",
       "      <td>14.074623</td>\n",
       "      <td>17.444688</td>\n",
       "      <td>61.9</td>\n",
       "      <td>32.996183</td>\n",
       "      <td>16.204850</td>\n",
       "      <td>40.5</td>\n",
       "      <td>18.9</td>\n",
       "      <td>73.336811</td>\n",
       "      <td>2.2</td>\n",
       "      <td>62.413412</td>\n",
       "      <td>75.3</td>\n",
       "      <td>77.9</td>\n",
       "      <td>41.8</td>\n",
       "      <td>18.2</td>\n",
       "      <td>52.6</td>\n",
       "      <td>66.1</td>\n",
       "      <td>37.3</td>\n",
       "    </tr>\n",
       "  </tbody>\n",
       "</table>\n",
       "</div>"
      ],
      "text/plain": [
       "   Year  Agriculture  Architecture  Art and Performance    Biology   Business  \\\n",
       "0  1970     4.229798     11.921005                 59.7  29.088363   9.064439   \n",
       "1  1971     5.452797     12.003106                 59.9  29.394403   9.503187   \n",
       "2  1972     7.420710     13.214594                 60.4  29.810221  10.558962   \n",
       "3  1973     9.653602     14.791613                 60.2  31.147915  12.804602   \n",
       "4  1974    14.074623     17.444688                 61.9  32.996183  16.204850   \n",
       "\n",
       "   Communications and Journalism  Computer Science  Education  Engineering  \\\n",
       "0                           35.3              13.6  74.535328          0.8   \n",
       "1                           35.5              13.6  74.149204          1.0   \n",
       "2                           36.6              14.9  73.554520          1.2   \n",
       "3                           38.4              16.4  73.501814          1.6   \n",
       "4                           40.5              18.9  73.336811          2.2   \n",
       "\n",
       "     English  Foreign Languages  Health Professions  Math and Statistics  \\\n",
       "0  65.570923               73.8                77.1                 38.0   \n",
       "1  64.556485               73.9                75.5                 39.0   \n",
       "2  63.664263               74.6                76.9                 40.2   \n",
       "3  62.941502               74.9                77.4                 40.9   \n",
       "4  62.413412               75.3                77.9                 41.8   \n",
       "\n",
       "   Physical Sciences  Psychology  Public Administration  \\\n",
       "0               13.8        44.4                   68.4   \n",
       "1               14.9        46.2                   65.5   \n",
       "2               14.8        47.6                   62.6   \n",
       "3               16.5        50.4                   64.3   \n",
       "4               18.2        52.6                   66.1   \n",
       "\n",
       "   Social Sciences and History  \n",
       "0                         36.8  \n",
       "1                         36.2  \n",
       "2                         36.1  \n",
       "3                         36.4  \n",
       "4                         37.3  "
      ]
     },
     "execution_count": 25,
     "metadata": {},
     "output_type": "execute_result"
    }
   ],
   "source": [
    "df.head()"
   ]
  },
  {
   "cell_type": "code",
   "execution_count": 26,
   "metadata": {
    "colab": {
     "base_uri": "https://localhost:8080/",
     "height": 617
    },
    "colab_type": "code",
    "id": "zk2awmnj0gT3",
    "outputId": "1f1be7a8-25a9-458d-830e-86d7f096db63"
   },
   "outputs": [
    {
     "data": {
      "text/html": [
       "\n",
       "\n",
       "\n",
       "\n",
       "\n",
       "\n",
       "  <div class=\"bk-root\" id=\"c9e50d0f-52b0-42a6-a2a5-544b57960ae3\" data-root-id=\"2388\"></div>\n"
      ]
     },
     "metadata": {},
     "output_type": "display_data"
    },
    {
     "data": {
      "application/javascript": [
       "(function(root) {\n",
       "  function embed_document(root) {\n",
       "    \n",
       "  var docs_json = {\"0473c372-3244-4e18-b652-04bf7f9d717f\":{\"roots\":{\"references\":[{\"attributes\":{\"below\":[{\"id\":\"2397\",\"type\":\"LinearAxis\"}],\"center\":[{\"id\":\"2401\",\"type\":\"Grid\"},{\"id\":\"2406\",\"type\":\"Grid\"}],\"left\":[{\"id\":\"2402\",\"type\":\"LinearAxis\"}],\"renderers\":[{\"id\":\"2423\",\"type\":\"GlyphRenderer\"}],\"title\":{\"id\":\"2497\",\"type\":\"Title\"},\"toolbar\":{\"id\":\"2413\",\"type\":\"Toolbar\"},\"x_range\":{\"id\":\"2389\",\"type\":\"DataRange1d\"},\"x_scale\":{\"id\":\"2393\",\"type\":\"LinearScale\"},\"y_range\":{\"id\":\"2391\",\"type\":\"DataRange1d\"},\"y_scale\":{\"id\":\"2395\",\"type\":\"LinearScale\"}},\"id\":\"2388\",\"subtype\":\"Figure\",\"type\":\"Plot\"},{\"attributes\":{\"bottom_units\":\"screen\",\"fill_alpha\":{\"value\":0.5},\"fill_color\":{\"value\":\"lightgrey\"},\"left_units\":\"screen\",\"level\":\"overlay\",\"line_alpha\":{\"value\":1.0},\"line_color\":{\"value\":\"black\"},\"line_dash\":[4,4],\"line_width\":{\"value\":2},\"render_mode\":\"css\",\"right_units\":\"screen\",\"top_units\":\"screen\"},\"id\":\"2504\",\"type\":\"BoxAnnotation\"},{\"attributes\":{\"dimension\":1,\"ticker\":{\"id\":\"2403\",\"type\":\"BasicTicker\"}},\"id\":\"2406\",\"type\":\"Grid\"},{\"attributes\":{\"line_color\":\"#1f77b4\",\"x\":{\"field\":\"x\"},\"y\":{\"field\":\"y\"}},\"id\":\"2421\",\"type\":\"Line\"},{\"attributes\":{\"formatter\":{\"id\":\"2498\",\"type\":\"BasicTickFormatter\"},\"ticker\":{\"id\":\"2403\",\"type\":\"BasicTicker\"}},\"id\":\"2402\",\"type\":\"LinearAxis\"},{\"attributes\":{\"callback\":null,\"data\":{\"x\":[1970,1971,1972,1973,1974,1975,1976,1977,1978,1979,1980,1981,1982,1983,1984,1985,1986,1987,1988,1989,1990,1991,1992,1993,1994,1995,1996,1997,1998,1999,2000,2001,2002,2003,2004,2005,2006,2007,2008,2009,2010,2011],\"y\":{\"__ndarray__\":\"mpmZmZmZ6T8AAAAAAADwPzMzMzMzM/M/mpmZmZmZ+T+amZmZmZkBQJqZmZmZmQlAAAAAAAAAEkAzMzMzMzMbQM3MzMzMzCBAzczMzMzMIkCamZmZmZkkQDMzMzMzMydAzczMzMzMKEAzMzMzMzMqQAAAAAAAACtAAAAAAAAAK0DNzMzMzMwrQAAAAAAAACxAzczMzMzMK0AzMzMzMzMsQDMzMzMzMyxAAAAAAAAALEAAAAAAAAAtQM3MzMzMzC1AZmZmZmZmL0AzMzMzMzMwQDMzMzMzszBAAAAAAAAAMUDNzMzMzMwxQJqZmZmZmTJAZmZmZmZmMkAAAAAAAAAzQDMzMzMzszJAzczMzMzMMkAzMzMzMzMyQGZmZmZm5jFAzczMzMzMMEDNzMzMzMwwQAAAAAAAgDBAzczMzMzMMEAzMzMzMzMxQAAAAAAAgDFA\",\"dtype\":\"float64\",\"shape\":[42]}},\"selected\":{\"id\":\"2502\",\"type\":\"Selection\"},\"selection_policy\":{\"id\":\"2503\",\"type\":\"UnionRenderers\"}},\"id\":\"2420\",\"type\":\"ColumnDataSource\"},{\"attributes\":{},\"id\":\"2395\",\"type\":\"LinearScale\"},{\"attributes\":{},\"id\":\"2498\",\"type\":\"BasicTickFormatter\"},{\"attributes\":{\"active_drag\":\"auto\",\"active_inspect\":\"auto\",\"active_multi\":null,\"active_scroll\":\"auto\",\"active_tap\":\"auto\",\"tools\":[{\"id\":\"2407\",\"type\":\"PanTool\"},{\"id\":\"2408\",\"type\":\"WheelZoomTool\"},{\"id\":\"2409\",\"type\":\"BoxZoomTool\"},{\"id\":\"2410\",\"type\":\"SaveTool\"},{\"id\":\"2411\",\"type\":\"ResetTool\"},{\"id\":\"2412\",\"type\":\"HelpTool\"}]},\"id\":\"2413\",\"type\":\"Toolbar\"},{\"attributes\":{},\"id\":\"2407\",\"type\":\"PanTool\"},{\"attributes\":{\"formatter\":{\"id\":\"2500\",\"type\":\"BasicTickFormatter\"},\"ticker\":{\"id\":\"2398\",\"type\":\"BasicTicker\"}},\"id\":\"2397\",\"type\":\"LinearAxis\"},{\"attributes\":{\"callback\":null},\"id\":\"2391\",\"type\":\"DataRange1d\"},{\"attributes\":{},\"id\":\"2408\",\"type\":\"WheelZoomTool\"},{\"attributes\":{\"overlay\":{\"id\":\"2504\",\"type\":\"BoxAnnotation\"}},\"id\":\"2409\",\"type\":\"BoxZoomTool\"},{\"attributes\":{},\"id\":\"2393\",\"type\":\"LinearScale\"},{\"attributes\":{},\"id\":\"2410\",\"type\":\"SaveTool\"},{\"attributes\":{},\"id\":\"2411\",\"type\":\"ResetTool\"},{\"attributes\":{\"text\":\"\"},\"id\":\"2497\",\"type\":\"Title\"},{\"attributes\":{},\"id\":\"2412\",\"type\":\"HelpTool\"},{\"attributes\":{},\"id\":\"2398\",\"type\":\"BasicTicker\"},{\"attributes\":{},\"id\":\"2403\",\"type\":\"BasicTicker\"},{\"attributes\":{\"line_alpha\":0.1,\"line_color\":\"#1f77b4\",\"x\":{\"field\":\"x\"},\"y\":{\"field\":\"y\"}},\"id\":\"2422\",\"type\":\"Line\"},{\"attributes\":{\"callback\":null},\"id\":\"2389\",\"type\":\"DataRange1d\"},{\"attributes\":{\"data_source\":{\"id\":\"2420\",\"type\":\"ColumnDataSource\"},\"glyph\":{\"id\":\"2421\",\"type\":\"Line\"},\"hover_glyph\":null,\"muted_glyph\":null,\"nonselection_glyph\":{\"id\":\"2422\",\"type\":\"Line\"},\"selection_glyph\":null,\"view\":{\"id\":\"2424\",\"type\":\"CDSView\"}},\"id\":\"2423\",\"type\":\"GlyphRenderer\"},{\"attributes\":{\"source\":{\"id\":\"2420\",\"type\":\"ColumnDataSource\"}},\"id\":\"2424\",\"type\":\"CDSView\"},{\"attributes\":{\"ticker\":{\"id\":\"2398\",\"type\":\"BasicTicker\"}},\"id\":\"2401\",\"type\":\"Grid\"},{\"attributes\":{},\"id\":\"2500\",\"type\":\"BasicTickFormatter\"},{\"attributes\":{},\"id\":\"2502\",\"type\":\"Selection\"},{\"attributes\":{},\"id\":\"2503\",\"type\":\"UnionRenderers\"}],\"root_ids\":[\"2388\"]},\"title\":\"Bokeh Application\",\"version\":\"1.2.0\"}};\n",
       "  var render_items = [{\"docid\":\"0473c372-3244-4e18-b652-04bf7f9d717f\",\"roots\":{\"2388\":\"c9e50d0f-52b0-42a6-a2a5-544b57960ae3\"}}];\n",
       "  root.Bokeh.embed.embed_items_notebook(docs_json, render_items);\n",
       "\n",
       "  }\n",
       "  if (root.Bokeh !== undefined) {\n",
       "    embed_document(root);\n",
       "  } else {\n",
       "    var attempts = 0;\n",
       "    var timer = setInterval(function(root) {\n",
       "      if (root.Bokeh !== undefined) {\n",
       "        embed_document(root);\n",
       "        clearInterval(timer);\n",
       "      }\n",
       "      attempts++;\n",
       "      if (attempts > 100) {\n",
       "        console.log(\"Bokeh: ERROR: Unable to run BokehJS code because BokehJS library is missing\");\n",
       "        clearInterval(timer);\n",
       "      }\n",
       "    }, 10, root)\n",
       "  }\n",
       "})(window);"
      ],
      "application/vnd.bokehjs_exec.v0+json": ""
     },
     "metadata": {
      "application/vnd.bokehjs_exec.v0+json": {
       "id": "2388"
      }
     },
     "output_type": "display_data"
    }
   ],
   "source": [
    "f = figure()\n",
    "f.line(df['Year'], df['Engineering'])\n",
    "show(f)"
   ]
  },
  {
   "cell_type": "markdown",
   "metadata": {
    "colab_type": "text",
    "id": "tziNGtd61cDX"
   },
   "source": [
    "This is how we can download the file and read the data into pandas as a dataframe. We can use that data frame to draw a line chart using bokeh"
   ]
  }
 ],
 "metadata": {
  "colab": {
   "name": "00-Basic_graphs.ipynb",
   "provenance": []
  },
  "kernelspec": {
   "display_name": "Python 3",
   "language": "python",
   "name": "python3"
  },
  "language_info": {
   "codemirror_mode": {
    "name": "ipython",
    "version": 3
   },
   "file_extension": ".py",
   "mimetype": "text/x-python",
   "name": "python",
   "nbconvert_exporter": "python",
   "pygments_lexer": "ipython3",
   "version": "3.6.5"
  }
 },
 "nbformat": 4,
 "nbformat_minor": 1
}
