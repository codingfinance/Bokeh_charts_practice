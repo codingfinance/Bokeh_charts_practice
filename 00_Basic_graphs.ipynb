{
 "cells": [
  {
   "cell_type": "code",
   "execution_count": 1,
   "metadata": {
    "colab": {},
    "colab_type": "code",
    "id": "UUeD4pRewV70"
   },
   "outputs": [],
   "source": [
    "import pandas as pd\n",
    "import numpy as np\n",
    "from bokeh.plotting import figure\n",
    "from bokeh.io import output_notebook, show"
   ]
  },
  {
   "cell_type": "code",
   "execution_count": 2,
   "metadata": {
    "colab": {},
    "colab_type": "code",
    "id": "-7ZMLVF5xBsa"
   },
   "outputs": [],
   "source": [
    "x = np.arange(10)\n",
    "y = np.arange(10,20)"
   ]
  },
  {
   "cell_type": "code",
   "execution_count": 3,
   "metadata": {
    "colab": {},
    "colab_type": "code",
    "id": "ITtUOyqnxSsQ"
   },
   "outputs": [
    {
     "data": {
      "text/html": [
       "\n",
       "    <div class=\"bk-root\">\n",
       "        <a href=\"https://bokeh.pydata.org\" target=\"_blank\" class=\"bk-logo bk-logo-small bk-logo-notebook\"></a>\n",
       "        <span id=\"1001\">Loading BokehJS ...</span>\n",
       "    </div>"
      ]
     },
     "metadata": {},
     "output_type": "display_data"
    },
    {
     "data": {
      "application/javascript": [
       "\n",
       "(function(root) {\n",
       "  function now() {\n",
       "    return new Date();\n",
       "  }\n",
       "\n",
       "  var force = true;\n",
       "\n",
       "  if (typeof root._bokeh_onload_callbacks === \"undefined\" || force === true) {\n",
       "    root._bokeh_onload_callbacks = [];\n",
       "    root._bokeh_is_loading = undefined;\n",
       "  }\n",
       "\n",
       "  var JS_MIME_TYPE = 'application/javascript';\n",
       "  var HTML_MIME_TYPE = 'text/html';\n",
       "  var EXEC_MIME_TYPE = 'application/vnd.bokehjs_exec.v0+json';\n",
       "  var CLASS_NAME = 'output_bokeh rendered_html';\n",
       "\n",
       "  /**\n",
       "   * Render data to the DOM node\n",
       "   */\n",
       "  function render(props, node) {\n",
       "    var script = document.createElement(\"script\");\n",
       "    node.appendChild(script);\n",
       "  }\n",
       "\n",
       "  /**\n",
       "   * Handle when an output is cleared or removed\n",
       "   */\n",
       "  function handleClearOutput(event, handle) {\n",
       "    var cell = handle.cell;\n",
       "\n",
       "    var id = cell.output_area._bokeh_element_id;\n",
       "    var server_id = cell.output_area._bokeh_server_id;\n",
       "    // Clean up Bokeh references\n",
       "    if (id != null && id in Bokeh.index) {\n",
       "      Bokeh.index[id].model.document.clear();\n",
       "      delete Bokeh.index[id];\n",
       "    }\n",
       "\n",
       "    if (server_id !== undefined) {\n",
       "      // Clean up Bokeh references\n",
       "      var cmd = \"from bokeh.io.state import curstate; print(curstate().uuid_to_server['\" + server_id + \"'].get_sessions()[0].document.roots[0]._id)\";\n",
       "      cell.notebook.kernel.execute(cmd, {\n",
       "        iopub: {\n",
       "          output: function(msg) {\n",
       "            var id = msg.content.text.trim();\n",
       "            if (id in Bokeh.index) {\n",
       "              Bokeh.index[id].model.document.clear();\n",
       "              delete Bokeh.index[id];\n",
       "            }\n",
       "          }\n",
       "        }\n",
       "      });\n",
       "      // Destroy server and session\n",
       "      var cmd = \"import bokeh.io.notebook as ion; ion.destroy_server('\" + server_id + \"')\";\n",
       "      cell.notebook.kernel.execute(cmd);\n",
       "    }\n",
       "  }\n",
       "\n",
       "  /**\n",
       "   * Handle when a new output is added\n",
       "   */\n",
       "  function handleAddOutput(event, handle) {\n",
       "    var output_area = handle.output_area;\n",
       "    var output = handle.output;\n",
       "\n",
       "    // limit handleAddOutput to display_data with EXEC_MIME_TYPE content only\n",
       "    if ((output.output_type != \"display_data\") || (!output.data.hasOwnProperty(EXEC_MIME_TYPE))) {\n",
       "      return\n",
       "    }\n",
       "\n",
       "    var toinsert = output_area.element.find(\".\" + CLASS_NAME.split(' ')[0]);\n",
       "\n",
       "    if (output.metadata[EXEC_MIME_TYPE][\"id\"] !== undefined) {\n",
       "      toinsert[toinsert.length - 1].firstChild.textContent = output.data[JS_MIME_TYPE];\n",
       "      // store reference to embed id on output_area\n",
       "      output_area._bokeh_element_id = output.metadata[EXEC_MIME_TYPE][\"id\"];\n",
       "    }\n",
       "    if (output.metadata[EXEC_MIME_TYPE][\"server_id\"] !== undefined) {\n",
       "      var bk_div = document.createElement(\"div\");\n",
       "      bk_div.innerHTML = output.data[HTML_MIME_TYPE];\n",
       "      var script_attrs = bk_div.children[0].attributes;\n",
       "      for (var i = 0; i < script_attrs.length; i++) {\n",
       "        toinsert[toinsert.length - 1].firstChild.setAttribute(script_attrs[i].name, script_attrs[i].value);\n",
       "      }\n",
       "      // store reference to server id on output_area\n",
       "      output_area._bokeh_server_id = output.metadata[EXEC_MIME_TYPE][\"server_id\"];\n",
       "    }\n",
       "  }\n",
       "\n",
       "  function register_renderer(events, OutputArea) {\n",
       "\n",
       "    function append_mime(data, metadata, element) {\n",
       "      // create a DOM node to render to\n",
       "      var toinsert = this.create_output_subarea(\n",
       "        metadata,\n",
       "        CLASS_NAME,\n",
       "        EXEC_MIME_TYPE\n",
       "      );\n",
       "      this.keyboard_manager.register_events(toinsert);\n",
       "      // Render to node\n",
       "      var props = {data: data, metadata: metadata[EXEC_MIME_TYPE]};\n",
       "      render(props, toinsert[toinsert.length - 1]);\n",
       "      element.append(toinsert);\n",
       "      return toinsert\n",
       "    }\n",
       "\n",
       "    /* Handle when an output is cleared or removed */\n",
       "    events.on('clear_output.CodeCell', handleClearOutput);\n",
       "    events.on('delete.Cell', handleClearOutput);\n",
       "\n",
       "    /* Handle when a new output is added */\n",
       "    events.on('output_added.OutputArea', handleAddOutput);\n",
       "\n",
       "    /**\n",
       "     * Register the mime type and append_mime function with output_area\n",
       "     */\n",
       "    OutputArea.prototype.register_mime_type(EXEC_MIME_TYPE, append_mime, {\n",
       "      /* Is output safe? */\n",
       "      safe: true,\n",
       "      /* Index of renderer in `output_area.display_order` */\n",
       "      index: 0\n",
       "    });\n",
       "  }\n",
       "\n",
       "  // register the mime type if in Jupyter Notebook environment and previously unregistered\n",
       "  if (root.Jupyter !== undefined) {\n",
       "    var events = require('base/js/events');\n",
       "    var OutputArea = require('notebook/js/outputarea').OutputArea;\n",
       "\n",
       "    if (OutputArea.prototype.mime_types().indexOf(EXEC_MIME_TYPE) == -1) {\n",
       "      register_renderer(events, OutputArea);\n",
       "    }\n",
       "  }\n",
       "\n",
       "  \n",
       "  if (typeof (root._bokeh_timeout) === \"undefined\" || force === true) {\n",
       "    root._bokeh_timeout = Date.now() + 5000;\n",
       "    root._bokeh_failed_load = false;\n",
       "  }\n",
       "\n",
       "  var NB_LOAD_WARNING = {'data': {'text/html':\n",
       "     \"<div style='background-color: #fdd'>\\n\"+\n",
       "     \"<p>\\n\"+\n",
       "     \"BokehJS does not appear to have successfully loaded. If loading BokehJS from CDN, this \\n\"+\n",
       "     \"may be due to a slow or bad network connection. Possible fixes:\\n\"+\n",
       "     \"</p>\\n\"+\n",
       "     \"<ul>\\n\"+\n",
       "     \"<li>re-rerun `output_notebook()` to attempt to load from CDN again, or</li>\\n\"+\n",
       "     \"<li>use INLINE resources instead, as so:</li>\\n\"+\n",
       "     \"</ul>\\n\"+\n",
       "     \"<code>\\n\"+\n",
       "     \"from bokeh.resources import INLINE\\n\"+\n",
       "     \"output_notebook(resources=INLINE)\\n\"+\n",
       "     \"</code>\\n\"+\n",
       "     \"</div>\"}};\n",
       "\n",
       "  function display_loaded() {\n",
       "    var el = document.getElementById(\"1001\");\n",
       "    if (el != null) {\n",
       "      el.textContent = \"BokehJS is loading...\";\n",
       "    }\n",
       "    if (root.Bokeh !== undefined) {\n",
       "      if (el != null) {\n",
       "        el.textContent = \"BokehJS \" + root.Bokeh.version + \" successfully loaded.\";\n",
       "      }\n",
       "    } else if (Date.now() < root._bokeh_timeout) {\n",
       "      setTimeout(display_loaded, 100)\n",
       "    }\n",
       "  }\n",
       "\n",
       "\n",
       "  function run_callbacks() {\n",
       "    try {\n",
       "      root._bokeh_onload_callbacks.forEach(function(callback) {\n",
       "        if (callback != null)\n",
       "          callback();\n",
       "      });\n",
       "    } finally {\n",
       "      delete root._bokeh_onload_callbacks\n",
       "    }\n",
       "    console.debug(\"Bokeh: all callbacks have finished\");\n",
       "  }\n",
       "\n",
       "  function load_libs(css_urls, js_urls, callback) {\n",
       "    if (css_urls == null) css_urls = [];\n",
       "    if (js_urls == null) js_urls = [];\n",
       "\n",
       "    root._bokeh_onload_callbacks.push(callback);\n",
       "    if (root._bokeh_is_loading > 0) {\n",
       "      console.debug(\"Bokeh: BokehJS is being loaded, scheduling callback at\", now());\n",
       "      return null;\n",
       "    }\n",
       "    if (js_urls == null || js_urls.length === 0) {\n",
       "      run_callbacks();\n",
       "      return null;\n",
       "    }\n",
       "    console.debug(\"Bokeh: BokehJS not loaded, scheduling load and callback at\", now());\n",
       "    root._bokeh_is_loading = css_urls.length + js_urls.length;\n",
       "\n",
       "    function on_load() {\n",
       "      root._bokeh_is_loading--;\n",
       "      if (root._bokeh_is_loading === 0) {\n",
       "        console.debug(\"Bokeh: all BokehJS libraries/stylesheets loaded\");\n",
       "        run_callbacks()\n",
       "      }\n",
       "    }\n",
       "\n",
       "    function on_error() {\n",
       "      console.error(\"failed to load \" + url);\n",
       "    }\n",
       "\n",
       "    for (var i = 0; i < css_urls.length; i++) {\n",
       "      var url = css_urls[i];\n",
       "      const element = document.createElement(\"link\");\n",
       "      element.onload = on_load;\n",
       "      element.onerror = on_error;\n",
       "      element.rel = \"stylesheet\";\n",
       "      element.type = \"text/css\";\n",
       "      element.href = url;\n",
       "      console.debug(\"Bokeh: injecting link tag for BokehJS stylesheet: \", url);\n",
       "      document.body.appendChild(element);\n",
       "    }\n",
       "\n",
       "    for (var i = 0; i < js_urls.length; i++) {\n",
       "      var url = js_urls[i];\n",
       "      var element = document.createElement('script');\n",
       "      element.onload = on_load;\n",
       "      element.onerror = on_error;\n",
       "      element.async = false;\n",
       "      element.src = url;\n",
       "      console.debug(\"Bokeh: injecting script tag for BokehJS library: \", url);\n",
       "      document.head.appendChild(element);\n",
       "    }\n",
       "  };var element = document.getElementById(\"1001\");\n",
       "  if (element == null) {\n",
       "    console.error(\"Bokeh: ERROR: autoload.js configured with elementid '1001' but no matching script tag was found. \")\n",
       "    return false;\n",
       "  }\n",
       "\n",
       "  function inject_raw_css(css) {\n",
       "    const element = document.createElement(\"style\");\n",
       "    element.appendChild(document.createTextNode(css));\n",
       "    document.body.appendChild(element);\n",
       "  }\n",
       "\n",
       "  var js_urls = [\"https://cdn.pydata.org/bokeh/release/bokeh-1.2.0.min.js\", \"https://cdn.pydata.org/bokeh/release/bokeh-widgets-1.2.0.min.js\", \"https://cdn.pydata.org/bokeh/release/bokeh-tables-1.2.0.min.js\", \"https://cdn.pydata.org/bokeh/release/bokeh-gl-1.2.0.min.js\"];\n",
       "  var css_urls = [\"https://cdn.pydata.org/bokeh/release/bokeh-1.2.0.min.css\", \"https://cdn.pydata.org/bokeh/release/bokeh-widgets-1.2.0.min.css\", \"https://cdn.pydata.org/bokeh/release/bokeh-tables-1.2.0.min.css\"];\n",
       "\n",
       "  var inline_js = [\n",
       "    function(Bokeh) {\n",
       "      Bokeh.set_log_level(\"info\");\n",
       "    },\n",
       "    \n",
       "    function(Bokeh) {\n",
       "      \n",
       "    },\n",
       "    function(Bokeh) {} // ensure no trailing comma for IE\n",
       "  ];\n",
       "\n",
       "  function run_inline_js() {\n",
       "    \n",
       "    if ((root.Bokeh !== undefined) || (force === true)) {\n",
       "      for (var i = 0; i < inline_js.length; i++) {\n",
       "        inline_js[i].call(root, root.Bokeh);\n",
       "      }if (force === true) {\n",
       "        display_loaded();\n",
       "      }} else if (Date.now() < root._bokeh_timeout) {\n",
       "      setTimeout(run_inline_js, 100);\n",
       "    } else if (!root._bokeh_failed_load) {\n",
       "      console.log(\"Bokeh: BokehJS failed to load within specified timeout.\");\n",
       "      root._bokeh_failed_load = true;\n",
       "    } else if (force !== true) {\n",
       "      var cell = $(document.getElementById(\"1001\")).parents('.cell').data().cell;\n",
       "      cell.output_area.append_execute_result(NB_LOAD_WARNING)\n",
       "    }\n",
       "\n",
       "  }\n",
       "\n",
       "  if (root._bokeh_is_loading === 0) {\n",
       "    console.debug(\"Bokeh: BokehJS loaded, going straight to plotting\");\n",
       "    run_inline_js();\n",
       "  } else {\n",
       "    load_libs(css_urls, js_urls, function() {\n",
       "      console.debug(\"Bokeh: BokehJS plotting callback run at\", now());\n",
       "      run_inline_js();\n",
       "    });\n",
       "  }\n",
       "}(window));"
      ],
      "application/vnd.bokehjs_load.v0+json": "\n(function(root) {\n  function now() {\n    return new Date();\n  }\n\n  var force = true;\n\n  if (typeof root._bokeh_onload_callbacks === \"undefined\" || force === true) {\n    root._bokeh_onload_callbacks = [];\n    root._bokeh_is_loading = undefined;\n  }\n\n  \n\n  \n  if (typeof (root._bokeh_timeout) === \"undefined\" || force === true) {\n    root._bokeh_timeout = Date.now() + 5000;\n    root._bokeh_failed_load = false;\n  }\n\n  var NB_LOAD_WARNING = {'data': {'text/html':\n     \"<div style='background-color: #fdd'>\\n\"+\n     \"<p>\\n\"+\n     \"BokehJS does not appear to have successfully loaded. If loading BokehJS from CDN, this \\n\"+\n     \"may be due to a slow or bad network connection. Possible fixes:\\n\"+\n     \"</p>\\n\"+\n     \"<ul>\\n\"+\n     \"<li>re-rerun `output_notebook()` to attempt to load from CDN again, or</li>\\n\"+\n     \"<li>use INLINE resources instead, as so:</li>\\n\"+\n     \"</ul>\\n\"+\n     \"<code>\\n\"+\n     \"from bokeh.resources import INLINE\\n\"+\n     \"output_notebook(resources=INLINE)\\n\"+\n     \"</code>\\n\"+\n     \"</div>\"}};\n\n  function display_loaded() {\n    var el = document.getElementById(\"1001\");\n    if (el != null) {\n      el.textContent = \"BokehJS is loading...\";\n    }\n    if (root.Bokeh !== undefined) {\n      if (el != null) {\n        el.textContent = \"BokehJS \" + root.Bokeh.version + \" successfully loaded.\";\n      }\n    } else if (Date.now() < root._bokeh_timeout) {\n      setTimeout(display_loaded, 100)\n    }\n  }\n\n\n  function run_callbacks() {\n    try {\n      root._bokeh_onload_callbacks.forEach(function(callback) {\n        if (callback != null)\n          callback();\n      });\n    } finally {\n      delete root._bokeh_onload_callbacks\n    }\n    console.debug(\"Bokeh: all callbacks have finished\");\n  }\n\n  function load_libs(css_urls, js_urls, callback) {\n    if (css_urls == null) css_urls = [];\n    if (js_urls == null) js_urls = [];\n\n    root._bokeh_onload_callbacks.push(callback);\n    if (root._bokeh_is_loading > 0) {\n      console.debug(\"Bokeh: BokehJS is being loaded, scheduling callback at\", now());\n      return null;\n    }\n    if (js_urls == null || js_urls.length === 0) {\n      run_callbacks();\n      return null;\n    }\n    console.debug(\"Bokeh: BokehJS not loaded, scheduling load and callback at\", now());\n    root._bokeh_is_loading = css_urls.length + js_urls.length;\n\n    function on_load() {\n      root._bokeh_is_loading--;\n      if (root._bokeh_is_loading === 0) {\n        console.debug(\"Bokeh: all BokehJS libraries/stylesheets loaded\");\n        run_callbacks()\n      }\n    }\n\n    function on_error() {\n      console.error(\"failed to load \" + url);\n    }\n\n    for (var i = 0; i < css_urls.length; i++) {\n      var url = css_urls[i];\n      const element = document.createElement(\"link\");\n      element.onload = on_load;\n      element.onerror = on_error;\n      element.rel = \"stylesheet\";\n      element.type = \"text/css\";\n      element.href = url;\n      console.debug(\"Bokeh: injecting link tag for BokehJS stylesheet: \", url);\n      document.body.appendChild(element);\n    }\n\n    for (var i = 0; i < js_urls.length; i++) {\n      var url = js_urls[i];\n      var element = document.createElement('script');\n      element.onload = on_load;\n      element.onerror = on_error;\n      element.async = false;\n      element.src = url;\n      console.debug(\"Bokeh: injecting script tag for BokehJS library: \", url);\n      document.head.appendChild(element);\n    }\n  };var element = document.getElementById(\"1001\");\n  if (element == null) {\n    console.error(\"Bokeh: ERROR: autoload.js configured with elementid '1001' but no matching script tag was found. \")\n    return false;\n  }\n\n  function inject_raw_css(css) {\n    const element = document.createElement(\"style\");\n    element.appendChild(document.createTextNode(css));\n    document.body.appendChild(element);\n  }\n\n  var js_urls = [\"https://cdn.pydata.org/bokeh/release/bokeh-1.2.0.min.js\", \"https://cdn.pydata.org/bokeh/release/bokeh-widgets-1.2.0.min.js\", \"https://cdn.pydata.org/bokeh/release/bokeh-tables-1.2.0.min.js\", \"https://cdn.pydata.org/bokeh/release/bokeh-gl-1.2.0.min.js\"];\n  var css_urls = [\"https://cdn.pydata.org/bokeh/release/bokeh-1.2.0.min.css\", \"https://cdn.pydata.org/bokeh/release/bokeh-widgets-1.2.0.min.css\", \"https://cdn.pydata.org/bokeh/release/bokeh-tables-1.2.0.min.css\"];\n\n  var inline_js = [\n    function(Bokeh) {\n      Bokeh.set_log_level(\"info\");\n    },\n    \n    function(Bokeh) {\n      \n    },\n    function(Bokeh) {} // ensure no trailing comma for IE\n  ];\n\n  function run_inline_js() {\n    \n    if ((root.Bokeh !== undefined) || (force === true)) {\n      for (var i = 0; i < inline_js.length; i++) {\n        inline_js[i].call(root, root.Bokeh);\n      }if (force === true) {\n        display_loaded();\n      }} else if (Date.now() < root._bokeh_timeout) {\n      setTimeout(run_inline_js, 100);\n    } else if (!root._bokeh_failed_load) {\n      console.log(\"Bokeh: BokehJS failed to load within specified timeout.\");\n      root._bokeh_failed_load = true;\n    } else if (force !== true) {\n      var cell = $(document.getElementById(\"1001\")).parents('.cell').data().cell;\n      cell.output_area.append_execute_result(NB_LOAD_WARNING)\n    }\n\n  }\n\n  if (root._bokeh_is_loading === 0) {\n    console.debug(\"Bokeh: BokehJS loaded, going straight to plotting\");\n    run_inline_js();\n  } else {\n    load_libs(css_urls, js_urls, function() {\n      console.debug(\"Bokeh: BokehJS plotting callback run at\", now());\n      run_inline_js();\n    });\n  }\n}(window));"
     },
     "metadata": {},
     "output_type": "display_data"
    }
   ],
   "source": [
    "output_notebook()"
   ]
  },
  {
   "cell_type": "code",
   "execution_count": 4,
   "metadata": {
    "colab": {},
    "colab_type": "code",
    "id": "DzF9YdxJxZK5"
   },
   "outputs": [],
   "source": [
    "f = figure()"
   ]
  },
  {
   "cell_type": "code",
   "execution_count": 5,
   "metadata": {
    "colab": {
     "base_uri": "https://localhost:8080/",
     "height": 617
    },
    "colab_type": "code",
    "id": "u_GMbk5axcb-",
    "outputId": "0b76c4ac-ee40-4274-c84e-61fb7b187576"
   },
   "outputs": [
    {
     "data": {
      "text/html": [
       "\n",
       "\n",
       "\n",
       "\n",
       "\n",
       "\n",
       "  <div class=\"bk-root\" id=\"cf42d1af-2843-496a-90e0-7580c1b26cb1\" data-root-id=\"1002\"></div>\n"
      ]
     },
     "metadata": {},
     "output_type": "display_data"
    },
    {
     "data": {
      "application/javascript": [
       "(function(root) {\n",
       "  function embed_document(root) {\n",
       "    \n",
       "  var docs_json = {\"8d8ecb48-1417-4e22-992c-cd70fee997e3\":{\"roots\":{\"references\":[{\"attributes\":{\"below\":[{\"id\":\"1011\",\"type\":\"LinearAxis\"}],\"center\":[{\"id\":\"1015\",\"type\":\"Grid\"},{\"id\":\"1020\",\"type\":\"Grid\"}],\"left\":[{\"id\":\"1016\",\"type\":\"LinearAxis\"}],\"renderers\":[{\"id\":\"1037\",\"type\":\"GlyphRenderer\"}],\"title\":{\"id\":\"1040\",\"type\":\"Title\"},\"toolbar\":{\"id\":\"1027\",\"type\":\"Toolbar\"},\"x_range\":{\"id\":\"1003\",\"type\":\"DataRange1d\"},\"x_scale\":{\"id\":\"1007\",\"type\":\"LinearScale\"},\"y_range\":{\"id\":\"1005\",\"type\":\"DataRange1d\"},\"y_scale\":{\"id\":\"1009\",\"type\":\"LinearScale\"}},\"id\":\"1002\",\"subtype\":\"Figure\",\"type\":\"Plot\"},{\"attributes\":{},\"id\":\"1046\",\"type\":\"UnionRenderers\"},{\"attributes\":{\"overlay\":{\"id\":\"1047\",\"type\":\"BoxAnnotation\"}},\"id\":\"1023\",\"type\":\"BoxZoomTool\"},{\"attributes\":{},\"id\":\"1012\",\"type\":\"BasicTicker\"},{\"attributes\":{\"formatter\":{\"id\":\"1041\",\"type\":\"BasicTickFormatter\"},\"ticker\":{\"id\":\"1017\",\"type\":\"BasicTicker\"}},\"id\":\"1016\",\"type\":\"LinearAxis\"},{\"attributes\":{\"data_source\":{\"id\":\"1034\",\"type\":\"ColumnDataSource\"},\"glyph\":{\"id\":\"1035\",\"type\":\"Line\"},\"hover_glyph\":null,\"muted_glyph\":null,\"nonselection_glyph\":{\"id\":\"1036\",\"type\":\"Line\"},\"selection_glyph\":null,\"view\":{\"id\":\"1038\",\"type\":\"CDSView\"}},\"id\":\"1037\",\"type\":\"GlyphRenderer\"},{\"attributes\":{},\"id\":\"1024\",\"type\":\"SaveTool\"},{\"attributes\":{\"bottom_units\":\"screen\",\"fill_alpha\":{\"value\":0.5},\"fill_color\":{\"value\":\"lightgrey\"},\"left_units\":\"screen\",\"level\":\"overlay\",\"line_alpha\":{\"value\":1.0},\"line_color\":{\"value\":\"black\"},\"line_dash\":[4,4],\"line_width\":{\"value\":2},\"render_mode\":\"css\",\"right_units\":\"screen\",\"top_units\":\"screen\"},\"id\":\"1047\",\"type\":\"BoxAnnotation\"},{\"attributes\":{},\"id\":\"1025\",\"type\":\"ResetTool\"},{\"attributes\":{},\"id\":\"1007\",\"type\":\"LinearScale\"},{\"attributes\":{},\"id\":\"1026\",\"type\":\"HelpTool\"},{\"attributes\":{\"active_drag\":\"auto\",\"active_inspect\":\"auto\",\"active_multi\":null,\"active_scroll\":\"auto\",\"active_tap\":\"auto\",\"tools\":[{\"id\":\"1021\",\"type\":\"PanTool\"},{\"id\":\"1022\",\"type\":\"WheelZoomTool\"},{\"id\":\"1023\",\"type\":\"BoxZoomTool\"},{\"id\":\"1024\",\"type\":\"SaveTool\"},{\"id\":\"1025\",\"type\":\"ResetTool\"},{\"id\":\"1026\",\"type\":\"HelpTool\"}]},\"id\":\"1027\",\"type\":\"Toolbar\"},{\"attributes\":{\"text\":\"\"},\"id\":\"1040\",\"type\":\"Title\"},{\"attributes\":{\"callback\":null,\"data\":{\"x\":{\"__ndarray__\":\"AAAAAAEAAAACAAAAAwAAAAQAAAAFAAAABgAAAAcAAAAIAAAACQAAAA==\",\"dtype\":\"int32\",\"shape\":[10]},\"y\":{\"__ndarray__\":\"CgAAAAsAAAAMAAAADQAAAA4AAAAPAAAAEAAAABEAAAASAAAAEwAAAA==\",\"dtype\":\"int32\",\"shape\":[10]}},\"selected\":{\"id\":\"1045\",\"type\":\"Selection\"},\"selection_policy\":{\"id\":\"1046\",\"type\":\"UnionRenderers\"}},\"id\":\"1034\",\"type\":\"ColumnDataSource\"},{\"attributes\":{\"callback\":null},\"id\":\"1003\",\"type\":\"DataRange1d\"},{\"attributes\":{},\"id\":\"1009\",\"type\":\"LinearScale\"},{\"attributes\":{\"line_color\":\"#1f77b4\",\"x\":{\"field\":\"x\"},\"y\":{\"field\":\"y\"}},\"id\":\"1035\",\"type\":\"Line\"},{\"attributes\":{\"callback\":null},\"id\":\"1005\",\"type\":\"DataRange1d\"},{\"attributes\":{\"formatter\":{\"id\":\"1043\",\"type\":\"BasicTickFormatter\"},\"ticker\":{\"id\":\"1012\",\"type\":\"BasicTicker\"}},\"id\":\"1011\",\"type\":\"LinearAxis\"},{\"attributes\":{\"ticker\":{\"id\":\"1012\",\"type\":\"BasicTicker\"}},\"id\":\"1015\",\"type\":\"Grid\"},{\"attributes\":{},\"id\":\"1017\",\"type\":\"BasicTicker\"},{\"attributes\":{},\"id\":\"1043\",\"type\":\"BasicTickFormatter\"},{\"attributes\":{\"source\":{\"id\":\"1034\",\"type\":\"ColumnDataSource\"}},\"id\":\"1038\",\"type\":\"CDSView\"},{\"attributes\":{\"dimension\":1,\"ticker\":{\"id\":\"1017\",\"type\":\"BasicTicker\"}},\"id\":\"1020\",\"type\":\"Grid\"},{\"attributes\":{},\"id\":\"1041\",\"type\":\"BasicTickFormatter\"},{\"attributes\":{\"line_alpha\":0.1,\"line_color\":\"#1f77b4\",\"x\":{\"field\":\"x\"},\"y\":{\"field\":\"y\"}},\"id\":\"1036\",\"type\":\"Line\"},{\"attributes\":{},\"id\":\"1021\",\"type\":\"PanTool\"},{\"attributes\":{},\"id\":\"1022\",\"type\":\"WheelZoomTool\"},{\"attributes\":{},\"id\":\"1045\",\"type\":\"Selection\"}],\"root_ids\":[\"1002\"]},\"title\":\"Bokeh Application\",\"version\":\"1.2.0\"}};\n",
       "  var render_items = [{\"docid\":\"8d8ecb48-1417-4e22-992c-cd70fee997e3\",\"roots\":{\"1002\":\"cf42d1af-2843-496a-90e0-7580c1b26cb1\"}}];\n",
       "  root.Bokeh.embed.embed_items_notebook(docs_json, render_items);\n",
       "\n",
       "  }\n",
       "  if (root.Bokeh !== undefined) {\n",
       "    embed_document(root);\n",
       "  } else {\n",
       "    var attempts = 0;\n",
       "    var timer = setInterval(function(root) {\n",
       "      if (root.Bokeh !== undefined) {\n",
       "        embed_document(root);\n",
       "        clearInterval(timer);\n",
       "      }\n",
       "      attempts++;\n",
       "      if (attempts > 100) {\n",
       "        console.log(\"Bokeh: ERROR: Unable to run BokehJS code because BokehJS library is missing\");\n",
       "        clearInterval(timer);\n",
       "      }\n",
       "    }, 10, root)\n",
       "  }\n",
       "})(window);"
      ],
      "application/vnd.bokehjs_exec.v0+json": ""
     },
     "metadata": {
      "application/vnd.bokehjs_exec.v0+json": {
       "id": "1002"
      }
     },
     "output_type": "display_data"
    }
   ],
   "source": [
    "f.line(x,y)\n",
    "show(f)"
   ]
  },
  {
   "cell_type": "code",
   "execution_count": 6,
   "metadata": {
    "colab": {
     "base_uri": "https://localhost:8080/",
     "height": 617
    },
    "colab_type": "code",
    "id": "W3LvSe2BxgYF",
    "outputId": "162b05f2-1b97-45ee-f1ef-2f3611e1f26e"
   },
   "outputs": [
    {
     "data": {
      "text/html": [
       "\n",
       "\n",
       "\n",
       "\n",
       "\n",
       "\n",
       "  <div class=\"bk-root\" id=\"0ef2dbe9-5258-44da-86bc-98fd05a4257e\" data-root-id=\"1102\"></div>\n"
      ]
     },
     "metadata": {},
     "output_type": "display_data"
    },
    {
     "data": {
      "application/javascript": [
       "(function(root) {\n",
       "  function embed_document(root) {\n",
       "    \n",
       "  var docs_json = {\"679dad05-9a68-4689-b971-7a4332eee6aa\":{\"roots\":{\"references\":[{\"attributes\":{\"below\":[{\"id\":\"1111\",\"type\":\"LinearAxis\"}],\"center\":[{\"id\":\"1115\",\"type\":\"Grid\"},{\"id\":\"1120\",\"type\":\"Grid\"}],\"left\":[{\"id\":\"1116\",\"type\":\"LinearAxis\"}],\"renderers\":[{\"id\":\"1137\",\"type\":\"GlyphRenderer\"}],\"title\":{\"id\":\"1149\",\"type\":\"Title\"},\"toolbar\":{\"id\":\"1127\",\"type\":\"Toolbar\"},\"x_range\":{\"id\":\"1103\",\"type\":\"DataRange1d\"},\"x_scale\":{\"id\":\"1107\",\"type\":\"LinearScale\"},\"y_range\":{\"id\":\"1105\",\"type\":\"DataRange1d\"},\"y_scale\":{\"id\":\"1109\",\"type\":\"LinearScale\"}},\"id\":\"1102\",\"subtype\":\"Figure\",\"type\":\"Plot\"},{\"attributes\":{},\"id\":\"1109\",\"type\":\"LinearScale\"},{\"attributes\":{\"data_source\":{\"id\":\"1134\",\"type\":\"ColumnDataSource\"},\"glyph\":{\"id\":\"1135\",\"type\":\"Scatter\"},\"hover_glyph\":null,\"muted_glyph\":null,\"nonselection_glyph\":{\"id\":\"1136\",\"type\":\"Scatter\"},\"selection_glyph\":null,\"view\":{\"id\":\"1138\",\"type\":\"CDSView\"}},\"id\":\"1137\",\"type\":\"GlyphRenderer\"},{\"attributes\":{},\"id\":\"1124\",\"type\":\"SaveTool\"},{\"attributes\":{\"formatter\":{\"id\":\"1152\",\"type\":\"BasicTickFormatter\"},\"ticker\":{\"id\":\"1112\",\"type\":\"BasicTicker\"}},\"id\":\"1111\",\"type\":\"LinearAxis\"},{\"attributes\":{},\"id\":\"1112\",\"type\":\"BasicTicker\"},{\"attributes\":{\"ticker\":{\"id\":\"1112\",\"type\":\"BasicTicker\"}},\"id\":\"1115\",\"type\":\"Grid\"},{\"attributes\":{\"formatter\":{\"id\":\"1150\",\"type\":\"BasicTickFormatter\"},\"ticker\":{\"id\":\"1117\",\"type\":\"BasicTicker\"}},\"id\":\"1116\",\"type\":\"LinearAxis\"},{\"attributes\":{},\"id\":\"1122\",\"type\":\"WheelZoomTool\"},{\"attributes\":{\"text\":\"\"},\"id\":\"1149\",\"type\":\"Title\"},{\"attributes\":{},\"id\":\"1117\",\"type\":\"BasicTicker\"},{\"attributes\":{\"dimension\":1,\"ticker\":{\"id\":\"1117\",\"type\":\"BasicTicker\"}},\"id\":\"1120\",\"type\":\"Grid\"},{\"attributes\":{\"fill_alpha\":{\"value\":0.1},\"fill_color\":{\"value\":\"#1f77b4\"},\"line_alpha\":{\"value\":0.1},\"line_color\":{\"value\":\"#1f77b4\"},\"x\":{\"field\":\"x\"},\"y\":{\"field\":\"y\"}},\"id\":\"1136\",\"type\":\"Scatter\"},{\"attributes\":{\"source\":{\"id\":\"1134\",\"type\":\"ColumnDataSource\"}},\"id\":\"1138\",\"type\":\"CDSView\"},{\"attributes\":{},\"id\":\"1154\",\"type\":\"Selection\"},{\"attributes\":{\"callback\":null,\"data\":{\"x\":{\"__ndarray__\":\"8mS0/cAV+T+EhHEtTP2rP0gghHaRCPG/1/xLvCLcyD9leLF+3c/lPyF3TLVLPuu/wsItJK6E8b+CSmdxnID0PwnpZIDQLATA7VrPi1kO3r+7TGHer5nkv7i+XRlv1fY/vPaHpZtG+T89rpfQyAzbv2rdEc31Fte/dHoh1d2M4j+ltXmD7BH1v0UIbOg4Xta/Z3Q/+b976r+nO47EjX3xvziOSiYMs/W/YVEGP8hD/j84FkBW1ZTUv9ISwgDvvMo/aBQkN1D+6T/4MAa0MTXTP6nO0u9Y9OQ/MqDzl67e4L9aMwsV7XvpPx5CpPpNAPQ/1vnvolQW2z8BmTjaYkPrP2LhlZgEquG/PFOjypCwz79DVEnduU/uv54klCMHa/g/t6UBpEP63z99qXR/W1LMv20xOiB70t8/FNxURH9puz/iesv1FqPuP9L34YW/FNQ/OVhGmdO+8b/83CzbgPLlPwWxqEnMPNq/4fOnKmu5mr9VT1BUBGnCP+vWdb/JBqO/fhdXtbuC4T/O4hCFiU4AQLX8y1Od5vg/p1Rwb97w179pUbuuCnjgv1DMtOXhxti/y4dv1FXm5L+hPWbqC/jrv/VUdNxlSPI//KQHKLRX8z/jXhVAe7/gvwuOTvbWSsG/t3yIDSvi7r8M6cATQZHwvyPuBnzNxLc/rZDgaPcv2j9oZ2qwil/1P4rqPULrj+0/ppdhD5txsj8syXeCOD22v9Isvap8T6M/jHxiFWjT5D+/gF0bw8rLv2vAvPwDTcY/MEIAiWPW9L9KeKCvy2H0v1Aj5Imse5A/imuZ5czB0D//+32ahQrXPzQsTO9T3tE/e3sPyKu17783BkNpYO3vP7anLOWdBOQ/Lbwr9Py54D+Yipq/JPmFP7pjL4S0+uS/xIBp1TCt4L9WuDjTv4YCQHC8vw2tW/q/5+fMDarWy79aco4rFIPYv4+cFLLWXOg/KTexgHfU9z8M5N5cgpnXPwqvhZXRLPK/k+AgH41e5b8yQuIZF1LAvydlotk5/QFAsaTv4N1MAMDOkKax7S+pv53qk3eqeNI/1ePMTh27lL8=\",\"dtype\":\"float64\",\"shape\":[100]},\"y\":{\"__ndarray__\":\"U8fGmOHs3L/tuvIvP4fwv8QpTh5FL/s/+9WiphNAyj+IUOK1WOXtPzqP9im7RtM/UQkuTIum8L+R9fW8lk3tP4MN6DrVt+E/eYAUQvEB8j+ZYi5miYDcvw0ZNWMd3vA/LU58hGtZ/j88aGyrjBLzvzMiJtMiO+c/CpVNJaZP9L/4rmuuyqPeP3T+lK3Tqte/p+3VBByN8z89u7JLkX75v2CdiE9F4Pc/U2TOl3J83b/rQ2Cmr3rkP9U3/J8BlM4/MpJJzsgb/b++1ZGYQgroPzNUCPA/Je0/0r2flXoO0z+gIUPHAt/7v5f89dzEaNw/WhzML3VHyz/DI8dIBT7ovzgBJr2If7M/XYD2cMhX9b9BGOPKROrRP1eUFXiURPS/WHGvZseh97/5+sMOSM3zv1gZfHhQL/Y/XdRLMa1P2z9tdUAGUS/yPzjNxzrIOPc/Qaqn+Xoj2z9Lnp5TJHKgv3Cq2jq39uu/78wW5tOv4D9YD59O1ZHZP5AT8S/CzuS/9Mg/vgN+4r8fUopYpbLRvzs2Rh8x8/E/wuIYPRGBAUDl9UVLqO25P/Q9yL+CTtu/QaYkojvi8L+MfDOtOwLVv0o6Lwhzpti/Dpm4+MjO1D+R5G92FrDYv/jkQgj+s8G/ILPk9N4oA8BmUM6JIijov0Kas6PV1fO/SPVQ7nnG2b8QXrPEJinIP/sXjn5BW+M/tQ+xrzVA9D90RYzp6S/xPwUCwwVhguG/fE2Er5Rx4j9dRiIbe23vP2JoRBO4EAXAtzj9mwou9T/NZ94l25bYP9YZxe+P3fk/RrTpwcxD2z+6JMskEKCXv+VRjquOvNG/Qx6/drpA5b+7cnQX3rPSP70yqWbHUY4/d0PA0DGw87/gumSGQTrAv2a59MHr0+g/hZNnlH9W4T96pV1sdbrvP3w4v3of4++/7IKtGoCB4r81ggJ+4j27P2uNGU5oTNi/JnPDTv26s7+kBKjBstPNv/d8Ec1RpM4/2aO3kONI/L+hAHU55tfgv/LOe5gLfeW/t/CVeGsA+z98Hlvv5UfeP6JG7Y2/Qri/uTDMQmjD1z8=\",\"dtype\":\"float64\",\"shape\":[100]}},\"selected\":{\"id\":\"1154\",\"type\":\"Selection\"},\"selection_policy\":{\"id\":\"1155\",\"type\":\"UnionRenderers\"}},\"id\":\"1134\",\"type\":\"ColumnDataSource\"},{\"attributes\":{\"fill_color\":{\"value\":\"#1f77b4\"},\"line_color\":{\"value\":\"#1f77b4\"},\"x\":{\"field\":\"x\"},\"y\":{\"field\":\"y\"}},\"id\":\"1135\",\"type\":\"Scatter\"},{\"attributes\":{},\"id\":\"1107\",\"type\":\"LinearScale\"},{\"attributes\":{},\"id\":\"1125\",\"type\":\"ResetTool\"},{\"attributes\":{},\"id\":\"1152\",\"type\":\"BasicTickFormatter\"},{\"attributes\":{\"callback\":null},\"id\":\"1105\",\"type\":\"DataRange1d\"},{\"attributes\":{\"callback\":null},\"id\":\"1103\",\"type\":\"DataRange1d\"},{\"attributes\":{},\"id\":\"1126\",\"type\":\"HelpTool\"},{\"attributes\":{},\"id\":\"1155\",\"type\":\"UnionRenderers\"},{\"attributes\":{\"bottom_units\":\"screen\",\"fill_alpha\":{\"value\":0.5},\"fill_color\":{\"value\":\"lightgrey\"},\"left_units\":\"screen\",\"level\":\"overlay\",\"line_alpha\":{\"value\":1.0},\"line_color\":{\"value\":\"black\"},\"line_dash\":[4,4],\"line_width\":{\"value\":2},\"render_mode\":\"css\",\"right_units\":\"screen\",\"top_units\":\"screen\"},\"id\":\"1156\",\"type\":\"BoxAnnotation\"},{\"attributes\":{},\"id\":\"1150\",\"type\":\"BasicTickFormatter\"},{\"attributes\":{\"active_drag\":\"auto\",\"active_inspect\":\"auto\",\"active_multi\":null,\"active_scroll\":\"auto\",\"active_tap\":\"auto\",\"tools\":[{\"id\":\"1121\",\"type\":\"PanTool\"},{\"id\":\"1122\",\"type\":\"WheelZoomTool\"},{\"id\":\"1123\",\"type\":\"BoxZoomTool\"},{\"id\":\"1124\",\"type\":\"SaveTool\"},{\"id\":\"1125\",\"type\":\"ResetTool\"},{\"id\":\"1126\",\"type\":\"HelpTool\"}]},\"id\":\"1127\",\"type\":\"Toolbar\"},{\"attributes\":{},\"id\":\"1121\",\"type\":\"PanTool\"},{\"attributes\":{\"overlay\":{\"id\":\"1156\",\"type\":\"BoxAnnotation\"}},\"id\":\"1123\",\"type\":\"BoxZoomTool\"}],\"root_ids\":[\"1102\"]},\"title\":\"Bokeh Application\",\"version\":\"1.2.0\"}};\n",
       "  var render_items = [{\"docid\":\"679dad05-9a68-4689-b971-7a4332eee6aa\",\"roots\":{\"1102\":\"0ef2dbe9-5258-44da-86bc-98fd05a4257e\"}}];\n",
       "  root.Bokeh.embed.embed_items_notebook(docs_json, render_items);\n",
       "\n",
       "  }\n",
       "  if (root.Bokeh !== undefined) {\n",
       "    embed_document(root);\n",
       "  } else {\n",
       "    var attempts = 0;\n",
       "    var timer = setInterval(function(root) {\n",
       "      if (root.Bokeh !== undefined) {\n",
       "        embed_document(root);\n",
       "        clearInterval(timer);\n",
       "      }\n",
       "      attempts++;\n",
       "      if (attempts > 100) {\n",
       "        console.log(\"Bokeh: ERROR: Unable to run BokehJS code because BokehJS library is missing\");\n",
       "        clearInterval(timer);\n",
       "      }\n",
       "    }, 10, root)\n",
       "  }\n",
       "})(window);"
      ],
      "application/vnd.bokehjs_exec.v0+json": ""
     },
     "metadata": {
      "application/vnd.bokehjs_exec.v0+json": {
       "id": "1102"
      }
     },
     "output_type": "display_data"
    }
   ],
   "source": [
    "x = np.random.normal(size = 100)\n",
    "y = np.random.normal(size = 100)\n",
    "\n",
    "f = figure()\n",
    "f.scatter(x,y)\n",
    "show(f)"
   ]
  },
  {
   "cell_type": "code",
   "execution_count": 7,
   "metadata": {
    "colab": {
     "base_uri": "https://localhost:8080/",
     "height": 617
    },
    "colab_type": "code",
    "id": "grRZZ422x5bA",
    "outputId": "0713cc37-861a-4a40-c00a-e715127ea6b0"
   },
   "outputs": [
    {
     "data": {
      "text/html": [
       "\n",
       "\n",
       "\n",
       "\n",
       "\n",
       "\n",
       "  <div class=\"bk-root\" id=\"599445f2-cd9f-4064-be4d-7919bef12651\" data-root-id=\"1102\"></div>\n"
      ]
     },
     "metadata": {},
     "output_type": "display_data"
    },
    {
     "data": {
      "application/javascript": [
       "(function(root) {\n",
       "  function embed_document(root) {\n",
       "    \n",
       "  var docs_json = {\"f5a6e920-a435-47a5-81b0-e0fa574b0b8d\":{\"roots\":{\"references\":[{\"attributes\":{\"below\":[{\"id\":\"1111\",\"type\":\"LinearAxis\"}],\"center\":[{\"id\":\"1115\",\"type\":\"Grid\"},{\"id\":\"1120\",\"type\":\"Grid\"}],\"left\":[{\"id\":\"1116\",\"type\":\"LinearAxis\"}],\"renderers\":[{\"id\":\"1137\",\"type\":\"GlyphRenderer\"},{\"id\":\"1214\",\"type\":\"GlyphRenderer\"}],\"title\":{\"id\":\"1149\",\"type\":\"Title\"},\"toolbar\":{\"id\":\"1127\",\"type\":\"Toolbar\"},\"x_range\":{\"id\":\"1103\",\"type\":\"DataRange1d\"},\"x_scale\":{\"id\":\"1107\",\"type\":\"LinearScale\"},\"y_range\":{\"id\":\"1105\",\"type\":\"DataRange1d\"},\"y_scale\":{\"id\":\"1109\",\"type\":\"LinearScale\"}},\"id\":\"1102\",\"subtype\":\"Figure\",\"type\":\"Plot\"},{\"attributes\":{},\"id\":\"1109\",\"type\":\"LinearScale\"},{\"attributes\":{\"data_source\":{\"id\":\"1134\",\"type\":\"ColumnDataSource\"},\"glyph\":{\"id\":\"1135\",\"type\":\"Scatter\"},\"hover_glyph\":null,\"muted_glyph\":null,\"nonselection_glyph\":{\"id\":\"1136\",\"type\":\"Scatter\"},\"selection_glyph\":null,\"view\":{\"id\":\"1138\",\"type\":\"CDSView\"}},\"id\":\"1137\",\"type\":\"GlyphRenderer\"},{\"attributes\":{},\"id\":\"1124\",\"type\":\"SaveTool\"},{\"attributes\":{},\"id\":\"1121\",\"type\":\"PanTool\"},{\"attributes\":{\"formatter\":{\"id\":\"1152\",\"type\":\"BasicTickFormatter\"},\"ticker\":{\"id\":\"1112\",\"type\":\"BasicTicker\"}},\"id\":\"1111\",\"type\":\"LinearAxis\"},{\"attributes\":{},\"id\":\"1112\",\"type\":\"BasicTicker\"},{\"attributes\":{\"ticker\":{\"id\":\"1112\",\"type\":\"BasicTicker\"}},\"id\":\"1115\",\"type\":\"Grid\"},{\"attributes\":{\"formatter\":{\"id\":\"1150\",\"type\":\"BasicTickFormatter\"},\"ticker\":{\"id\":\"1117\",\"type\":\"BasicTicker\"}},\"id\":\"1116\",\"type\":\"LinearAxis\"},{\"attributes\":{},\"id\":\"1122\",\"type\":\"WheelZoomTool\"},{\"attributes\":{\"fill_color\":{\"value\":\"#1f77b4\"},\"line_color\":{\"value\":\"#1f77b4\"},\"x\":{\"field\":\"x\"},\"y\":{\"field\":\"y\"}},\"id\":\"1212\",\"type\":\"Triangle\"},{\"attributes\":{\"text\":\"\"},\"id\":\"1149\",\"type\":\"Title\"},{\"attributes\":{},\"id\":\"1117\",\"type\":\"BasicTicker\"},{\"attributes\":{\"fill_alpha\":{\"value\":0.1},\"fill_color\":{\"value\":\"#1f77b4\"},\"line_alpha\":{\"value\":0.1},\"line_color\":{\"value\":\"#1f77b4\"},\"x\":{\"field\":\"x\"},\"y\":{\"field\":\"y\"}},\"id\":\"1213\",\"type\":\"Triangle\"},{\"attributes\":{\"dimension\":1,\"ticker\":{\"id\":\"1117\",\"type\":\"BasicTicker\"}},\"id\":\"1120\",\"type\":\"Grid\"},{\"attributes\":{\"data_source\":{\"id\":\"1211\",\"type\":\"ColumnDataSource\"},\"glyph\":{\"id\":\"1212\",\"type\":\"Triangle\"},\"hover_glyph\":null,\"muted_glyph\":null,\"nonselection_glyph\":{\"id\":\"1213\",\"type\":\"Triangle\"},\"selection_glyph\":null,\"view\":{\"id\":\"1215\",\"type\":\"CDSView\"}},\"id\":\"1214\",\"type\":\"GlyphRenderer\"},{\"attributes\":{\"source\":{\"id\":\"1211\",\"type\":\"ColumnDataSource\"}},\"id\":\"1215\",\"type\":\"CDSView\"},{\"attributes\":{\"fill_alpha\":{\"value\":0.1},\"fill_color\":{\"value\":\"#1f77b4\"},\"line_alpha\":{\"value\":0.1},\"line_color\":{\"value\":\"#1f77b4\"},\"x\":{\"field\":\"x\"},\"y\":{\"field\":\"y\"}},\"id\":\"1136\",\"type\":\"Scatter\"},{\"attributes\":{\"callback\":null,\"data\":{\"x\":{\"__ndarray__\":\"8mS0/cAV+T+EhHEtTP2rP0gghHaRCPG/1/xLvCLcyD9leLF+3c/lPyF3TLVLPuu/wsItJK6E8b+CSmdxnID0PwnpZIDQLATA7VrPi1kO3r+7TGHer5nkv7i+XRlv1fY/vPaHpZtG+T89rpfQyAzbv2rdEc31Fte/dHoh1d2M4j+ltXmD7BH1v0UIbOg4Xta/Z3Q/+b976r+nO47EjX3xvziOSiYMs/W/YVEGP8hD/j84FkBW1ZTUv9ISwgDvvMo/aBQkN1D+6T/4MAa0MTXTP6nO0u9Y9OQ/MqDzl67e4L9aMwsV7XvpPx5CpPpNAPQ/1vnvolQW2z8BmTjaYkPrP2LhlZgEquG/PFOjypCwz79DVEnduU/uv54klCMHa/g/t6UBpEP63z99qXR/W1LMv20xOiB70t8/FNxURH9puz/iesv1FqPuP9L34YW/FNQ/OVhGmdO+8b/83CzbgPLlPwWxqEnMPNq/4fOnKmu5mr9VT1BUBGnCP+vWdb/JBqO/fhdXtbuC4T/O4hCFiU4AQLX8y1Od5vg/p1Rwb97w179pUbuuCnjgv1DMtOXhxti/y4dv1FXm5L+hPWbqC/jrv/VUdNxlSPI//KQHKLRX8z/jXhVAe7/gvwuOTvbWSsG/t3yIDSvi7r8M6cATQZHwvyPuBnzNxLc/rZDgaPcv2j9oZ2qwil/1P4rqPULrj+0/ppdhD5txsj8syXeCOD22v9Isvap8T6M/jHxiFWjT5D+/gF0bw8rLv2vAvPwDTcY/MEIAiWPW9L9KeKCvy2H0v1Aj5Imse5A/imuZ5czB0D//+32ahQrXPzQsTO9T3tE/e3sPyKu17783BkNpYO3vP7anLOWdBOQ/Lbwr9Py54D+Yipq/JPmFP7pjL4S0+uS/xIBp1TCt4L9WuDjTv4YCQHC8vw2tW/q/5+fMDarWy79aco4rFIPYv4+cFLLWXOg/KTexgHfU9z8M5N5cgpnXPwqvhZXRLPK/k+AgH41e5b8yQuIZF1LAvydlotk5/QFAsaTv4N1MAMDOkKax7S+pv53qk3eqeNI/1ePMTh27lL8=\",\"dtype\":\"float64\",\"shape\":[100]},\"y\":{\"__ndarray__\":\"U8fGmOHs3L/tuvIvP4fwv8QpTh5FL/s/+9WiphNAyj+IUOK1WOXtPzqP9im7RtM/UQkuTIum8L+R9fW8lk3tP4MN6DrVt+E/eYAUQvEB8j+ZYi5miYDcvw0ZNWMd3vA/LU58hGtZ/j88aGyrjBLzvzMiJtMiO+c/CpVNJaZP9L/4rmuuyqPeP3T+lK3Tqte/p+3VBByN8z89u7JLkX75v2CdiE9F4Pc/U2TOl3J83b/rQ2Cmr3rkP9U3/J8BlM4/MpJJzsgb/b++1ZGYQgroPzNUCPA/Je0/0r2flXoO0z+gIUPHAt/7v5f89dzEaNw/WhzML3VHyz/DI8dIBT7ovzgBJr2If7M/XYD2cMhX9b9BGOPKROrRP1eUFXiURPS/WHGvZseh97/5+sMOSM3zv1gZfHhQL/Y/XdRLMa1P2z9tdUAGUS/yPzjNxzrIOPc/Qaqn+Xoj2z9Lnp5TJHKgv3Cq2jq39uu/78wW5tOv4D9YD59O1ZHZP5AT8S/CzuS/9Mg/vgN+4r8fUopYpbLRvzs2Rh8x8/E/wuIYPRGBAUDl9UVLqO25P/Q9yL+CTtu/QaYkojvi8L+MfDOtOwLVv0o6Lwhzpti/Dpm4+MjO1D+R5G92FrDYv/jkQgj+s8G/ILPk9N4oA8BmUM6JIijov0Kas6PV1fO/SPVQ7nnG2b8QXrPEJinIP/sXjn5BW+M/tQ+xrzVA9D90RYzp6S/xPwUCwwVhguG/fE2Er5Rx4j9dRiIbe23vP2JoRBO4EAXAtzj9mwou9T/NZ94l25bYP9YZxe+P3fk/RrTpwcxD2z+6JMskEKCXv+VRjquOvNG/Qx6/drpA5b+7cnQX3rPSP70yqWbHUY4/d0PA0DGw87/gumSGQTrAv2a59MHr0+g/hZNnlH9W4T96pV1sdbrvP3w4v3of4++/7IKtGoCB4r81ggJ+4j27P2uNGU5oTNi/JnPDTv26s7+kBKjBstPNv/d8Ec1RpM4/2aO3kONI/L+hAHU55tfgv/LOe5gLfeW/t/CVeGsA+z98Hlvv5UfeP6JG7Y2/Qri/uTDMQmjD1z8=\",\"dtype\":\"float64\",\"shape\":[100]}},\"selected\":{\"id\":\"1233\",\"type\":\"Selection\"},\"selection_policy\":{\"id\":\"1234\",\"type\":\"UnionRenderers\"}},\"id\":\"1211\",\"type\":\"ColumnDataSource\"},{\"attributes\":{\"source\":{\"id\":\"1134\",\"type\":\"ColumnDataSource\"}},\"id\":\"1138\",\"type\":\"CDSView\"},{\"attributes\":{},\"id\":\"1154\",\"type\":\"Selection\"},{\"attributes\":{\"callback\":null,\"data\":{\"x\":{\"__ndarray__\":\"8mS0/cAV+T+EhHEtTP2rP0gghHaRCPG/1/xLvCLcyD9leLF+3c/lPyF3TLVLPuu/wsItJK6E8b+CSmdxnID0PwnpZIDQLATA7VrPi1kO3r+7TGHer5nkv7i+XRlv1fY/vPaHpZtG+T89rpfQyAzbv2rdEc31Fte/dHoh1d2M4j+ltXmD7BH1v0UIbOg4Xta/Z3Q/+b976r+nO47EjX3xvziOSiYMs/W/YVEGP8hD/j84FkBW1ZTUv9ISwgDvvMo/aBQkN1D+6T/4MAa0MTXTP6nO0u9Y9OQ/MqDzl67e4L9aMwsV7XvpPx5CpPpNAPQ/1vnvolQW2z8BmTjaYkPrP2LhlZgEquG/PFOjypCwz79DVEnduU/uv54klCMHa/g/t6UBpEP63z99qXR/W1LMv20xOiB70t8/FNxURH9puz/iesv1FqPuP9L34YW/FNQ/OVhGmdO+8b/83CzbgPLlPwWxqEnMPNq/4fOnKmu5mr9VT1BUBGnCP+vWdb/JBqO/fhdXtbuC4T/O4hCFiU4AQLX8y1Od5vg/p1Rwb97w179pUbuuCnjgv1DMtOXhxti/y4dv1FXm5L+hPWbqC/jrv/VUdNxlSPI//KQHKLRX8z/jXhVAe7/gvwuOTvbWSsG/t3yIDSvi7r8M6cATQZHwvyPuBnzNxLc/rZDgaPcv2j9oZ2qwil/1P4rqPULrj+0/ppdhD5txsj8syXeCOD22v9Isvap8T6M/jHxiFWjT5D+/gF0bw8rLv2vAvPwDTcY/MEIAiWPW9L9KeKCvy2H0v1Aj5Imse5A/imuZ5czB0D//+32ahQrXPzQsTO9T3tE/e3sPyKu17783BkNpYO3vP7anLOWdBOQ/Lbwr9Py54D+Yipq/JPmFP7pjL4S0+uS/xIBp1TCt4L9WuDjTv4YCQHC8vw2tW/q/5+fMDarWy79aco4rFIPYv4+cFLLWXOg/KTexgHfU9z8M5N5cgpnXPwqvhZXRLPK/k+AgH41e5b8yQuIZF1LAvydlotk5/QFAsaTv4N1MAMDOkKax7S+pv53qk3eqeNI/1ePMTh27lL8=\",\"dtype\":\"float64\",\"shape\":[100]},\"y\":{\"__ndarray__\":\"U8fGmOHs3L/tuvIvP4fwv8QpTh5FL/s/+9WiphNAyj+IUOK1WOXtPzqP9im7RtM/UQkuTIum8L+R9fW8lk3tP4MN6DrVt+E/eYAUQvEB8j+ZYi5miYDcvw0ZNWMd3vA/LU58hGtZ/j88aGyrjBLzvzMiJtMiO+c/CpVNJaZP9L/4rmuuyqPeP3T+lK3Tqte/p+3VBByN8z89u7JLkX75v2CdiE9F4Pc/U2TOl3J83b/rQ2Cmr3rkP9U3/J8BlM4/MpJJzsgb/b++1ZGYQgroPzNUCPA/Je0/0r2flXoO0z+gIUPHAt/7v5f89dzEaNw/WhzML3VHyz/DI8dIBT7ovzgBJr2If7M/XYD2cMhX9b9BGOPKROrRP1eUFXiURPS/WHGvZseh97/5+sMOSM3zv1gZfHhQL/Y/XdRLMa1P2z9tdUAGUS/yPzjNxzrIOPc/Qaqn+Xoj2z9Lnp5TJHKgv3Cq2jq39uu/78wW5tOv4D9YD59O1ZHZP5AT8S/CzuS/9Mg/vgN+4r8fUopYpbLRvzs2Rh8x8/E/wuIYPRGBAUDl9UVLqO25P/Q9yL+CTtu/QaYkojvi8L+MfDOtOwLVv0o6Lwhzpti/Dpm4+MjO1D+R5G92FrDYv/jkQgj+s8G/ILPk9N4oA8BmUM6JIijov0Kas6PV1fO/SPVQ7nnG2b8QXrPEJinIP/sXjn5BW+M/tQ+xrzVA9D90RYzp6S/xPwUCwwVhguG/fE2Er5Rx4j9dRiIbe23vP2JoRBO4EAXAtzj9mwou9T/NZ94l25bYP9YZxe+P3fk/RrTpwcxD2z+6JMskEKCXv+VRjquOvNG/Qx6/drpA5b+7cnQX3rPSP70yqWbHUY4/d0PA0DGw87/gumSGQTrAv2a59MHr0+g/hZNnlH9W4T96pV1sdbrvP3w4v3of4++/7IKtGoCB4r81ggJ+4j27P2uNGU5oTNi/JnPDTv26s7+kBKjBstPNv/d8Ec1RpM4/2aO3kONI/L+hAHU55tfgv/LOe5gLfeW/t/CVeGsA+z98Hlvv5UfeP6JG7Y2/Qri/uTDMQmjD1z8=\",\"dtype\":\"float64\",\"shape\":[100]}},\"selected\":{\"id\":\"1154\",\"type\":\"Selection\"},\"selection_policy\":{\"id\":\"1155\",\"type\":\"UnionRenderers\"}},\"id\":\"1134\",\"type\":\"ColumnDataSource\"},{\"attributes\":{\"fill_color\":{\"value\":\"#1f77b4\"},\"line_color\":{\"value\":\"#1f77b4\"},\"x\":{\"field\":\"x\"},\"y\":{\"field\":\"y\"}},\"id\":\"1135\",\"type\":\"Scatter\"},{\"attributes\":{},\"id\":\"1107\",\"type\":\"LinearScale\"},{\"attributes\":{},\"id\":\"1125\",\"type\":\"ResetTool\"},{\"attributes\":{},\"id\":\"1152\",\"type\":\"BasicTickFormatter\"},{\"attributes\":{\"callback\":null},\"id\":\"1105\",\"type\":\"DataRange1d\"},{\"attributes\":{},\"id\":\"1126\",\"type\":\"HelpTool\"},{\"attributes\":{},\"id\":\"1155\",\"type\":\"UnionRenderers\"},{\"attributes\":{},\"id\":\"1233\",\"type\":\"Selection\"},{\"attributes\":{\"bottom_units\":\"screen\",\"fill_alpha\":{\"value\":0.5},\"fill_color\":{\"value\":\"lightgrey\"},\"left_units\":\"screen\",\"level\":\"overlay\",\"line_alpha\":{\"value\":1.0},\"line_color\":{\"value\":\"black\"},\"line_dash\":[4,4],\"line_width\":{\"value\":2},\"render_mode\":\"css\",\"right_units\":\"screen\",\"top_units\":\"screen\"},\"id\":\"1156\",\"type\":\"BoxAnnotation\"},{\"attributes\":{},\"id\":\"1234\",\"type\":\"UnionRenderers\"},{\"attributes\":{},\"id\":\"1150\",\"type\":\"BasicTickFormatter\"},{\"attributes\":{\"active_drag\":\"auto\",\"active_inspect\":\"auto\",\"active_multi\":null,\"active_scroll\":\"auto\",\"active_tap\":\"auto\",\"tools\":[{\"id\":\"1121\",\"type\":\"PanTool\"},{\"id\":\"1122\",\"type\":\"WheelZoomTool\"},{\"id\":\"1123\",\"type\":\"BoxZoomTool\"},{\"id\":\"1124\",\"type\":\"SaveTool\"},{\"id\":\"1125\",\"type\":\"ResetTool\"},{\"id\":\"1126\",\"type\":\"HelpTool\"}]},\"id\":\"1127\",\"type\":\"Toolbar\"},{\"attributes\":{\"callback\":null},\"id\":\"1103\",\"type\":\"DataRange1d\"},{\"attributes\":{\"overlay\":{\"id\":\"1156\",\"type\":\"BoxAnnotation\"}},\"id\":\"1123\",\"type\":\"BoxZoomTool\"}],\"root_ids\":[\"1102\"]},\"title\":\"Bokeh Application\",\"version\":\"1.2.0\"}};\n",
       "  var render_items = [{\"docid\":\"f5a6e920-a435-47a5-81b0-e0fa574b0b8d\",\"roots\":{\"1102\":\"599445f2-cd9f-4064-be4d-7919bef12651\"}}];\n",
       "  root.Bokeh.embed.embed_items_notebook(docs_json, render_items);\n",
       "\n",
       "  }\n",
       "  if (root.Bokeh !== undefined) {\n",
       "    embed_document(root);\n",
       "  } else {\n",
       "    var attempts = 0;\n",
       "    var timer = setInterval(function(root) {\n",
       "      if (root.Bokeh !== undefined) {\n",
       "        embed_document(root);\n",
       "        clearInterval(timer);\n",
       "      }\n",
       "      attempts++;\n",
       "      if (attempts > 100) {\n",
       "        console.log(\"Bokeh: ERROR: Unable to run BokehJS code because BokehJS library is missing\");\n",
       "        clearInterval(timer);\n",
       "      }\n",
       "    }, 10, root)\n",
       "  }\n",
       "})(window);"
      ],
      "application/vnd.bokehjs_exec.v0+json": ""
     },
     "metadata": {
      "application/vnd.bokehjs_exec.v0+json": {
       "id": "1102"
      }
     },
     "output_type": "display_data"
    }
   ],
   "source": [
    "f.triangle(x,y)\n",
    "show(f)"
   ]
  },
  {
   "cell_type": "code",
   "execution_count": 8,
   "metadata": {
    "colab": {
     "base_uri": "https://localhost:8080/",
     "height": 617
    },
    "colab_type": "code",
    "id": "bdOWSOaHymtA",
    "outputId": "281ccee1-dd35-40b1-c8bb-df4ad4c5e720"
   },
   "outputs": [
    {
     "data": {
      "text/html": [
       "\n",
       "\n",
       "\n",
       "\n",
       "\n",
       "\n",
       "  <div class=\"bk-root\" id=\"8258f53e-20c2-48a1-958e-73c684a15306\" data-root-id=\"1102\"></div>\n"
      ]
     },
     "metadata": {},
     "output_type": "display_data"
    },
    {
     "data": {
      "application/javascript": [
       "(function(root) {\n",
       "  function embed_document(root) {\n",
       "    \n",
       "  var docs_json = {\"a34489ea-eac5-42cd-8154-3e39c9130752\":{\"roots\":{\"references\":[{\"attributes\":{\"below\":[{\"id\":\"1111\",\"type\":\"LinearAxis\"}],\"center\":[{\"id\":\"1115\",\"type\":\"Grid\"},{\"id\":\"1120\",\"type\":\"Grid\"}],\"left\":[{\"id\":\"1116\",\"type\":\"LinearAxis\"}],\"renderers\":[{\"id\":\"1137\",\"type\":\"GlyphRenderer\"},{\"id\":\"1214\",\"type\":\"GlyphRenderer\"},{\"id\":\"1305\",\"type\":\"GlyphRenderer\"}],\"title\":{\"id\":\"1149\",\"type\":\"Title\"},\"toolbar\":{\"id\":\"1127\",\"type\":\"Toolbar\"},\"x_range\":{\"id\":\"1103\",\"type\":\"DataRange1d\"},\"x_scale\":{\"id\":\"1107\",\"type\":\"LinearScale\"},\"y_range\":{\"id\":\"1105\",\"type\":\"DataRange1d\"},\"y_scale\":{\"id\":\"1109\",\"type\":\"LinearScale\"}},\"id\":\"1102\",\"subtype\":\"Figure\",\"type\":\"Plot\"},{\"attributes\":{},\"id\":\"1109\",\"type\":\"LinearScale\"},{\"attributes\":{},\"id\":\"1327\",\"type\":\"UnionRenderers\"},{\"attributes\":{\"data_source\":{\"id\":\"1134\",\"type\":\"ColumnDataSource\"},\"glyph\":{\"id\":\"1135\",\"type\":\"Scatter\"},\"hover_glyph\":null,\"muted_glyph\":null,\"nonselection_glyph\":{\"id\":\"1136\",\"type\":\"Scatter\"},\"selection_glyph\":null,\"view\":{\"id\":\"1138\",\"type\":\"CDSView\"}},\"id\":\"1137\",\"type\":\"GlyphRenderer\"},{\"attributes\":{},\"id\":\"1124\",\"type\":\"SaveTool\"},{\"attributes\":{},\"id\":\"1121\",\"type\":\"PanTool\"},{\"attributes\":{\"formatter\":{\"id\":\"1152\",\"type\":\"BasicTickFormatter\"},\"ticker\":{\"id\":\"1112\",\"type\":\"BasicTicker\"}},\"id\":\"1111\",\"type\":\"LinearAxis\"},{\"attributes\":{},\"id\":\"1112\",\"type\":\"BasicTicker\"},{\"attributes\":{\"ticker\":{\"id\":\"1112\",\"type\":\"BasicTicker\"}},\"id\":\"1115\",\"type\":\"Grid\"},{\"attributes\":{\"formatter\":{\"id\":\"1150\",\"type\":\"BasicTickFormatter\"},\"ticker\":{\"id\":\"1117\",\"type\":\"BasicTicker\"}},\"id\":\"1116\",\"type\":\"LinearAxis\"},{\"attributes\":{},\"id\":\"1122\",\"type\":\"WheelZoomTool\"},{\"attributes\":{\"fill_color\":{\"value\":\"#1f77b4\"},\"line_color\":{\"value\":\"#1f77b4\"},\"x\":{\"field\":\"x\"},\"y\":{\"field\":\"y\"}},\"id\":\"1212\",\"type\":\"Triangle\"},{\"attributes\":{\"text\":\"\"},\"id\":\"1149\",\"type\":\"Title\"},{\"attributes\":{},\"id\":\"1117\",\"type\":\"BasicTicker\"},{\"attributes\":{\"callback\":null,\"data\":{\"x\":{\"__ndarray__\":\"8mS0/cAV+T+EhHEtTP2rP0gghHaRCPG/1/xLvCLcyD9leLF+3c/lPyF3TLVLPuu/wsItJK6E8b+CSmdxnID0PwnpZIDQLATA7VrPi1kO3r+7TGHer5nkv7i+XRlv1fY/vPaHpZtG+T89rpfQyAzbv2rdEc31Fte/dHoh1d2M4j+ltXmD7BH1v0UIbOg4Xta/Z3Q/+b976r+nO47EjX3xvziOSiYMs/W/YVEGP8hD/j84FkBW1ZTUv9ISwgDvvMo/aBQkN1D+6T/4MAa0MTXTP6nO0u9Y9OQ/MqDzl67e4L9aMwsV7XvpPx5CpPpNAPQ/1vnvolQW2z8BmTjaYkPrP2LhlZgEquG/PFOjypCwz79DVEnduU/uv54klCMHa/g/t6UBpEP63z99qXR/W1LMv20xOiB70t8/FNxURH9puz/iesv1FqPuP9L34YW/FNQ/OVhGmdO+8b/83CzbgPLlPwWxqEnMPNq/4fOnKmu5mr9VT1BUBGnCP+vWdb/JBqO/fhdXtbuC4T/O4hCFiU4AQLX8y1Od5vg/p1Rwb97w179pUbuuCnjgv1DMtOXhxti/y4dv1FXm5L+hPWbqC/jrv/VUdNxlSPI//KQHKLRX8z/jXhVAe7/gvwuOTvbWSsG/t3yIDSvi7r8M6cATQZHwvyPuBnzNxLc/rZDgaPcv2j9oZ2qwil/1P4rqPULrj+0/ppdhD5txsj8syXeCOD22v9Isvap8T6M/jHxiFWjT5D+/gF0bw8rLv2vAvPwDTcY/MEIAiWPW9L9KeKCvy2H0v1Aj5Imse5A/imuZ5czB0D//+32ahQrXPzQsTO9T3tE/e3sPyKu17783BkNpYO3vP7anLOWdBOQ/Lbwr9Py54D+Yipq/JPmFP7pjL4S0+uS/xIBp1TCt4L9WuDjTv4YCQHC8vw2tW/q/5+fMDarWy79aco4rFIPYv4+cFLLWXOg/KTexgHfU9z8M5N5cgpnXPwqvhZXRLPK/k+AgH41e5b8yQuIZF1LAvydlotk5/QFAsaTv4N1MAMDOkKax7S+pv53qk3eqeNI/1ePMTh27lL8=\",\"dtype\":\"float64\",\"shape\":[100]},\"y\":{\"__ndarray__\":\"U8fGmOHs3L/tuvIvP4fwv8QpTh5FL/s/+9WiphNAyj+IUOK1WOXtPzqP9im7RtM/UQkuTIum8L+R9fW8lk3tP4MN6DrVt+E/eYAUQvEB8j+ZYi5miYDcvw0ZNWMd3vA/LU58hGtZ/j88aGyrjBLzvzMiJtMiO+c/CpVNJaZP9L/4rmuuyqPeP3T+lK3Tqte/p+3VBByN8z89u7JLkX75v2CdiE9F4Pc/U2TOl3J83b/rQ2Cmr3rkP9U3/J8BlM4/MpJJzsgb/b++1ZGYQgroPzNUCPA/Je0/0r2flXoO0z+gIUPHAt/7v5f89dzEaNw/WhzML3VHyz/DI8dIBT7ovzgBJr2If7M/XYD2cMhX9b9BGOPKROrRP1eUFXiURPS/WHGvZseh97/5+sMOSM3zv1gZfHhQL/Y/XdRLMa1P2z9tdUAGUS/yPzjNxzrIOPc/Qaqn+Xoj2z9Lnp5TJHKgv3Cq2jq39uu/78wW5tOv4D9YD59O1ZHZP5AT8S/CzuS/9Mg/vgN+4r8fUopYpbLRvzs2Rh8x8/E/wuIYPRGBAUDl9UVLqO25P/Q9yL+CTtu/QaYkojvi8L+MfDOtOwLVv0o6Lwhzpti/Dpm4+MjO1D+R5G92FrDYv/jkQgj+s8G/ILPk9N4oA8BmUM6JIijov0Kas6PV1fO/SPVQ7nnG2b8QXrPEJinIP/sXjn5BW+M/tQ+xrzVA9D90RYzp6S/xPwUCwwVhguG/fE2Er5Rx4j9dRiIbe23vP2JoRBO4EAXAtzj9mwou9T/NZ94l25bYP9YZxe+P3fk/RrTpwcxD2z+6JMskEKCXv+VRjquOvNG/Qx6/drpA5b+7cnQX3rPSP70yqWbHUY4/d0PA0DGw87/gumSGQTrAv2a59MHr0+g/hZNnlH9W4T96pV1sdbrvP3w4v3of4++/7IKtGoCB4r81ggJ+4j27P2uNGU5oTNi/JnPDTv26s7+kBKjBstPNv/d8Ec1RpM4/2aO3kONI/L+hAHU55tfgv/LOe5gLfeW/t/CVeGsA+z98Hlvv5UfeP6JG7Y2/Qri/uTDMQmjD1z8=\",\"dtype\":\"float64\",\"shape\":[100]}},\"selected\":{\"id\":\"1326\",\"type\":\"Selection\"},\"selection_policy\":{\"id\":\"1327\",\"type\":\"UnionRenderers\"}},\"id\":\"1302\",\"type\":\"ColumnDataSource\"},{\"attributes\":{\"fill_alpha\":{\"value\":0.1},\"fill_color\":{\"value\":\"#1f77b4\"},\"line_alpha\":{\"value\":0.1},\"line_color\":{\"value\":\"#1f77b4\"},\"x\":{\"field\":\"x\"},\"y\":{\"field\":\"y\"}},\"id\":\"1213\",\"type\":\"Triangle\"},{\"attributes\":{\"dimension\":1,\"ticker\":{\"id\":\"1117\",\"type\":\"BasicTicker\"}},\"id\":\"1120\",\"type\":\"Grid\"},{\"attributes\":{\"data_source\":{\"id\":\"1211\",\"type\":\"ColumnDataSource\"},\"glyph\":{\"id\":\"1212\",\"type\":\"Triangle\"},\"hover_glyph\":null,\"muted_glyph\":null,\"nonselection_glyph\":{\"id\":\"1213\",\"type\":\"Triangle\"},\"selection_glyph\":null,\"view\":{\"id\":\"1215\",\"type\":\"CDSView\"}},\"id\":\"1214\",\"type\":\"GlyphRenderer\"},{\"attributes\":{\"data_source\":{\"id\":\"1302\",\"type\":\"ColumnDataSource\"},\"glyph\":{\"id\":\"1303\",\"type\":\"Circle\"},\"hover_glyph\":null,\"muted_glyph\":null,\"nonselection_glyph\":{\"id\":\"1304\",\"type\":\"Circle\"},\"selection_glyph\":null,\"view\":{\"id\":\"1306\",\"type\":\"CDSView\"}},\"id\":\"1305\",\"type\":\"GlyphRenderer\"},{\"attributes\":{\"source\":{\"id\":\"1211\",\"type\":\"ColumnDataSource\"}},\"id\":\"1215\",\"type\":\"CDSView\"},{\"attributes\":{\"source\":{\"id\":\"1302\",\"type\":\"ColumnDataSource\"}},\"id\":\"1306\",\"type\":\"CDSView\"},{\"attributes\":{\"fill_alpha\":{\"value\":0.1},\"fill_color\":{\"value\":\"#1f77b4\"},\"line_alpha\":{\"value\":0.1},\"line_color\":{\"value\":\"#1f77b4\"},\"x\":{\"field\":\"x\"},\"y\":{\"field\":\"y\"}},\"id\":\"1136\",\"type\":\"Scatter\"},{\"attributes\":{\"callback\":null,\"data\":{\"x\":{\"__ndarray__\":\"8mS0/cAV+T+EhHEtTP2rP0gghHaRCPG/1/xLvCLcyD9leLF+3c/lPyF3TLVLPuu/wsItJK6E8b+CSmdxnID0PwnpZIDQLATA7VrPi1kO3r+7TGHer5nkv7i+XRlv1fY/vPaHpZtG+T89rpfQyAzbv2rdEc31Fte/dHoh1d2M4j+ltXmD7BH1v0UIbOg4Xta/Z3Q/+b976r+nO47EjX3xvziOSiYMs/W/YVEGP8hD/j84FkBW1ZTUv9ISwgDvvMo/aBQkN1D+6T/4MAa0MTXTP6nO0u9Y9OQ/MqDzl67e4L9aMwsV7XvpPx5CpPpNAPQ/1vnvolQW2z8BmTjaYkPrP2LhlZgEquG/PFOjypCwz79DVEnduU/uv54klCMHa/g/t6UBpEP63z99qXR/W1LMv20xOiB70t8/FNxURH9puz/iesv1FqPuP9L34YW/FNQ/OVhGmdO+8b/83CzbgPLlPwWxqEnMPNq/4fOnKmu5mr9VT1BUBGnCP+vWdb/JBqO/fhdXtbuC4T/O4hCFiU4AQLX8y1Od5vg/p1Rwb97w179pUbuuCnjgv1DMtOXhxti/y4dv1FXm5L+hPWbqC/jrv/VUdNxlSPI//KQHKLRX8z/jXhVAe7/gvwuOTvbWSsG/t3yIDSvi7r8M6cATQZHwvyPuBnzNxLc/rZDgaPcv2j9oZ2qwil/1P4rqPULrj+0/ppdhD5txsj8syXeCOD22v9Isvap8T6M/jHxiFWjT5D+/gF0bw8rLv2vAvPwDTcY/MEIAiWPW9L9KeKCvy2H0v1Aj5Imse5A/imuZ5czB0D//+32ahQrXPzQsTO9T3tE/e3sPyKu17783BkNpYO3vP7anLOWdBOQ/Lbwr9Py54D+Yipq/JPmFP7pjL4S0+uS/xIBp1TCt4L9WuDjTv4YCQHC8vw2tW/q/5+fMDarWy79aco4rFIPYv4+cFLLWXOg/KTexgHfU9z8M5N5cgpnXPwqvhZXRLPK/k+AgH41e5b8yQuIZF1LAvydlotk5/QFAsaTv4N1MAMDOkKax7S+pv53qk3eqeNI/1ePMTh27lL8=\",\"dtype\":\"float64\",\"shape\":[100]},\"y\":{\"__ndarray__\":\"U8fGmOHs3L/tuvIvP4fwv8QpTh5FL/s/+9WiphNAyj+IUOK1WOXtPzqP9im7RtM/UQkuTIum8L+R9fW8lk3tP4MN6DrVt+E/eYAUQvEB8j+ZYi5miYDcvw0ZNWMd3vA/LU58hGtZ/j88aGyrjBLzvzMiJtMiO+c/CpVNJaZP9L/4rmuuyqPeP3T+lK3Tqte/p+3VBByN8z89u7JLkX75v2CdiE9F4Pc/U2TOl3J83b/rQ2Cmr3rkP9U3/J8BlM4/MpJJzsgb/b++1ZGYQgroPzNUCPA/Je0/0r2flXoO0z+gIUPHAt/7v5f89dzEaNw/WhzML3VHyz/DI8dIBT7ovzgBJr2If7M/XYD2cMhX9b9BGOPKROrRP1eUFXiURPS/WHGvZseh97/5+sMOSM3zv1gZfHhQL/Y/XdRLMa1P2z9tdUAGUS/yPzjNxzrIOPc/Qaqn+Xoj2z9Lnp5TJHKgv3Cq2jq39uu/78wW5tOv4D9YD59O1ZHZP5AT8S/CzuS/9Mg/vgN+4r8fUopYpbLRvzs2Rh8x8/E/wuIYPRGBAUDl9UVLqO25P/Q9yL+CTtu/QaYkojvi8L+MfDOtOwLVv0o6Lwhzpti/Dpm4+MjO1D+R5G92FrDYv/jkQgj+s8G/ILPk9N4oA8BmUM6JIijov0Kas6PV1fO/SPVQ7nnG2b8QXrPEJinIP/sXjn5BW+M/tQ+xrzVA9D90RYzp6S/xPwUCwwVhguG/fE2Er5Rx4j9dRiIbe23vP2JoRBO4EAXAtzj9mwou9T/NZ94l25bYP9YZxe+P3fk/RrTpwcxD2z+6JMskEKCXv+VRjquOvNG/Qx6/drpA5b+7cnQX3rPSP70yqWbHUY4/d0PA0DGw87/gumSGQTrAv2a59MHr0+g/hZNnlH9W4T96pV1sdbrvP3w4v3of4++/7IKtGoCB4r81ggJ+4j27P2uNGU5oTNi/JnPDTv26s7+kBKjBstPNv/d8Ec1RpM4/2aO3kONI/L+hAHU55tfgv/LOe5gLfeW/t/CVeGsA+z98Hlvv5UfeP6JG7Y2/Qri/uTDMQmjD1z8=\",\"dtype\":\"float64\",\"shape\":[100]}},\"selected\":{\"id\":\"1233\",\"type\":\"Selection\"},\"selection_policy\":{\"id\":\"1234\",\"type\":\"UnionRenderers\"}},\"id\":\"1211\",\"type\":\"ColumnDataSource\"},{\"attributes\":{\"source\":{\"id\":\"1134\",\"type\":\"ColumnDataSource\"}},\"id\":\"1138\",\"type\":\"CDSView\"},{\"attributes\":{},\"id\":\"1154\",\"type\":\"Selection\"},{\"attributes\":{\"callback\":null,\"data\":{\"x\":{\"__ndarray__\":\"8mS0/cAV+T+EhHEtTP2rP0gghHaRCPG/1/xLvCLcyD9leLF+3c/lPyF3TLVLPuu/wsItJK6E8b+CSmdxnID0PwnpZIDQLATA7VrPi1kO3r+7TGHer5nkv7i+XRlv1fY/vPaHpZtG+T89rpfQyAzbv2rdEc31Fte/dHoh1d2M4j+ltXmD7BH1v0UIbOg4Xta/Z3Q/+b976r+nO47EjX3xvziOSiYMs/W/YVEGP8hD/j84FkBW1ZTUv9ISwgDvvMo/aBQkN1D+6T/4MAa0MTXTP6nO0u9Y9OQ/MqDzl67e4L9aMwsV7XvpPx5CpPpNAPQ/1vnvolQW2z8BmTjaYkPrP2LhlZgEquG/PFOjypCwz79DVEnduU/uv54klCMHa/g/t6UBpEP63z99qXR/W1LMv20xOiB70t8/FNxURH9puz/iesv1FqPuP9L34YW/FNQ/OVhGmdO+8b/83CzbgPLlPwWxqEnMPNq/4fOnKmu5mr9VT1BUBGnCP+vWdb/JBqO/fhdXtbuC4T/O4hCFiU4AQLX8y1Od5vg/p1Rwb97w179pUbuuCnjgv1DMtOXhxti/y4dv1FXm5L+hPWbqC/jrv/VUdNxlSPI//KQHKLRX8z/jXhVAe7/gvwuOTvbWSsG/t3yIDSvi7r8M6cATQZHwvyPuBnzNxLc/rZDgaPcv2j9oZ2qwil/1P4rqPULrj+0/ppdhD5txsj8syXeCOD22v9Isvap8T6M/jHxiFWjT5D+/gF0bw8rLv2vAvPwDTcY/MEIAiWPW9L9KeKCvy2H0v1Aj5Imse5A/imuZ5czB0D//+32ahQrXPzQsTO9T3tE/e3sPyKu17783BkNpYO3vP7anLOWdBOQ/Lbwr9Py54D+Yipq/JPmFP7pjL4S0+uS/xIBp1TCt4L9WuDjTv4YCQHC8vw2tW/q/5+fMDarWy79aco4rFIPYv4+cFLLWXOg/KTexgHfU9z8M5N5cgpnXPwqvhZXRLPK/k+AgH41e5b8yQuIZF1LAvydlotk5/QFAsaTv4N1MAMDOkKax7S+pv53qk3eqeNI/1ePMTh27lL8=\",\"dtype\":\"float64\",\"shape\":[100]},\"y\":{\"__ndarray__\":\"U8fGmOHs3L/tuvIvP4fwv8QpTh5FL/s/+9WiphNAyj+IUOK1WOXtPzqP9im7RtM/UQkuTIum8L+R9fW8lk3tP4MN6DrVt+E/eYAUQvEB8j+ZYi5miYDcvw0ZNWMd3vA/LU58hGtZ/j88aGyrjBLzvzMiJtMiO+c/CpVNJaZP9L/4rmuuyqPeP3T+lK3Tqte/p+3VBByN8z89u7JLkX75v2CdiE9F4Pc/U2TOl3J83b/rQ2Cmr3rkP9U3/J8BlM4/MpJJzsgb/b++1ZGYQgroPzNUCPA/Je0/0r2flXoO0z+gIUPHAt/7v5f89dzEaNw/WhzML3VHyz/DI8dIBT7ovzgBJr2If7M/XYD2cMhX9b9BGOPKROrRP1eUFXiURPS/WHGvZseh97/5+sMOSM3zv1gZfHhQL/Y/XdRLMa1P2z9tdUAGUS/yPzjNxzrIOPc/Qaqn+Xoj2z9Lnp5TJHKgv3Cq2jq39uu/78wW5tOv4D9YD59O1ZHZP5AT8S/CzuS/9Mg/vgN+4r8fUopYpbLRvzs2Rh8x8/E/wuIYPRGBAUDl9UVLqO25P/Q9yL+CTtu/QaYkojvi8L+MfDOtOwLVv0o6Lwhzpti/Dpm4+MjO1D+R5G92FrDYv/jkQgj+s8G/ILPk9N4oA8BmUM6JIijov0Kas6PV1fO/SPVQ7nnG2b8QXrPEJinIP/sXjn5BW+M/tQ+xrzVA9D90RYzp6S/xPwUCwwVhguG/fE2Er5Rx4j9dRiIbe23vP2JoRBO4EAXAtzj9mwou9T/NZ94l25bYP9YZxe+P3fk/RrTpwcxD2z+6JMskEKCXv+VRjquOvNG/Qx6/drpA5b+7cnQX3rPSP70yqWbHUY4/d0PA0DGw87/gumSGQTrAv2a59MHr0+g/hZNnlH9W4T96pV1sdbrvP3w4v3of4++/7IKtGoCB4r81ggJ+4j27P2uNGU5oTNi/JnPDTv26s7+kBKjBstPNv/d8Ec1RpM4/2aO3kONI/L+hAHU55tfgv/LOe5gLfeW/t/CVeGsA+z98Hlvv5UfeP6JG7Y2/Qri/uTDMQmjD1z8=\",\"dtype\":\"float64\",\"shape\":[100]}},\"selected\":{\"id\":\"1154\",\"type\":\"Selection\"},\"selection_policy\":{\"id\":\"1155\",\"type\":\"UnionRenderers\"}},\"id\":\"1134\",\"type\":\"ColumnDataSource\"},{\"attributes\":{\"fill_color\":{\"value\":\"#1f77b4\"},\"line_color\":{\"value\":\"#1f77b4\"},\"x\":{\"field\":\"x\"},\"y\":{\"field\":\"y\"}},\"id\":\"1135\",\"type\":\"Scatter\"},{\"attributes\":{},\"id\":\"1107\",\"type\":\"LinearScale\"},{\"attributes\":{},\"id\":\"1125\",\"type\":\"ResetTool\"},{\"attributes\":{},\"id\":\"1152\",\"type\":\"BasicTickFormatter\"},{\"attributes\":{\"callback\":null},\"id\":\"1105\",\"type\":\"DataRange1d\"},{\"attributes\":{},\"id\":\"1126\",\"type\":\"HelpTool\"},{\"attributes\":{},\"id\":\"1155\",\"type\":\"UnionRenderers\"},{\"attributes\":{},\"id\":\"1326\",\"type\":\"Selection\"},{\"attributes\":{},\"id\":\"1233\",\"type\":\"Selection\"},{\"attributes\":{\"bottom_units\":\"screen\",\"fill_alpha\":{\"value\":0.5},\"fill_color\":{\"value\":\"lightgrey\"},\"left_units\":\"screen\",\"level\":\"overlay\",\"line_alpha\":{\"value\":1.0},\"line_color\":{\"value\":\"black\"},\"line_dash\":[4,4],\"line_width\":{\"value\":2},\"render_mode\":\"css\",\"right_units\":\"screen\",\"top_units\":\"screen\"},\"id\":\"1156\",\"type\":\"BoxAnnotation\"},{\"attributes\":{},\"id\":\"1234\",\"type\":\"UnionRenderers\"},{\"attributes\":{\"fill_color\":{\"value\":\"#1f77b4\"},\"line_color\":{\"value\":\"#1f77b4\"},\"x\":{\"field\":\"x\"},\"y\":{\"field\":\"y\"}},\"id\":\"1303\",\"type\":\"Circle\"},{\"attributes\":{},\"id\":\"1150\",\"type\":\"BasicTickFormatter\"},{\"attributes\":{\"fill_alpha\":{\"value\":0.1},\"fill_color\":{\"value\":\"#1f77b4\"},\"line_alpha\":{\"value\":0.1},\"line_color\":{\"value\":\"#1f77b4\"},\"x\":{\"field\":\"x\"},\"y\":{\"field\":\"y\"}},\"id\":\"1304\",\"type\":\"Circle\"},{\"attributes\":{\"active_drag\":\"auto\",\"active_inspect\":\"auto\",\"active_multi\":null,\"active_scroll\":\"auto\",\"active_tap\":\"auto\",\"tools\":[{\"id\":\"1121\",\"type\":\"PanTool\"},{\"id\":\"1122\",\"type\":\"WheelZoomTool\"},{\"id\":\"1123\",\"type\":\"BoxZoomTool\"},{\"id\":\"1124\",\"type\":\"SaveTool\"},{\"id\":\"1125\",\"type\":\"ResetTool\"},{\"id\":\"1126\",\"type\":\"HelpTool\"}]},\"id\":\"1127\",\"type\":\"Toolbar\"},{\"attributes\":{\"callback\":null},\"id\":\"1103\",\"type\":\"DataRange1d\"},{\"attributes\":{\"overlay\":{\"id\":\"1156\",\"type\":\"BoxAnnotation\"}},\"id\":\"1123\",\"type\":\"BoxZoomTool\"}],\"root_ids\":[\"1102\"]},\"title\":\"Bokeh Application\",\"version\":\"1.2.0\"}};\n",
       "  var render_items = [{\"docid\":\"a34489ea-eac5-42cd-8154-3e39c9130752\",\"roots\":{\"1102\":\"8258f53e-20c2-48a1-958e-73c684a15306\"}}];\n",
       "  root.Bokeh.embed.embed_items_notebook(docs_json, render_items);\n",
       "\n",
       "  }\n",
       "  if (root.Bokeh !== undefined) {\n",
       "    embed_document(root);\n",
       "  } else {\n",
       "    var attempts = 0;\n",
       "    var timer = setInterval(function(root) {\n",
       "      if (root.Bokeh !== undefined) {\n",
       "        embed_document(root);\n",
       "        clearInterval(timer);\n",
       "      }\n",
       "      attempts++;\n",
       "      if (attempts > 100) {\n",
       "        console.log(\"Bokeh: ERROR: Unable to run BokehJS code because BokehJS library is missing\");\n",
       "        clearInterval(timer);\n",
       "      }\n",
       "    }, 10, root)\n",
       "  }\n",
       "})(window);"
      ],
      "application/vnd.bokehjs_exec.v0+json": ""
     },
     "metadata": {
      "application/vnd.bokehjs_exec.v0+json": {
       "id": "1102"
      }
     },
     "output_type": "display_data"
    }
   ],
   "source": [
    "f.circle(x,y)\n",
    "show(f)"
   ]
  },
  {
   "cell_type": "markdown",
   "metadata": {
    "colab_type": "text",
    "id": "Qgh9p8eDzaHn"
   },
   "source": [
    "Creating a Bokeh chart from a dataframe."
   ]
  },
  {
   "cell_type": "code",
   "execution_count": 9,
   "metadata": {
    "colab": {
     "base_uri": "https://localhost:8080/",
     "height": 206
    },
    "colab_type": "code",
    "id": "0tczemwjyqs-",
    "outputId": "bd0cc302-1184-48a4-bf5e-285eedb5acd7"
   },
   "outputs": [
    {
     "data": {
      "text/html": [
       "<div>\n",
       "<style scoped>\n",
       "    .dataframe tbody tr th:only-of-type {\n",
       "        vertical-align: middle;\n",
       "    }\n",
       "\n",
       "    .dataframe tbody tr th {\n",
       "        vertical-align: top;\n",
       "    }\n",
       "\n",
       "    .dataframe thead th {\n",
       "        text-align: right;\n",
       "    }\n",
       "</style>\n",
       "<table border=\"1\" class=\"dataframe\">\n",
       "  <thead>\n",
       "    <tr style=\"text-align: right;\">\n",
       "      <th></th>\n",
       "      <th>x</th>\n",
       "      <th>y</th>\n",
       "    </tr>\n",
       "  </thead>\n",
       "  <tbody>\n",
       "    <tr>\n",
       "      <th>0</th>\n",
       "      <td>1.567811</td>\n",
       "      <td>-0.451958</td>\n",
       "    </tr>\n",
       "    <tr>\n",
       "      <th>1</th>\n",
       "      <td>0.054667</td>\n",
       "      <td>-1.033019</td>\n",
       "    </tr>\n",
       "    <tr>\n",
       "      <th>2</th>\n",
       "      <td>-1.064592</td>\n",
       "      <td>1.699041</td>\n",
       "    </tr>\n",
       "    <tr>\n",
       "      <th>3</th>\n",
       "      <td>0.194218</td>\n",
       "      <td>0.205080</td>\n",
       "    </tr>\n",
       "    <tr>\n",
       "      <th>4</th>\n",
       "      <td>0.681624</td>\n",
       "      <td>0.934246</td>\n",
       "    </tr>\n",
       "  </tbody>\n",
       "</table>\n",
       "</div>"
      ],
      "text/plain": [
       "          x         y\n",
       "0  1.567811 -0.451958\n",
       "1  0.054667 -1.033019\n",
       "2 -1.064592  1.699041\n",
       "3  0.194218  0.205080\n",
       "4  0.681624  0.934246"
      ]
     },
     "execution_count": 9,
     "metadata": {},
     "output_type": "execute_result"
    }
   ],
   "source": [
    "# Creating a chart from the Pandas DataFrame\n",
    "\n",
    "df = pd.DataFrame({'x': x,\n",
    "                   'y': y})\n",
    "df.head()"
   ]
  },
  {
   "cell_type": "code",
   "execution_count": 10,
   "metadata": {
    "colab": {
     "base_uri": "https://localhost:8080/",
     "height": 617
    },
    "colab_type": "code",
    "id": "7WX2xCMgzHJW",
    "outputId": "0a67e184-9061-4191-ff96-fb96259a5350"
   },
   "outputs": [
    {
     "data": {
      "text/html": [
       "\n",
       "\n",
       "\n",
       "\n",
       "\n",
       "\n",
       "  <div class=\"bk-root\" id=\"a5faefce-abb0-47f6-a166-ed2584b93866\" data-root-id=\"1407\"></div>\n"
      ]
     },
     "metadata": {},
     "output_type": "display_data"
    },
    {
     "data": {
      "application/javascript": [
       "(function(root) {\n",
       "  function embed_document(root) {\n",
       "    \n",
       "  var docs_json = {\"22840206-af4e-48ef-89a3-3d8adcce2900\":{\"roots\":{\"references\":[{\"attributes\":{\"below\":[{\"id\":\"1416\",\"type\":\"LinearAxis\"}],\"center\":[{\"id\":\"1420\",\"type\":\"Grid\"},{\"id\":\"1425\",\"type\":\"Grid\"}],\"left\":[{\"id\":\"1421\",\"type\":\"LinearAxis\"}],\"renderers\":[{\"id\":\"1442\",\"type\":\"GlyphRenderer\"}],\"title\":{\"id\":\"1467\",\"type\":\"Title\"},\"toolbar\":{\"id\":\"1432\",\"type\":\"Toolbar\"},\"x_range\":{\"id\":\"1408\",\"type\":\"DataRange1d\"},\"x_scale\":{\"id\":\"1412\",\"type\":\"LinearScale\"},\"y_range\":{\"id\":\"1410\",\"type\":\"DataRange1d\"},\"y_scale\":{\"id\":\"1414\",\"type\":\"LinearScale\"}},\"id\":\"1407\",\"subtype\":\"Figure\",\"type\":\"Plot\"},{\"attributes\":{\"active_drag\":\"auto\",\"active_inspect\":\"auto\",\"active_multi\":null,\"active_scroll\":\"auto\",\"active_tap\":\"auto\",\"tools\":[{\"id\":\"1426\",\"type\":\"PanTool\"},{\"id\":\"1427\",\"type\":\"WheelZoomTool\"},{\"id\":\"1428\",\"type\":\"BoxZoomTool\"},{\"id\":\"1429\",\"type\":\"SaveTool\"},{\"id\":\"1430\",\"type\":\"ResetTool\"},{\"id\":\"1431\",\"type\":\"HelpTool\"}]},\"id\":\"1432\",\"type\":\"Toolbar\"},{\"attributes\":{},\"id\":\"1426\",\"type\":\"PanTool\"},{\"attributes\":{},\"id\":\"1427\",\"type\":\"WheelZoomTool\"},{\"attributes\":{\"overlay\":{\"id\":\"1474\",\"type\":\"BoxAnnotation\"}},\"id\":\"1428\",\"type\":\"BoxZoomTool\"},{\"attributes\":{\"callback\":null},\"id\":\"1408\",\"type\":\"DataRange1d\"},{\"attributes\":{},\"id\":\"1429\",\"type\":\"SaveTool\"},{\"attributes\":{\"fill_color\":{\"value\":\"#1f77b4\"},\"line_color\":{\"value\":\"#1f77b4\"},\"x\":{\"field\":\"x\"},\"y\":{\"field\":\"y\"}},\"id\":\"1440\",\"type\":\"Circle\"},{\"attributes\":{},\"id\":\"1430\",\"type\":\"ResetTool\"},{\"attributes\":{},\"id\":\"1431\",\"type\":\"HelpTool\"},{\"attributes\":{\"callback\":null},\"id\":\"1410\",\"type\":\"DataRange1d\"},{\"attributes\":{\"data_source\":{\"id\":\"1439\",\"type\":\"ColumnDataSource\"},\"glyph\":{\"id\":\"1440\",\"type\":\"Circle\"},\"hover_glyph\":null,\"muted_glyph\":null,\"nonselection_glyph\":{\"id\":\"1441\",\"type\":\"Circle\"},\"selection_glyph\":null,\"view\":{\"id\":\"1443\",\"type\":\"CDSView\"}},\"id\":\"1442\",\"type\":\"GlyphRenderer\"},{\"attributes\":{\"text\":\"\"},\"id\":\"1467\",\"type\":\"Title\"},{\"attributes\":{},\"id\":\"1412\",\"type\":\"LinearScale\"},{\"attributes\":{\"fill_alpha\":{\"value\":0.1},\"fill_color\":{\"value\":\"#1f77b4\"},\"line_alpha\":{\"value\":0.1},\"line_color\":{\"value\":\"#1f77b4\"},\"x\":{\"field\":\"x\"},\"y\":{\"field\":\"y\"}},\"id\":\"1441\",\"type\":\"Circle\"},{\"attributes\":{},\"id\":\"1414\",\"type\":\"LinearScale\"},{\"attributes\":{\"formatter\":{\"id\":\"1470\",\"type\":\"BasicTickFormatter\"},\"ticker\":{\"id\":\"1417\",\"type\":\"BasicTicker\"}},\"id\":\"1416\",\"type\":\"LinearAxis\"},{\"attributes\":{\"source\":{\"id\":\"1439\",\"type\":\"ColumnDataSource\"}},\"id\":\"1443\",\"type\":\"CDSView\"},{\"attributes\":{},\"id\":\"1417\",\"type\":\"BasicTicker\"},{\"attributes\":{},\"id\":\"1468\",\"type\":\"BasicTickFormatter\"},{\"attributes\":{\"ticker\":{\"id\":\"1417\",\"type\":\"BasicTicker\"}},\"id\":\"1420\",\"type\":\"Grid\"},{\"attributes\":{},\"id\":\"1470\",\"type\":\"BasicTickFormatter\"},{\"attributes\":{\"formatter\":{\"id\":\"1468\",\"type\":\"BasicTickFormatter\"},\"ticker\":{\"id\":\"1422\",\"type\":\"BasicTicker\"}},\"id\":\"1421\",\"type\":\"LinearAxis\"},{\"attributes\":{},\"id\":\"1472\",\"type\":\"Selection\"},{\"attributes\":{},\"id\":\"1422\",\"type\":\"BasicTicker\"},{\"attributes\":{},\"id\":\"1473\",\"type\":\"UnionRenderers\"},{\"attributes\":{\"dimension\":1,\"ticker\":{\"id\":\"1422\",\"type\":\"BasicTicker\"}},\"id\":\"1425\",\"type\":\"Grid\"},{\"attributes\":{\"bottom_units\":\"screen\",\"fill_alpha\":{\"value\":0.5},\"fill_color\":{\"value\":\"lightgrey\"},\"left_units\":\"screen\",\"level\":\"overlay\",\"line_alpha\":{\"value\":1.0},\"line_color\":{\"value\":\"black\"},\"line_dash\":[4,4],\"line_width\":{\"value\":2},\"render_mode\":\"css\",\"right_units\":\"screen\",\"top_units\":\"screen\"},\"id\":\"1474\",\"type\":\"BoxAnnotation\"},{\"attributes\":{\"callback\":null,\"data\":{\"x\":{\"__ndarray__\":\"8mS0/cAV+T+EhHEtTP2rP0gghHaRCPG/1/xLvCLcyD9leLF+3c/lPyF3TLVLPuu/wsItJK6E8b+CSmdxnID0PwnpZIDQLATA7VrPi1kO3r+7TGHer5nkv7i+XRlv1fY/vPaHpZtG+T89rpfQyAzbv2rdEc31Fte/dHoh1d2M4j+ltXmD7BH1v0UIbOg4Xta/Z3Q/+b976r+nO47EjX3xvziOSiYMs/W/YVEGP8hD/j84FkBW1ZTUv9ISwgDvvMo/aBQkN1D+6T/4MAa0MTXTP6nO0u9Y9OQ/MqDzl67e4L9aMwsV7XvpPx5CpPpNAPQ/1vnvolQW2z8BmTjaYkPrP2LhlZgEquG/PFOjypCwz79DVEnduU/uv54klCMHa/g/t6UBpEP63z99qXR/W1LMv20xOiB70t8/FNxURH9puz/iesv1FqPuP9L34YW/FNQ/OVhGmdO+8b/83CzbgPLlPwWxqEnMPNq/4fOnKmu5mr9VT1BUBGnCP+vWdb/JBqO/fhdXtbuC4T/O4hCFiU4AQLX8y1Od5vg/p1Rwb97w179pUbuuCnjgv1DMtOXhxti/y4dv1FXm5L+hPWbqC/jrv/VUdNxlSPI//KQHKLRX8z/jXhVAe7/gvwuOTvbWSsG/t3yIDSvi7r8M6cATQZHwvyPuBnzNxLc/rZDgaPcv2j9oZ2qwil/1P4rqPULrj+0/ppdhD5txsj8syXeCOD22v9Isvap8T6M/jHxiFWjT5D+/gF0bw8rLv2vAvPwDTcY/MEIAiWPW9L9KeKCvy2H0v1Aj5Imse5A/imuZ5czB0D//+32ahQrXPzQsTO9T3tE/e3sPyKu17783BkNpYO3vP7anLOWdBOQ/Lbwr9Py54D+Yipq/JPmFP7pjL4S0+uS/xIBp1TCt4L9WuDjTv4YCQHC8vw2tW/q/5+fMDarWy79aco4rFIPYv4+cFLLWXOg/KTexgHfU9z8M5N5cgpnXPwqvhZXRLPK/k+AgH41e5b8yQuIZF1LAvydlotk5/QFAsaTv4N1MAMDOkKax7S+pv53qk3eqeNI/1ePMTh27lL8=\",\"dtype\":\"float64\",\"shape\":[100]},\"y\":{\"__ndarray__\":\"U8fGmOHs3L/tuvIvP4fwv8QpTh5FL/s/+9WiphNAyj+IUOK1WOXtPzqP9im7RtM/UQkuTIum8L+R9fW8lk3tP4MN6DrVt+E/eYAUQvEB8j+ZYi5miYDcvw0ZNWMd3vA/LU58hGtZ/j88aGyrjBLzvzMiJtMiO+c/CpVNJaZP9L/4rmuuyqPeP3T+lK3Tqte/p+3VBByN8z89u7JLkX75v2CdiE9F4Pc/U2TOl3J83b/rQ2Cmr3rkP9U3/J8BlM4/MpJJzsgb/b++1ZGYQgroPzNUCPA/Je0/0r2flXoO0z+gIUPHAt/7v5f89dzEaNw/WhzML3VHyz/DI8dIBT7ovzgBJr2If7M/XYD2cMhX9b9BGOPKROrRP1eUFXiURPS/WHGvZseh97/5+sMOSM3zv1gZfHhQL/Y/XdRLMa1P2z9tdUAGUS/yPzjNxzrIOPc/Qaqn+Xoj2z9Lnp5TJHKgv3Cq2jq39uu/78wW5tOv4D9YD59O1ZHZP5AT8S/CzuS/9Mg/vgN+4r8fUopYpbLRvzs2Rh8x8/E/wuIYPRGBAUDl9UVLqO25P/Q9yL+CTtu/QaYkojvi8L+MfDOtOwLVv0o6Lwhzpti/Dpm4+MjO1D+R5G92FrDYv/jkQgj+s8G/ILPk9N4oA8BmUM6JIijov0Kas6PV1fO/SPVQ7nnG2b8QXrPEJinIP/sXjn5BW+M/tQ+xrzVA9D90RYzp6S/xPwUCwwVhguG/fE2Er5Rx4j9dRiIbe23vP2JoRBO4EAXAtzj9mwou9T/NZ94l25bYP9YZxe+P3fk/RrTpwcxD2z+6JMskEKCXv+VRjquOvNG/Qx6/drpA5b+7cnQX3rPSP70yqWbHUY4/d0PA0DGw87/gumSGQTrAv2a59MHr0+g/hZNnlH9W4T96pV1sdbrvP3w4v3of4++/7IKtGoCB4r81ggJ+4j27P2uNGU5oTNi/JnPDTv26s7+kBKjBstPNv/d8Ec1RpM4/2aO3kONI/L+hAHU55tfgv/LOe5gLfeW/t/CVeGsA+z98Hlvv5UfeP6JG7Y2/Qri/uTDMQmjD1z8=\",\"dtype\":\"float64\",\"shape\":[100]}},\"selected\":{\"id\":\"1472\",\"type\":\"Selection\"},\"selection_policy\":{\"id\":\"1473\",\"type\":\"UnionRenderers\"}},\"id\":\"1439\",\"type\":\"ColumnDataSource\"}],\"root_ids\":[\"1407\"]},\"title\":\"Bokeh Application\",\"version\":\"1.2.0\"}};\n",
       "  var render_items = [{\"docid\":\"22840206-af4e-48ef-89a3-3d8adcce2900\",\"roots\":{\"1407\":\"a5faefce-abb0-47f6-a166-ed2584b93866\"}}];\n",
       "  root.Bokeh.embed.embed_items_notebook(docs_json, render_items);\n",
       "\n",
       "  }\n",
       "  if (root.Bokeh !== undefined) {\n",
       "    embed_document(root);\n",
       "  } else {\n",
       "    var attempts = 0;\n",
       "    var timer = setInterval(function(root) {\n",
       "      if (root.Bokeh !== undefined) {\n",
       "        embed_document(root);\n",
       "        clearInterval(timer);\n",
       "      }\n",
       "      attempts++;\n",
       "      if (attempts > 100) {\n",
       "        console.log(\"Bokeh: ERROR: Unable to run BokehJS code because BokehJS library is missing\");\n",
       "        clearInterval(timer);\n",
       "      }\n",
       "    }, 10, root)\n",
       "  }\n",
       "})(window);"
      ],
      "application/vnd.bokehjs_exec.v0+json": ""
     },
     "metadata": {
      "application/vnd.bokehjs_exec.v0+json": {
       "id": "1407"
      }
     },
     "output_type": "display_data"
    }
   ],
   "source": [
    "f = figure()\n",
    "f.circle(df['x'], df['y'])\n",
    "show(f)"
   ]
  },
  {
   "cell_type": "markdown",
   "metadata": {
    "colab_type": "text",
    "id": "mSyTzqVFzYCH"
   },
   "source": [
    "Creating more charts using the pandas dataframe. In this chart we will download the data from a website. This data show the percentage of women who have received bachelors degree in engineering."
   ]
  },
  {
   "cell_type": "code",
   "execution_count": 11,
   "metadata": {
    "colab": {},
    "colab_type": "code",
    "id": "N66-QRNwz96G"
   },
   "outputs": [],
   "source": [
    "df = pd.read_csv('http://pythonhow.com/data/bachelors.csv')"
   ]
  },
  {
   "cell_type": "code",
   "execution_count": 12,
   "metadata": {
    "colab": {
     "base_uri": "https://localhost:8080/",
     "height": 241
    },
    "colab_type": "code",
    "id": "-BBatWS90Dkx",
    "outputId": "df37d6b8-c46b-4cea-fc0e-294fd52f06e3"
   },
   "outputs": [
    {
     "data": {
      "text/html": [
       "<div>\n",
       "<style scoped>\n",
       "    .dataframe tbody tr th:only-of-type {\n",
       "        vertical-align: middle;\n",
       "    }\n",
       "\n",
       "    .dataframe tbody tr th {\n",
       "        vertical-align: top;\n",
       "    }\n",
       "\n",
       "    .dataframe thead th {\n",
       "        text-align: right;\n",
       "    }\n",
       "</style>\n",
       "<table border=\"1\" class=\"dataframe\">\n",
       "  <thead>\n",
       "    <tr style=\"text-align: right;\">\n",
       "      <th></th>\n",
       "      <th>Year</th>\n",
       "      <th>Agriculture</th>\n",
       "      <th>Architecture</th>\n",
       "      <th>Art and Performance</th>\n",
       "      <th>Biology</th>\n",
       "      <th>Business</th>\n",
       "      <th>Communications and Journalism</th>\n",
       "      <th>Computer Science</th>\n",
       "      <th>Education</th>\n",
       "      <th>Engineering</th>\n",
       "      <th>English</th>\n",
       "      <th>Foreign Languages</th>\n",
       "      <th>Health Professions</th>\n",
       "      <th>Math and Statistics</th>\n",
       "      <th>Physical Sciences</th>\n",
       "      <th>Psychology</th>\n",
       "      <th>Public Administration</th>\n",
       "      <th>Social Sciences and History</th>\n",
       "    </tr>\n",
       "  </thead>\n",
       "  <tbody>\n",
       "    <tr>\n",
       "      <th>0</th>\n",
       "      <td>1970</td>\n",
       "      <td>4.229798</td>\n",
       "      <td>11.921005</td>\n",
       "      <td>59.7</td>\n",
       "      <td>29.088363</td>\n",
       "      <td>9.064439</td>\n",
       "      <td>35.3</td>\n",
       "      <td>13.6</td>\n",
       "      <td>74.535328</td>\n",
       "      <td>0.8</td>\n",
       "      <td>65.570923</td>\n",
       "      <td>73.8</td>\n",
       "      <td>77.1</td>\n",
       "      <td>38.0</td>\n",
       "      <td>13.8</td>\n",
       "      <td>44.4</td>\n",
       "      <td>68.4</td>\n",
       "      <td>36.8</td>\n",
       "    </tr>\n",
       "    <tr>\n",
       "      <th>1</th>\n",
       "      <td>1971</td>\n",
       "      <td>5.452797</td>\n",
       "      <td>12.003106</td>\n",
       "      <td>59.9</td>\n",
       "      <td>29.394403</td>\n",
       "      <td>9.503187</td>\n",
       "      <td>35.5</td>\n",
       "      <td>13.6</td>\n",
       "      <td>74.149204</td>\n",
       "      <td>1.0</td>\n",
       "      <td>64.556485</td>\n",
       "      <td>73.9</td>\n",
       "      <td>75.5</td>\n",
       "      <td>39.0</td>\n",
       "      <td>14.9</td>\n",
       "      <td>46.2</td>\n",
       "      <td>65.5</td>\n",
       "      <td>36.2</td>\n",
       "    </tr>\n",
       "    <tr>\n",
       "      <th>2</th>\n",
       "      <td>1972</td>\n",
       "      <td>7.420710</td>\n",
       "      <td>13.214594</td>\n",
       "      <td>60.4</td>\n",
       "      <td>29.810221</td>\n",
       "      <td>10.558962</td>\n",
       "      <td>36.6</td>\n",
       "      <td>14.9</td>\n",
       "      <td>73.554520</td>\n",
       "      <td>1.2</td>\n",
       "      <td>63.664263</td>\n",
       "      <td>74.6</td>\n",
       "      <td>76.9</td>\n",
       "      <td>40.2</td>\n",
       "      <td>14.8</td>\n",
       "      <td>47.6</td>\n",
       "      <td>62.6</td>\n",
       "      <td>36.1</td>\n",
       "    </tr>\n",
       "    <tr>\n",
       "      <th>3</th>\n",
       "      <td>1973</td>\n",
       "      <td>9.653602</td>\n",
       "      <td>14.791613</td>\n",
       "      <td>60.2</td>\n",
       "      <td>31.147915</td>\n",
       "      <td>12.804602</td>\n",
       "      <td>38.4</td>\n",
       "      <td>16.4</td>\n",
       "      <td>73.501814</td>\n",
       "      <td>1.6</td>\n",
       "      <td>62.941502</td>\n",
       "      <td>74.9</td>\n",
       "      <td>77.4</td>\n",
       "      <td>40.9</td>\n",
       "      <td>16.5</td>\n",
       "      <td>50.4</td>\n",
       "      <td>64.3</td>\n",
       "      <td>36.4</td>\n",
       "    </tr>\n",
       "    <tr>\n",
       "      <th>4</th>\n",
       "      <td>1974</td>\n",
       "      <td>14.074623</td>\n",
       "      <td>17.444688</td>\n",
       "      <td>61.9</td>\n",
       "      <td>32.996183</td>\n",
       "      <td>16.204850</td>\n",
       "      <td>40.5</td>\n",
       "      <td>18.9</td>\n",
       "      <td>73.336811</td>\n",
       "      <td>2.2</td>\n",
       "      <td>62.413412</td>\n",
       "      <td>75.3</td>\n",
       "      <td>77.9</td>\n",
       "      <td>41.8</td>\n",
       "      <td>18.2</td>\n",
       "      <td>52.6</td>\n",
       "      <td>66.1</td>\n",
       "      <td>37.3</td>\n",
       "    </tr>\n",
       "  </tbody>\n",
       "</table>\n",
       "</div>"
      ],
      "text/plain": [
       "   Year  Agriculture  Architecture  Art and Performance    Biology   Business  \\\n",
       "0  1970     4.229798     11.921005                 59.7  29.088363   9.064439   \n",
       "1  1971     5.452797     12.003106                 59.9  29.394403   9.503187   \n",
       "2  1972     7.420710     13.214594                 60.4  29.810221  10.558962   \n",
       "3  1973     9.653602     14.791613                 60.2  31.147915  12.804602   \n",
       "4  1974    14.074623     17.444688                 61.9  32.996183  16.204850   \n",
       "\n",
       "   Communications and Journalism  Computer Science  Education  Engineering  \\\n",
       "0                           35.3              13.6  74.535328          0.8   \n",
       "1                           35.5              13.6  74.149204          1.0   \n",
       "2                           36.6              14.9  73.554520          1.2   \n",
       "3                           38.4              16.4  73.501814          1.6   \n",
       "4                           40.5              18.9  73.336811          2.2   \n",
       "\n",
       "     English  Foreign Languages  Health Professions  Math and Statistics  \\\n",
       "0  65.570923               73.8                77.1                 38.0   \n",
       "1  64.556485               73.9                75.5                 39.0   \n",
       "2  63.664263               74.6                76.9                 40.2   \n",
       "3  62.941502               74.9                77.4                 40.9   \n",
       "4  62.413412               75.3                77.9                 41.8   \n",
       "\n",
       "   Physical Sciences  Psychology  Public Administration  \\\n",
       "0               13.8        44.4                   68.4   \n",
       "1               14.9        46.2                   65.5   \n",
       "2               14.8        47.6                   62.6   \n",
       "3               16.5        50.4                   64.3   \n",
       "4               18.2        52.6                   66.1   \n",
       "\n",
       "   Social Sciences and History  \n",
       "0                         36.8  \n",
       "1                         36.2  \n",
       "2                         36.1  \n",
       "3                         36.4  \n",
       "4                         37.3  "
      ]
     },
     "execution_count": 12,
     "metadata": {},
     "output_type": "execute_result"
    }
   ],
   "source": [
    "df.head()"
   ]
  },
  {
   "cell_type": "code",
   "execution_count": 13,
   "metadata": {
    "colab": {
     "base_uri": "https://localhost:8080/",
     "height": 617
    },
    "colab_type": "code",
    "id": "zk2awmnj0gT3",
    "outputId": "1f1be7a8-25a9-458d-830e-86d7f096db63"
   },
   "outputs": [
    {
     "data": {
      "text/html": [
       "\n",
       "\n",
       "\n",
       "\n",
       "\n",
       "\n",
       "  <div class=\"bk-root\" id=\"63bfc89e-e896-41d5-a03b-8bd387edea1b\" data-root-id=\"1529\"></div>\n"
      ]
     },
     "metadata": {},
     "output_type": "display_data"
    },
    {
     "data": {
      "application/javascript": [
       "(function(root) {\n",
       "  function embed_document(root) {\n",
       "    \n",
       "  var docs_json = {\"0c87c37f-b637-4f9d-9315-002f9760b2e5\":{\"roots\":{\"references\":[{\"attributes\":{\"below\":[{\"id\":\"1538\",\"type\":\"LinearAxis\"}],\"center\":[{\"id\":\"1542\",\"type\":\"Grid\"},{\"id\":\"1547\",\"type\":\"Grid\"}],\"left\":[{\"id\":\"1543\",\"type\":\"LinearAxis\"}],\"renderers\":[{\"id\":\"1564\",\"type\":\"GlyphRenderer\"}],\"title\":{\"id\":\"1598\",\"type\":\"Title\"},\"toolbar\":{\"id\":\"1554\",\"type\":\"Toolbar\"},\"x_range\":{\"id\":\"1530\",\"type\":\"DataRange1d\"},\"x_scale\":{\"id\":\"1534\",\"type\":\"LinearScale\"},\"y_range\":{\"id\":\"1532\",\"type\":\"DataRange1d\"},\"y_scale\":{\"id\":\"1536\",\"type\":\"LinearScale\"}},\"id\":\"1529\",\"subtype\":\"Figure\",\"type\":\"Plot\"},{\"attributes\":{},\"id\":\"1549\",\"type\":\"WheelZoomTool\"},{\"attributes\":{},\"id\":\"1539\",\"type\":\"BasicTicker\"},{\"attributes\":{\"overlay\":{\"id\":\"1605\",\"type\":\"BoxAnnotation\"}},\"id\":\"1550\",\"type\":\"BoxZoomTool\"},{\"attributes\":{},\"id\":\"1599\",\"type\":\"BasicTickFormatter\"},{\"attributes\":{},\"id\":\"1534\",\"type\":\"LinearScale\"},{\"attributes\":{},\"id\":\"1551\",\"type\":\"SaveTool\"},{\"attributes\":{},\"id\":\"1552\",\"type\":\"ResetTool\"},{\"attributes\":{\"line_color\":\"#1f77b4\",\"x\":{\"field\":\"x\"},\"y\":{\"field\":\"y\"}},\"id\":\"1562\",\"type\":\"Line\"},{\"attributes\":{\"formatter\":{\"id\":\"1599\",\"type\":\"BasicTickFormatter\"},\"ticker\":{\"id\":\"1544\",\"type\":\"BasicTicker\"}},\"id\":\"1543\",\"type\":\"LinearAxis\"},{\"attributes\":{},\"id\":\"1553\",\"type\":\"HelpTool\"},{\"attributes\":{\"callback\":null},\"id\":\"1532\",\"type\":\"DataRange1d\"},{\"attributes\":{},\"id\":\"1536\",\"type\":\"LinearScale\"},{\"attributes\":{\"active_drag\":\"auto\",\"active_inspect\":\"auto\",\"active_multi\":null,\"active_scroll\":\"auto\",\"active_tap\":\"auto\",\"tools\":[{\"id\":\"1548\",\"type\":\"PanTool\"},{\"id\":\"1549\",\"type\":\"WheelZoomTool\"},{\"id\":\"1550\",\"type\":\"BoxZoomTool\"},{\"id\":\"1551\",\"type\":\"SaveTool\"},{\"id\":\"1552\",\"type\":\"ResetTool\"},{\"id\":\"1553\",\"type\":\"HelpTool\"}]},\"id\":\"1554\",\"type\":\"Toolbar\"},{\"attributes\":{\"ticker\":{\"id\":\"1539\",\"type\":\"BasicTicker\"}},\"id\":\"1542\",\"type\":\"Grid\"},{\"attributes\":{\"dimension\":1,\"ticker\":{\"id\":\"1544\",\"type\":\"BasicTicker\"}},\"id\":\"1547\",\"type\":\"Grid\"},{\"attributes\":{\"line_alpha\":0.1,\"line_color\":\"#1f77b4\",\"x\":{\"field\":\"x\"},\"y\":{\"field\":\"y\"}},\"id\":\"1563\",\"type\":\"Line\"},{\"attributes\":{\"data_source\":{\"id\":\"1561\",\"type\":\"ColumnDataSource\"},\"glyph\":{\"id\":\"1562\",\"type\":\"Line\"},\"hover_glyph\":null,\"muted_glyph\":null,\"nonselection_glyph\":{\"id\":\"1563\",\"type\":\"Line\"},\"selection_glyph\":null,\"view\":{\"id\":\"1565\",\"type\":\"CDSView\"}},\"id\":\"1564\",\"type\":\"GlyphRenderer\"},{\"attributes\":{\"source\":{\"id\":\"1561\",\"type\":\"ColumnDataSource\"}},\"id\":\"1565\",\"type\":\"CDSView\"},{\"attributes\":{\"callback\":null,\"data\":{\"x\":[1970,1971,1972,1973,1974,1975,1976,1977,1978,1979,1980,1981,1982,1983,1984,1985,1986,1987,1988,1989,1990,1991,1992,1993,1994,1995,1996,1997,1998,1999,2000,2001,2002,2003,2004,2005,2006,2007,2008,2009,2010,2011],\"y\":{\"__ndarray__\":\"mpmZmZmZ6T8AAAAAAADwPzMzMzMzM/M/mpmZmZmZ+T+amZmZmZkBQJqZmZmZmQlAAAAAAAAAEkAzMzMzMzMbQM3MzMzMzCBAzczMzMzMIkCamZmZmZkkQDMzMzMzMydAzczMzMzMKEAzMzMzMzMqQAAAAAAAACtAAAAAAAAAK0DNzMzMzMwrQAAAAAAAACxAzczMzMzMK0AzMzMzMzMsQDMzMzMzMyxAAAAAAAAALEAAAAAAAAAtQM3MzMzMzC1AZmZmZmZmL0AzMzMzMzMwQDMzMzMzszBAAAAAAAAAMUDNzMzMzMwxQJqZmZmZmTJAZmZmZmZmMkAAAAAAAAAzQDMzMzMzszJAzczMzMzMMkAzMzMzMzMyQGZmZmZm5jFAzczMzMzMMEDNzMzMzMwwQAAAAAAAgDBAzczMzMzMMEAzMzMzMzMxQAAAAAAAgDFA\",\"dtype\":\"float64\",\"shape\":[42]}},\"selected\":{\"id\":\"1603\",\"type\":\"Selection\"},\"selection_policy\":{\"id\":\"1604\",\"type\":\"UnionRenderers\"}},\"id\":\"1561\",\"type\":\"ColumnDataSource\"},{\"attributes\":{\"text\":\"\"},\"id\":\"1598\",\"type\":\"Title\"},{\"attributes\":{},\"id\":\"1601\",\"type\":\"BasicTickFormatter\"},{\"attributes\":{},\"id\":\"1603\",\"type\":\"Selection\"},{\"attributes\":{},\"id\":\"1604\",\"type\":\"UnionRenderers\"},{\"attributes\":{\"bottom_units\":\"screen\",\"fill_alpha\":{\"value\":0.5},\"fill_color\":{\"value\":\"lightgrey\"},\"left_units\":\"screen\",\"level\":\"overlay\",\"line_alpha\":{\"value\":1.0},\"line_color\":{\"value\":\"black\"},\"line_dash\":[4,4],\"line_width\":{\"value\":2},\"render_mode\":\"css\",\"right_units\":\"screen\",\"top_units\":\"screen\"},\"id\":\"1605\",\"type\":\"BoxAnnotation\"},{\"attributes\":{\"formatter\":{\"id\":\"1601\",\"type\":\"BasicTickFormatter\"},\"ticker\":{\"id\":\"1539\",\"type\":\"BasicTicker\"}},\"id\":\"1538\",\"type\":\"LinearAxis\"},{\"attributes\":{},\"id\":\"1548\",\"type\":\"PanTool\"},{\"attributes\":{\"callback\":null},\"id\":\"1530\",\"type\":\"DataRange1d\"},{\"attributes\":{},\"id\":\"1544\",\"type\":\"BasicTicker\"}],\"root_ids\":[\"1529\"]},\"title\":\"Bokeh Application\",\"version\":\"1.2.0\"}};\n",
       "  var render_items = [{\"docid\":\"0c87c37f-b637-4f9d-9315-002f9760b2e5\",\"roots\":{\"1529\":\"63bfc89e-e896-41d5-a03b-8bd387edea1b\"}}];\n",
       "  root.Bokeh.embed.embed_items_notebook(docs_json, render_items);\n",
       "\n",
       "  }\n",
       "  if (root.Bokeh !== undefined) {\n",
       "    embed_document(root);\n",
       "  } else {\n",
       "    var attempts = 0;\n",
       "    var timer = setInterval(function(root) {\n",
       "      if (root.Bokeh !== undefined) {\n",
       "        embed_document(root);\n",
       "        clearInterval(timer);\n",
       "      }\n",
       "      attempts++;\n",
       "      if (attempts > 100) {\n",
       "        console.log(\"Bokeh: ERROR: Unable to run BokehJS code because BokehJS library is missing\");\n",
       "        clearInterval(timer);\n",
       "      }\n",
       "    }, 10, root)\n",
       "  }\n",
       "})(window);"
      ],
      "application/vnd.bokehjs_exec.v0+json": ""
     },
     "metadata": {
      "application/vnd.bokehjs_exec.v0+json": {
       "id": "1529"
      }
     },
     "output_type": "display_data"
    }
   ],
   "source": [
    "f = figure()\n",
    "f.line(df['Year'], df['Engineering'])\n",
    "show(f)"
   ]
  },
  {
   "cell_type": "markdown",
   "metadata": {
    "colab_type": "text",
    "id": "tziNGtd61cDX"
   },
   "source": [
    "This is how we can download the file and read the data into pandas as a dataframe. We can use that data frame to draw a line chart using bokeh"
   ]
  },
  {
   "cell_type": "code",
   "execution_count": 0,
   "metadata": {
    "colab": {},
    "colab_type": "code",
    "id": "MamXggOp14hW"
   },
   "outputs": [],
   "source": []
  }
 ],
 "metadata": {
  "colab": {
   "name": "00-Basic_graphs.ipynb",
   "provenance": []
  },
  "kernelspec": {
   "display_name": "Python 3",
   "language": "python",
   "name": "python3"
  },
  "language_info": {
   "codemirror_mode": {
    "name": "ipython",
    "version": 3
   },
   "file_extension": ".py",
   "mimetype": "text/x-python",
   "name": "python",
   "nbconvert_exporter": "python",
   "pygments_lexer": "ipython3",
   "version": "3.6.5"
  }
 },
 "nbformat": 4,
 "nbformat_minor": 1
}
